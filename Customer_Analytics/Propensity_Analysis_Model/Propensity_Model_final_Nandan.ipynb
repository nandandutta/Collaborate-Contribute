{
 "cells": [
  {
   "cell_type": "markdown",
   "metadata": {},
   "source": [
    "## Import Important Libraries "
   ]
  },
  {
   "cell_type": "code",
   "execution_count": 1,
   "metadata": {},
   "outputs": [],
   "source": [
    "import pandas as pd\n",
    "import numpy as np\n",
    "import os\n",
    "import matplotlib.pylab as plt\n",
    "from sklearn.model_selection  import train_test_split\n",
    "from sklearn.tree import DecisionTreeClassifier\n",
    "from sklearn.metrics import classification_report\n",
    "import sklearn.metrics"
   ]
  },
  {
   "cell_type": "markdown",
   "metadata": {},
   "source": [
    "## Data Understanding"
   ]
  },
  {
   "cell_type": "code",
   "execution_count": 2,
   "metadata": {},
   "outputs": [
    {
     "data": {
      "text/html": [
       "<div>\n",
       "<style scoped>\n",
       "    .dataframe tbody tr th:only-of-type {\n",
       "        vertical-align: middle;\n",
       "    }\n",
       "\n",
       "    .dataframe tbody tr th {\n",
       "        vertical-align: top;\n",
       "    }\n",
       "\n",
       "    .dataframe thead th {\n",
       "        text-align: right;\n",
       "    }\n",
       "</style>\n",
       "<table border=\"1\" class=\"dataframe\">\n",
       "  <thead>\n",
       "    <tr style=\"text-align: right;\">\n",
       "      <th></th>\n",
       "      <th>timestamp</th>\n",
       "      <th>user_id</th>\n",
       "      <th>product_id</th>\n",
       "      <th>cart_value</th>\n",
       "    </tr>\n",
       "  </thead>\n",
       "  <tbody>\n",
       "    <tr>\n",
       "      <th>0</th>\n",
       "      <td>2017-07-26 00:00:12.301</td>\n",
       "      <td>0</td>\n",
       "      <td>H209597</td>\n",
       "      <td>31.50</td>\n",
       "    </tr>\n",
       "    <tr>\n",
       "      <th>1</th>\n",
       "      <td>2017-07-26 00:00:12.388</td>\n",
       "      <td>0</td>\n",
       "      <td>H211370</td>\n",
       "      <td>30.48</td>\n",
       "    </tr>\n",
       "    <tr>\n",
       "      <th>2</th>\n",
       "      <td>2017-07-26 00:00:14.389</td>\n",
       "      <td>0</td>\n",
       "      <td>A282331</td>\n",
       "      <td>51.00</td>\n",
       "    </tr>\n",
       "    <tr>\n",
       "      <th>3</th>\n",
       "      <td>2017-07-26 00:00:16.837</td>\n",
       "      <td>0</td>\n",
       "      <td>H211410</td>\n",
       "      <td>16.74</td>\n",
       "    </tr>\n",
       "    <tr>\n",
       "      <th>4</th>\n",
       "      <td>2017-07-26 00:00:19.625</td>\n",
       "      <td>0</td>\n",
       "      <td>H211801</td>\n",
       "      <td>34.35</td>\n",
       "    </tr>\n",
       "  </tbody>\n",
       "</table>\n",
       "</div>"
      ],
      "text/plain": [
       "                 timestamp  user_id product_id  cart_value\n",
       "0  2017-07-26 00:00:12.301        0    H209597       31.50\n",
       "1  2017-07-26 00:00:12.388        0    H211370       30.48\n",
       "2  2017-07-26 00:00:14.389        0    A282331       51.00\n",
       "3  2017-07-26 00:00:16.837        0    H211410       16.74\n",
       "4  2017-07-26 00:00:19.625        0    H211801       34.35"
      ]
     },
     "execution_count": 2,
     "metadata": {},
     "output_type": "execute_result"
    }
   ],
   "source": [
    "Conversions=pd.read_csv('Problem2_FInalConversions',sep='\\t')\n",
    "Conversions.columns = [\"timestamp\", \"user_id\", \"product_id\", \"cart_value\"]\n",
    "Conversions.head()"
   ]
  },
  {
   "cell_type": "markdown",
   "metadata": {},
   "source": [
    "### Conversions dataset contains the details of the customers to finally purchased from the site\n",
    "- Timestamp: Order purchase timestamp\n",
    "- user_id: unique identifier of the customer\n",
    "- product_id: unique identifier of the product purchased\n",
    "- cart_value: total cart value\n"
   ]
  },
  {
   "cell_type": "code",
   "execution_count": 3,
   "metadata": {},
   "outputs": [
    {
     "data": {
      "text/html": [
       "<div>\n",
       "<style scoped>\n",
       "    .dataframe tbody tr th:only-of-type {\n",
       "        vertical-align: middle;\n",
       "    }\n",
       "\n",
       "    .dataframe tbody tr th {\n",
       "        vertical-align: top;\n",
       "    }\n",
       "\n",
       "    .dataframe thead th {\n",
       "        text-align: right;\n",
       "    }\n",
       "</style>\n",
       "<table border=\"1\" class=\"dataframe\">\n",
       "  <thead>\n",
       "    <tr style=\"text-align: right;\">\n",
       "      <th></th>\n",
       "      <th>timestamp</th>\n",
       "      <th>user_id</th>\n",
       "      <th>browsing_url</th>\n",
       "    </tr>\n",
       "  </thead>\n",
       "  <tbody>\n",
       "    <tr>\n",
       "      <th>0</th>\n",
       "      <td>2017-07-26 00:03:18.448</td>\n",
       "      <td>0</td>\n",
       "      <td>product</td>\n",
       "    </tr>\n",
       "    <tr>\n",
       "      <th>1</th>\n",
       "      <td>2017-07-26 00:36:59.028</td>\n",
       "      <td>0</td>\n",
       "      <td>default</td>\n",
       "    </tr>\n",
       "    <tr>\n",
       "      <th>2</th>\n",
       "      <td>2017-07-26 00:41:17.273</td>\n",
       "      <td>0</td>\n",
       "      <td>product-listing-category</td>\n",
       "    </tr>\n",
       "    <tr>\n",
       "      <th>3</th>\n",
       "      <td>2017-07-26 00:45:39.197</td>\n",
       "      <td>0</td>\n",
       "      <td>content</td>\n",
       "    </tr>\n",
       "    <tr>\n",
       "      <th>4</th>\n",
       "      <td>2017-07-26 00:45:48.487</td>\n",
       "      <td>0</td>\n",
       "      <td>home</td>\n",
       "    </tr>\n",
       "  </tbody>\n",
       "</table>\n",
       "</div>"
      ],
      "text/plain": [
       "                 timestamp  user_id              browsing_url\n",
       "0  2017-07-26 00:03:18.448        0                   product\n",
       "1  2017-07-26 00:36:59.028        0                   default\n",
       "2  2017-07-26 00:41:17.273        0  product-listing-category\n",
       "3  2017-07-26 00:45:39.197        0                   content\n",
       "4  2017-07-26 00:45:48.487        0                      home"
      ]
     },
     "execution_count": 3,
     "metadata": {},
     "output_type": "execute_result"
    }
   ],
   "source": [
    "Behavior=pd.read_csv('Problem2_Site_BrowingBehavior',sep='\\t')\n",
    "Behavior.columns = [\"timestamp\", \"user_id\", \"browsing_url\"]\n",
    "Behavior.head()"
   ]
  },
  {
   "cell_type": "markdown",
   "metadata": {},
   "source": [
    "### Browsing Behaviour dataset contains the overall browing in a particular day\n",
    "- timestamp: time of the day\n",
    "- user_id: unique identifier of customer\n",
    "- browsing_url: website sections visited by the customer"
   ]
  },
  {
   "cell_type": "markdown",
   "metadata": {},
   "source": [
    "## Creating Targeting Variable"
   ]
  },
  {
   "cell_type": "code",
   "execution_count": 4,
   "metadata": {},
   "outputs": [
    {
     "data": {
      "text/html": [
       "<div>\n",
       "<style scoped>\n",
       "    .dataframe tbody tr th:only-of-type {\n",
       "        vertical-align: middle;\n",
       "    }\n",
       "\n",
       "    .dataframe tbody tr th {\n",
       "        vertical-align: top;\n",
       "    }\n",
       "\n",
       "    .dataframe thead th {\n",
       "        text-align: right;\n",
       "    }\n",
       "</style>\n",
       "<table border=\"1\" class=\"dataframe\">\n",
       "  <thead>\n",
       "    <tr style=\"text-align: right;\">\n",
       "      <th></th>\n",
       "      <th>timestamp</th>\n",
       "      <th>user_id</th>\n",
       "      <th>browsing_url</th>\n",
       "      <th>Confirmed</th>\n",
       "    </tr>\n",
       "  </thead>\n",
       "  <tbody>\n",
       "    <tr>\n",
       "      <th>0</th>\n",
       "      <td>2017-07-26 00:03:18.448</td>\n",
       "      <td>0</td>\n",
       "      <td>product</td>\n",
       "      <td>1</td>\n",
       "    </tr>\n",
       "    <tr>\n",
       "      <th>1</th>\n",
       "      <td>2017-07-26 00:36:59.028</td>\n",
       "      <td>0</td>\n",
       "      <td>default</td>\n",
       "      <td>1</td>\n",
       "    </tr>\n",
       "    <tr>\n",
       "      <th>2</th>\n",
       "      <td>2017-07-26 00:41:17.273</td>\n",
       "      <td>0</td>\n",
       "      <td>product-listing-category</td>\n",
       "      <td>1</td>\n",
       "    </tr>\n",
       "    <tr>\n",
       "      <th>3</th>\n",
       "      <td>2017-07-26 00:45:39.197</td>\n",
       "      <td>0</td>\n",
       "      <td>content</td>\n",
       "      <td>1</td>\n",
       "    </tr>\n",
       "    <tr>\n",
       "      <th>4</th>\n",
       "      <td>2017-07-26 00:45:48.487</td>\n",
       "      <td>0</td>\n",
       "      <td>home</td>\n",
       "      <td>1</td>\n",
       "    </tr>\n",
       "  </tbody>\n",
       "</table>\n",
       "</div>"
      ],
      "text/plain": [
       "                 timestamp  user_id              browsing_url  Confirmed\n",
       "0  2017-07-26 00:03:18.448        0                   product          1\n",
       "1  2017-07-26 00:36:59.028        0                   default          1\n",
       "2  2017-07-26 00:41:17.273        0  product-listing-category          1\n",
       "3  2017-07-26 00:45:39.197        0                   content          1\n",
       "4  2017-07-26 00:45:48.487        0                      home          1"
      ]
     },
     "execution_count": 4,
     "metadata": {},
     "output_type": "execute_result"
    }
   ],
   "source": [
    "# 1-If the customer bought the product(mapping from conversion dataset)\n",
    "# 0-If the customer did not buy the product\n",
    "con_user_id = list(Conversions['user_id'].unique())\n",
    "Behavior['Confirmed'] = np.where(Behavior['user_id'].isin(con_user_id), 1,0)\n",
    "Behavior.head()"
   ]
  },
  {
   "cell_type": "markdown",
   "metadata": {},
   "source": [
    "## Data_Content_Analysis"
   ]
  },
  {
   "cell_type": "code",
   "execution_count": 5,
   "metadata": {},
   "outputs": [
    {
     "name": "stdout",
     "output_type": "stream",
     "text": [
      "<class 'pandas.core.frame.DataFrame'>\n",
      "RangeIndex: 79794 entries, 0 to 79793\n",
      "Data columns (total 4 columns):\n",
      "timestamp     79794 non-null object\n",
      "user_id       79794 non-null int64\n",
      "product_id    79794 non-null object\n",
      "cart_value    79794 non-null float64\n",
      "dtypes: float64(1), int64(1), object(2)\n",
      "memory usage: 2.4+ MB\n",
      "<class 'pandas.core.frame.DataFrame'>\n",
      "RangeIndex: 5535923 entries, 0 to 5535922\n",
      "Data columns (total 4 columns):\n",
      "timestamp       object\n",
      "user_id         int64\n",
      "browsing_url    object\n",
      "Confirmed       int32\n",
      "dtypes: int32(1), int64(1), object(2)\n",
      "memory usage: 147.8+ MB\n"
     ]
    },
    {
     "data": {
      "text/plain": [
       "(None, (79794, 4), None, (5535923, 4))"
      ]
     },
     "execution_count": 5,
     "metadata": {},
     "output_type": "execute_result"
    }
   ],
   "source": [
    "Conversions.info(),Conversions.shape, Behavior.info(),Behavior.shape"
   ]
  },
  {
   "cell_type": "code",
   "execution_count": 6,
   "metadata": {},
   "outputs": [
    {
     "data": {
      "text/plain": [
       "(timestamp     0\n",
       " user_id       0\n",
       " product_id    0\n",
       " cart_value    0\n",
       " dtype: int64, timestamp       0\n",
       " user_id         0\n",
       " browsing_url    0\n",
       " Confirmed       0\n",
       " dtype: int64)"
      ]
     },
     "execution_count": 6,
     "metadata": {},
     "output_type": "execute_result"
    }
   ],
   "source": [
    "Conversions.isnull().sum(),Behavior.isnull().sum()"
   ]
  },
  {
   "cell_type": "markdown",
   "metadata": {},
   "source": [
    "The Null values are represented as 0 here instead of NaN and hence are not detected above.\n",
    "To deal with these we proceed with removing all such data points as they present data of unknown customers all fused together and hence will interfere with the other individual known customer data values."
   ]
  },
  {
   "cell_type": "code",
   "execution_count": 5,
   "metadata": {},
   "outputs": [
    {
     "data": {
      "text/plain": [
       "(4128045, 4)"
      ]
     },
     "execution_count": 5,
     "metadata": {},
     "output_type": "execute_result"
    }
   ],
   "source": [
    "Behavior = Behavior[Behavior['user_id']!=0]\n",
    "Behavior.shape\n",
    "## Removing all those data values where user_id is 0. "
   ]
  },
  {
   "cell_type": "markdown",
   "metadata": {},
   "source": [
    "##  Basic Data Visualisation"
   ]
  },
  {
   "cell_type": "code",
   "execution_count": 8,
   "metadata": {},
   "outputs": [
    {
     "data": {
      "image/png": "[encoded data removed]",
      "text/plain": [
       "<Figure size 720x360 with 1 Axes>"
      ]
     },
     "metadata": {
      "needs_background": "light"
     },
     "output_type": "display_data"
    }
   ],
   "source": [
    "import seaborn as sns\n",
    "fig, ax = plt.subplots(figsize=(10, 5))\n",
    "ax = sns.countplot(x='browsing_url', data=Behavior, palette='Blues_r')\n",
    "#format_spines(ax, right_border=False)\n",
    "ncount = len(Behavior)\n",
    "for p in ax.patches:\n",
    "    x=p.get_bbox().get_points()[:,0]\n",
    "    y=p.get_bbox().get_points()[1,1]\n",
    "    ax.annotate('{:.1f}%'.format(100.*y/ncount), (x.mean(), y), \n",
    "            ha='center', va='bottom', size=12)\n",
    "ax.set_title('Count of each website section visited', size=14)\n",
    "ax.set_xlabel('Website Sections')\n",
    "ax.set_ylabel('Count')\n",
    "plt.xticks(rotation=90)\n",
    "plt.show()"
   ]
  },
  {
   "cell_type": "code",
   "execution_count": 9,
   "metadata": {},
   "outputs": [
    {
     "data": {
      "text/plain": [
       "0    3280108\n",
       "1     847937\n",
       "Name: Confirmed, dtype: int64"
      ]
     },
     "execution_count": 9,
     "metadata": {},
     "output_type": "execute_result"
    }
   ],
   "source": [
    "Behavior['Confirmed'].value_counts()"
   ]
  },
  {
   "cell_type": "code",
   "execution_count": 10,
   "metadata": {},
   "outputs": [
    {
     "data": {
      "text/plain": [
       "<Figure size 720x576 with 0 Axes>"
      ]
     },
     "metadata": {},
     "output_type": "display_data"
    },
    {
     "data": {
      "image/png": "[encoded data removed]",
      "text/plain": [
       "<Figure size 432x288 with 1 Axes>"
      ]
     },
     "metadata": {},
     "output_type": "display_data"
    }
   ],
   "source": [
    "# Pie chart, where the slices will be ordered and plotted counter-clockwise:\n",
    "plt.figure(figsize=(10,8))\n",
    "labels = 'UnConfirmed','Confirmed'\n",
    "sizes = [ 79.459, 20.54 ]\n",
    "explode = (0, 0.1)\n",
    "\n",
    "fig1, ax1 = plt.subplots()\n",
    "ax1.pie(sizes, explode=explode, labels=labels, autopct='%1.1f%%',\n",
    "        shadow=True, startangle=90)\n",
    "ax1.axis('equal')  # Equal aspect ratio ensures that pie is drawn as a circle.\n",
    "\n",
    "plt.show()"
   ]
  },
  {
   "cell_type": "markdown",
   "metadata": {},
   "source": [
    "#### In a particular day almost 20% users are buying any product from the site"
   ]
  },
  {
   "cell_type": "code",
   "execution_count": 11,
   "metadata": {},
   "outputs": [
    {
     "data": {
      "text/plain": [
       "<matplotlib.patches.Circle at 0x20f0007a908>"
      ]
     },
     "execution_count": 11,
     "metadata": {},
     "output_type": "execute_result"
    },
    {
     "data": {
      "image/png": "[encoded data removed]",
      "text/plain": [
       "<Figure size 720x576 with 1 Axes>"
      ]
     },
     "metadata": {},
     "output_type": "display_data"
    }
   ],
   "source": [
    "plt.figure(figsize=(10,8))\n",
    "Conversions['product_id'].value_counts().head(10).plot(kind='pie',autopct='%1.2f%%',pctdistance=.6,cmap='Oranges_r')\n",
    "plt.xlabel('Top 10 product (sold maximum times)', size=14)\n",
    "centre_circle=plt.Circle((0,0),0.7,fc='white')\n",
    "fig=plt.gcf() #gcf=get current figure\n",
    "fig.gca().add_artist(centre_circle)"
   ]
  },
  {
   "cell_type": "markdown",
   "metadata": {},
   "source": [
    "#### The above 10 products account for the highest revenue generation(for the given particular day)"
   ]
  },
  {
   "cell_type": "code",
   "execution_count": 12,
   "metadata": {},
   "outputs": [
    {
     "data": {
      "text/plain": [
       "<matplotlib.patches.Circle at 0x20f46b22780>"
      ]
     },
     "execution_count": 12,
     "metadata": {},
     "output_type": "execute_result"
    },
    {
     "data": {
      "image/png": "[encoded data removed]",
      "text/plain": [
       "<Figure size 720x576 with 1 Axes>"
      ]
     },
     "metadata": {},
     "output_type": "display_data"
    }
   ],
   "source": [
    "plt.figure(figsize=(10,8))\n",
    "x=Behavior['user_id'].value_counts().head(15).plot(kind='pie',autopct='%1.2f%%',pctdistance=.6,cmap='Blues_r',subplots=True)\n",
    "plt.xlabel('Top 15 Customers on the basis of no. of transactions', size=14)\n",
    "centre_circle=plt.Circle((0,0),0.7,fc='white')\n",
    "fig=plt.gcf() #gcf=get current figure\n",
    "fig.gca().add_artist(centre_circle)"
   ]
  },
  {
   "cell_type": "code",
   "execution_count": 13,
   "metadata": {},
   "outputs": [
    {
     "data": {
      "text/plain": [
       "<matplotlib.patches.Circle at 0x20f46b3f5c0>"
      ]
     },
     "execution_count": 13,
     "metadata": {},
     "output_type": "execute_result"
    },
    {
     "data": {
      "image/png": "[encoded data removed]",
      "text/plain": [
       "<Figure size 720x576 with 1 Axes>"
      ]
     },
     "metadata": {},
     "output_type": "display_data"
    }
   ],
   "source": [
    "plt.figure(figsize=(10,8))\n",
    "Conversions.groupby('user_id')['cart_value'].sum().sort_values(ascending=False).head(15).plot(kind='pie',autopct='%1.2f%%',pctdistance=.6,cmap='Oranges_r')\n",
    "plt.xlabel('Top 15 customers on the basis of revenue generation', size=14)\n",
    "centre_circle=plt.Circle((0,0),0.7,fc='white')\n",
    "fig=plt.gcf() #gcf=get current figure\n",
    "fig.gca().add_artist(centre_circle)"
   ]
  },
  {
   "cell_type": "markdown",
   "metadata": {},
   "source": [
    "#### For that particular day we have our 15 most valuable customers"
   ]
  },
  {
   "cell_type": "markdown",
   "metadata": {},
   "source": [
    "## Create new columns for behavior dataset"
   ]
  },
  {
   "cell_type": "code",
   "execution_count": 6,
   "metadata": {},
   "outputs": [],
   "source": [
    "Behavior['Time'] = pd.to_datetime(Behavior['timestamp']).dt.time\n",
    "Behavior['Dates'] = pd.to_datetime(Behavior['timestamp']).dt.date\n",
    "Behavior['hour'] = pd.to_datetime(Behavior['timestamp']).dt.hour"
   ]
  },
  {
   "cell_type": "code",
   "execution_count": 15,
   "metadata": {},
   "outputs": [
    {
     "data": {
      "text/html": [
       "<div>\n",
       "<style scoped>\n",
       "    .dataframe tbody tr th:only-of-type {\n",
       "        vertical-align: middle;\n",
       "    }\n",
       "\n",
       "    .dataframe tbody tr th {\n",
       "        vertical-align: top;\n",
       "    }\n",
       "\n",
       "    .dataframe thead th {\n",
       "        text-align: right;\n",
       "    }\n",
       "</style>\n",
       "<table border=\"1\" class=\"dataframe\">\n",
       "  <thead>\n",
       "    <tr style=\"text-align: right;\">\n",
       "      <th></th>\n",
       "      <th>timestamp</th>\n",
       "      <th>user_id</th>\n",
       "      <th>browsing_url</th>\n",
       "      <th>Confirmed</th>\n",
       "      <th>Time</th>\n",
       "      <th>Dates</th>\n",
       "      <th>hour</th>\n",
       "    </tr>\n",
       "  </thead>\n",
       "  <tbody>\n",
       "    <tr>\n",
       "      <th>101128</th>\n",
       "      <td>2017-07-26 00:47:58.32</td>\n",
       "      <td>544439661706349</td>\n",
       "      <td>product</td>\n",
       "      <td>0</td>\n",
       "      <td>00:47:58.320000</td>\n",
       "      <td>2017-07-26</td>\n",
       "      <td>0</td>\n",
       "    </tr>\n",
       "    <tr>\n",
       "      <th>101129</th>\n",
       "      <td>2017-07-26 00:09:03.411</td>\n",
       "      <td>634394594974068</td>\n",
       "      <td>content</td>\n",
       "      <td>0</td>\n",
       "      <td>00:09:03.411000</td>\n",
       "      <td>2017-07-26</td>\n",
       "      <td>0</td>\n",
       "    </tr>\n",
       "    <tr>\n",
       "      <th>101130</th>\n",
       "      <td>2017-07-26 00:09:09.116</td>\n",
       "      <td>634394594974068</td>\n",
       "      <td>content</td>\n",
       "      <td>0</td>\n",
       "      <td>00:09:09.116000</td>\n",
       "      <td>2017-07-26</td>\n",
       "      <td>0</td>\n",
       "    </tr>\n",
       "    <tr>\n",
       "      <th>101131</th>\n",
       "      <td>2017-07-26 00:11:07.333</td>\n",
       "      <td>634394594974068</td>\n",
       "      <td>content</td>\n",
       "      <td>0</td>\n",
       "      <td>00:11:07.333000</td>\n",
       "      <td>2017-07-26</td>\n",
       "      <td>0</td>\n",
       "    </tr>\n",
       "    <tr>\n",
       "      <th>101132</th>\n",
       "      <td>2017-07-26 00:11:29.141</td>\n",
       "      <td>634394594974068</td>\n",
       "      <td>content</td>\n",
       "      <td>0</td>\n",
       "      <td>00:11:29.141000</td>\n",
       "      <td>2017-07-26</td>\n",
       "      <td>0</td>\n",
       "    </tr>\n",
       "  </tbody>\n",
       "</table>\n",
       "</div>"
      ],
      "text/plain": [
       "                      timestamp          user_id browsing_url  Confirmed  \\\n",
       "101128   2017-07-26 00:47:58.32  544439661706349      product          0   \n",
       "101129  2017-07-26 00:09:03.411  634394594974068      content          0   \n",
       "101130  2017-07-26 00:09:09.116  634394594974068      content          0   \n",
       "101131  2017-07-26 00:11:07.333  634394594974068      content          0   \n",
       "101132  2017-07-26 00:11:29.141  634394594974068      content          0   \n",
       "\n",
       "                   Time       Dates  hour  \n",
       "101128  00:47:58.320000  2017-07-26     0  \n",
       "101129  00:09:03.411000  2017-07-26     0  \n",
       "101130  00:09:09.116000  2017-07-26     0  \n",
       "101131  00:11:07.333000  2017-07-26     0  \n",
       "101132  00:11:29.141000  2017-07-26     0  "
      ]
     },
     "execution_count": 15,
     "metadata": {},
     "output_type": "execute_result"
    }
   ],
   "source": [
    "Behavior.head()"
   ]
  },
  {
   "cell_type": "code",
   "execution_count": 16,
   "metadata": {
    "scrolled": true
   },
   "outputs": [
    {
     "data": {
      "text/plain": [
       "timestamp       24\n",
       "user_id         24\n",
       "browsing_url    24\n",
       "Confirmed       24\n",
       "Time            24\n",
       "Dates           24\n",
       "hour            24\n",
       "dtype: int64"
      ]
     },
     "execution_count": 16,
     "metadata": {},
     "output_type": "execute_result"
    }
   ],
   "source": [
    "Behavior[Behavior['user_id']==9221827579306644828].count()"
   ]
  },
  {
   "cell_type": "markdown",
   "metadata": {},
   "source": [
    "The number of browsing activities conducted by individual distinct customers  (top 5 most active) is represented below."
   ]
  },
  {
   "cell_type": "code",
   "execution_count": 17,
   "metadata": {},
   "outputs": [
    {
     "data": {
      "text/plain": [
       "3077341700699443780    3106\n",
       "7190685980615725949     821\n",
       "1215902060999829238     723\n",
       "7188604889406730572     550\n",
       "8196139059029454168     499\n",
       "Name: user_id, dtype: int64"
      ]
     },
     "execution_count": 17,
     "metadata": {},
     "output_type": "execute_result"
    }
   ],
   "source": [
    "Behavior[\"user_id\"].value_counts().head()"
   ]
  },
  {
   "cell_type": "markdown",
   "metadata": {},
   "source": [
    "The sections where a particular customer has spent their activities is also shown below"
   ]
  },
  {
   "cell_type": "code",
   "execution_count": 18,
   "metadata": {},
   "outputs": [
    {
     "data": {
      "text/plain": [
       "user_id              browsing_url            \n",
       "7190685980615725949  product                     743\n",
       "                     cart                         43\n",
       "                     iroa                         23\n",
       "                     home                          6\n",
       "                     product-listing-category      3\n",
       "                     content                       1\n",
       "                     default                       1\n",
       "                     product-listing-search        1\n",
       "Name: browsing_url, dtype: int64"
      ]
     },
     "execution_count": 18,
     "metadata": {},
     "output_type": "execute_result"
    }
   ],
   "source": [
    "x=Behavior[Behavior[\"user_id\"]==7190685980615725949]\n",
    "x.groupby(\"user_id\")[\"browsing_url\"].value_counts()"
   ]
  },
  {
   "cell_type": "markdown",
   "metadata": {},
   "source": [
    "## Creating New Columns for Conversions dataset"
   ]
  },
  {
   "cell_type": "code",
   "execution_count": 7,
   "metadata": {},
   "outputs": [],
   "source": [
    "Conversions['Time'] = pd.to_datetime(Conversions['timestamp']).dt.time\n",
    "Conversions['Dates'] = pd.to_datetime(Conversions['timestamp']).dt.date\n",
    "Conversions['hour'] = pd.to_datetime(Conversions['timestamp']).dt.hour"
   ]
  },
  {
   "cell_type": "code",
   "execution_count": 8,
   "metadata": {},
   "outputs": [
    {
     "data": {
      "text/html": [
       "<div>\n",
       "<style scoped>\n",
       "    .dataframe tbody tr th:only-of-type {\n",
       "        vertical-align: middle;\n",
       "    }\n",
       "\n",
       "    .dataframe tbody tr th {\n",
       "        vertical-align: top;\n",
       "    }\n",
       "\n",
       "    .dataframe thead th {\n",
       "        text-align: right;\n",
       "    }\n",
       "</style>\n",
       "<table border=\"1\" class=\"dataframe\">\n",
       "  <thead>\n",
       "    <tr style=\"text-align: right;\">\n",
       "      <th></th>\n",
       "      <th>timestamp</th>\n",
       "      <th>user_id</th>\n",
       "      <th>product_id</th>\n",
       "      <th>cart_value</th>\n",
       "      <th>Time</th>\n",
       "      <th>Dates</th>\n",
       "      <th>hour</th>\n",
       "    </tr>\n",
       "  </thead>\n",
       "  <tbody>\n",
       "    <tr>\n",
       "      <th>547</th>\n",
       "      <td>2017-07-26 00:00:15.267</td>\n",
       "      <td>5942997097932061</td>\n",
       "      <td>K43931</td>\n",
       "      <td>157.95</td>\n",
       "      <td>00:00:15.267000</td>\n",
       "      <td>2017-07-26</td>\n",
       "      <td>0</td>\n",
       "    </tr>\n",
       "    <tr>\n",
       "      <th>548</th>\n",
       "      <td>2017-07-26 00:26:44.266</td>\n",
       "      <td>23951842225160889</td>\n",
       "      <td>H211370</td>\n",
       "      <td>33.48</td>\n",
       "      <td>00:26:44.266000</td>\n",
       "      <td>2017-07-26</td>\n",
       "      <td>0</td>\n",
       "    </tr>\n",
       "    <tr>\n",
       "      <th>549</th>\n",
       "      <td>2017-07-26 00:26:44.361</td>\n",
       "      <td>23951842225160889</td>\n",
       "      <td>H211370</td>\n",
       "      <td>27.48</td>\n",
       "      <td>00:26:44.361000</td>\n",
       "      <td>2017-07-26</td>\n",
       "      <td>0</td>\n",
       "    </tr>\n",
       "    <tr>\n",
       "      <th>550</th>\n",
       "      <td>2017-07-26 00:55:37.774</td>\n",
       "      <td>30833658052409950</td>\n",
       "      <td>H211394</td>\n",
       "      <td>44.68</td>\n",
       "      <td>00:55:37.774000</td>\n",
       "      <td>2017-07-26</td>\n",
       "      <td>0</td>\n",
       "    </tr>\n",
       "    <tr>\n",
       "      <th>551</th>\n",
       "      <td>2017-07-26 00:10:46.954</td>\n",
       "      <td>33873861847792934</td>\n",
       "      <td>H211800</td>\n",
       "      <td>53.24</td>\n",
       "      <td>00:10:46.954000</td>\n",
       "      <td>2017-07-26</td>\n",
       "      <td>0</td>\n",
       "    </tr>\n",
       "  </tbody>\n",
       "</table>\n",
       "</div>"
      ],
      "text/plain": [
       "                   timestamp            user_id product_id  cart_value  \\\n",
       "547  2017-07-26 00:00:15.267   5942997097932061     K43931      157.95   \n",
       "548  2017-07-26 00:26:44.266  23951842225160889    H211370       33.48   \n",
       "549  2017-07-26 00:26:44.361  23951842225160889    H211370       27.48   \n",
       "550  2017-07-26 00:55:37.774  30833658052409950    H211394       44.68   \n",
       "551  2017-07-26 00:10:46.954  33873861847792934    H211800       53.24   \n",
       "\n",
       "                Time       Dates  hour  \n",
       "547  00:00:15.267000  2017-07-26     0  \n",
       "548  00:26:44.266000  2017-07-26     0  \n",
       "549  00:26:44.361000  2017-07-26     0  \n",
       "550  00:55:37.774000  2017-07-26     0  \n",
       "551  00:10:46.954000  2017-07-26     0  "
      ]
     },
     "execution_count": 8,
     "metadata": {},
     "output_type": "execute_result"
    }
   ],
   "source": [
    "Conversions=Conversions[Conversions['user_id']!=0]\n",
    "Conversions.head()"
   ]
  },
  {
   "cell_type": "code",
   "execution_count": 21,
   "metadata": {},
   "outputs": [
    {
     "data": {
      "image/png": "[encoded data removed]",
      "text/plain": [
       "<Figure size 720x432 with 1 Axes>"
      ]
     },
     "metadata": {
      "needs_background": "light"
     },
     "output_type": "display_data"
    }
   ],
   "source": [
    "x=Conversions.groupby('hour')['cart_value'].sum()\n",
    "x=x.reset_index()\n",
    "fig, ax = plt.subplots(figsize=(10, 6))\n",
    "sns.barplot(y='cart_value', x='hour', data=x, ci=None,\n",
    "                 palette='Blues_d')\n",
    "ax.set_title('Orders placed each hour', size=14)\n",
    "ax.set_ylabel('Hour')\n",
    "ax.set_xlabel('Count')\n",
    "\n",
    "plt.show()"
   ]
  },
  {
   "cell_type": "markdown",
   "metadata": {},
   "source": [
    "#### From the above graph we could tell that maximum traffic on the site is at night(maximum products are bought in those hours) "
   ]
  },
  {
   "cell_type": "markdown",
   "metadata": {},
   "source": [
    "### Model Building and Feature Selection"
   ]
  },
  {
   "cell_type": "code",
   "execution_count": 9,
   "metadata": {},
   "outputs": [],
   "source": [
    "groupby_Behavior = Behavior.groupby(['user_id','browsing_url']).agg({'timestamp':'count','Confirmed':'mean'})\n",
    "# timestamp- here the column represents the no. of times each section was viewed by a each customer."
   ]
  },
  {
   "cell_type": "code",
   "execution_count": 10,
   "metadata": {
    "scrolled": true
   },
   "outputs": [
    {
     "data": {
      "text/html": [
       "<div>\n",
       "<style scoped>\n",
       "    .dataframe tbody tr th:only-of-type {\n",
       "        vertical-align: middle;\n",
       "    }\n",
       "\n",
       "    .dataframe tbody tr th {\n",
       "        vertical-align: top;\n",
       "    }\n",
       "\n",
       "    .dataframe thead th {\n",
       "        text-align: right;\n",
       "    }\n",
       "</style>\n",
       "<table border=\"1\" class=\"dataframe\">\n",
       "  <thead>\n",
       "    <tr style=\"text-align: right;\">\n",
       "      <th></th>\n",
       "      <th>user_id</th>\n",
       "      <th>browsing_url</th>\n",
       "      <th>timestamp</th>\n",
       "      <th>Confirmed</th>\n",
       "    </tr>\n",
       "  </thead>\n",
       "  <tbody>\n",
       "    <tr>\n",
       "      <th>0</th>\n",
       "      <td>2</td>\n",
       "      <td>content</td>\n",
       "      <td>6</td>\n",
       "      <td>0</td>\n",
       "    </tr>\n",
       "    <tr>\n",
       "      <th>1</th>\n",
       "      <td>2</td>\n",
       "      <td>default</td>\n",
       "      <td>1</td>\n",
       "      <td>0</td>\n",
       "    </tr>\n",
       "    <tr>\n",
       "      <th>2</th>\n",
       "      <td>2</td>\n",
       "      <td>home</td>\n",
       "      <td>1</td>\n",
       "      <td>0</td>\n",
       "    </tr>\n",
       "    <tr>\n",
       "      <th>3</th>\n",
       "      <td>2</td>\n",
       "      <td>product</td>\n",
       "      <td>6</td>\n",
       "      <td>0</td>\n",
       "    </tr>\n",
       "    <tr>\n",
       "      <th>4</th>\n",
       "      <td>2</td>\n",
       "      <td>product-listing-category</td>\n",
       "      <td>1</td>\n",
       "      <td>0</td>\n",
       "    </tr>\n",
       "    <tr>\n",
       "      <th>5</th>\n",
       "      <td>5</td>\n",
       "      <td>product</td>\n",
       "      <td>2</td>\n",
       "      <td>0</td>\n",
       "    </tr>\n",
       "    <tr>\n",
       "      <th>6</th>\n",
       "      <td>342391</td>\n",
       "      <td>home</td>\n",
       "      <td>4</td>\n",
       "      <td>0</td>\n",
       "    </tr>\n",
       "    <tr>\n",
       "      <th>7</th>\n",
       "      <td>342391</td>\n",
       "      <td>product</td>\n",
       "      <td>3</td>\n",
       "      <td>0</td>\n",
       "    </tr>\n",
       "    <tr>\n",
       "      <th>8</th>\n",
       "      <td>420372</td>\n",
       "      <td>product</td>\n",
       "      <td>2</td>\n",
       "      <td>0</td>\n",
       "    </tr>\n",
       "    <tr>\n",
       "      <th>9</th>\n",
       "      <td>915687</td>\n",
       "      <td>home</td>\n",
       "      <td>1</td>\n",
       "      <td>0</td>\n",
       "    </tr>\n",
       "    <tr>\n",
       "      <th>10</th>\n",
       "      <td>915687</td>\n",
       "      <td>product</td>\n",
       "      <td>1</td>\n",
       "      <td>0</td>\n",
       "    </tr>\n",
       "    <tr>\n",
       "      <th>11</th>\n",
       "      <td>915687</td>\n",
       "      <td>product-listing-search</td>\n",
       "      <td>1</td>\n",
       "      <td>0</td>\n",
       "    </tr>\n",
       "    <tr>\n",
       "      <th>12</th>\n",
       "      <td>453960484</td>\n",
       "      <td>content</td>\n",
       "      <td>3</td>\n",
       "      <td>0</td>\n",
       "    </tr>\n",
       "    <tr>\n",
       "      <th>13</th>\n",
       "      <td>453960484</td>\n",
       "      <td>home</td>\n",
       "      <td>1</td>\n",
       "      <td>0</td>\n",
       "    </tr>\n",
       "    <tr>\n",
       "      <th>14</th>\n",
       "      <td>453960484</td>\n",
       "      <td>product</td>\n",
       "      <td>3</td>\n",
       "      <td>0</td>\n",
       "    </tr>\n",
       "    <tr>\n",
       "      <th>15</th>\n",
       "      <td>453960484</td>\n",
       "      <td>product-listing-category</td>\n",
       "      <td>2</td>\n",
       "      <td>0</td>\n",
       "    </tr>\n",
       "    <tr>\n",
       "      <th>16</th>\n",
       "      <td>2941287703</td>\n",
       "      <td>cart</td>\n",
       "      <td>1</td>\n",
       "      <td>1</td>\n",
       "    </tr>\n",
       "    <tr>\n",
       "      <th>17</th>\n",
       "      <td>2941287703</td>\n",
       "      <td>product</td>\n",
       "      <td>2</td>\n",
       "      <td>1</td>\n",
       "    </tr>\n",
       "    <tr>\n",
       "      <th>18</th>\n",
       "      <td>3156142957</td>\n",
       "      <td>product</td>\n",
       "      <td>2</td>\n",
       "      <td>0</td>\n",
       "    </tr>\n",
       "    <tr>\n",
       "      <th>19</th>\n",
       "      <td>3156142957</td>\n",
       "      <td>product-listing-category</td>\n",
       "      <td>1</td>\n",
       "      <td>0</td>\n",
       "    </tr>\n",
       "    <tr>\n",
       "      <th>20</th>\n",
       "      <td>4569793893</td>\n",
       "      <td>content</td>\n",
       "      <td>1</td>\n",
       "      <td>0</td>\n",
       "    </tr>\n",
       "    <tr>\n",
       "      <th>21</th>\n",
       "      <td>4569793893</td>\n",
       "      <td>default</td>\n",
       "      <td>1</td>\n",
       "      <td>0</td>\n",
       "    </tr>\n",
       "    <tr>\n",
       "      <th>22</th>\n",
       "      <td>4569793893</td>\n",
       "      <td>product-listing-category</td>\n",
       "      <td>1</td>\n",
       "      <td>0</td>\n",
       "    </tr>\n",
       "    <tr>\n",
       "      <th>23</th>\n",
       "      <td>6522015558</td>\n",
       "      <td>home</td>\n",
       "      <td>1</td>\n",
       "      <td>0</td>\n",
       "    </tr>\n",
       "    <tr>\n",
       "      <th>24</th>\n",
       "      <td>6537637844</td>\n",
       "      <td>home</td>\n",
       "      <td>2</td>\n",
       "      <td>0</td>\n",
       "    </tr>\n",
       "    <tr>\n",
       "      <th>25</th>\n",
       "      <td>7035701228</td>\n",
       "      <td>default</td>\n",
       "      <td>1</td>\n",
       "      <td>0</td>\n",
       "    </tr>\n",
       "    <tr>\n",
       "      <th>26</th>\n",
       "      <td>7035701228</td>\n",
       "      <td>product</td>\n",
       "      <td>1</td>\n",
       "      <td>0</td>\n",
       "    </tr>\n",
       "    <tr>\n",
       "      <th>27</th>\n",
       "      <td>4848916109486</td>\n",
       "      <td>product</td>\n",
       "      <td>1</td>\n",
       "      <td>0</td>\n",
       "    </tr>\n",
       "    <tr>\n",
       "      <th>28</th>\n",
       "      <td>7480176228008</td>\n",
       "      <td>product-listing-category</td>\n",
       "      <td>3</td>\n",
       "      <td>0</td>\n",
       "    </tr>\n",
       "    <tr>\n",
       "      <th>29</th>\n",
       "      <td>71023925710020</td>\n",
       "      <td>home</td>\n",
       "      <td>1</td>\n",
       "      <td>1</td>\n",
       "    </tr>\n",
       "    <tr>\n",
       "      <th>...</th>\n",
       "      <td>...</td>\n",
       "      <td>...</td>\n",
       "      <td>...</td>\n",
       "      <td>...</td>\n",
       "    </tr>\n",
       "    <tr>\n",
       "      <th>1355819</th>\n",
       "      <td>9223230916765355371</td>\n",
       "      <td>product</td>\n",
       "      <td>1</td>\n",
       "      <td>0</td>\n",
       "    </tr>\n",
       "    <tr>\n",
       "      <th>1355820</th>\n",
       "      <td>9223245293436433831</td>\n",
       "      <td>product</td>\n",
       "      <td>1</td>\n",
       "      <td>0</td>\n",
       "    </tr>\n",
       "    <tr>\n",
       "      <th>1355821</th>\n",
       "      <td>9223249049550544128</td>\n",
       "      <td>default</td>\n",
       "      <td>1</td>\n",
       "      <td>0</td>\n",
       "    </tr>\n",
       "    <tr>\n",
       "      <th>1355822</th>\n",
       "      <td>9223287104229430427</td>\n",
       "      <td>product</td>\n",
       "      <td>1</td>\n",
       "      <td>0</td>\n",
       "    </tr>\n",
       "    <tr>\n",
       "      <th>1355823</th>\n",
       "      <td>9223295705804162937</td>\n",
       "      <td>content</td>\n",
       "      <td>1</td>\n",
       "      <td>0</td>\n",
       "    </tr>\n",
       "    <tr>\n",
       "      <th>1355824</th>\n",
       "      <td>9223295705804162937</td>\n",
       "      <td>home</td>\n",
       "      <td>1</td>\n",
       "      <td>0</td>\n",
       "    </tr>\n",
       "    <tr>\n",
       "      <th>1355825</th>\n",
       "      <td>9223295705804162937</td>\n",
       "      <td>iroa</td>\n",
       "      <td>6</td>\n",
       "      <td>0</td>\n",
       "    </tr>\n",
       "    <tr>\n",
       "      <th>1355826</th>\n",
       "      <td>9223295705804162937</td>\n",
       "      <td>product</td>\n",
       "      <td>2</td>\n",
       "      <td>0</td>\n",
       "    </tr>\n",
       "    <tr>\n",
       "      <th>1355827</th>\n",
       "      <td>9223307537834356876</td>\n",
       "      <td>content</td>\n",
       "      <td>1</td>\n",
       "      <td>0</td>\n",
       "    </tr>\n",
       "    <tr>\n",
       "      <th>1355828</th>\n",
       "      <td>9223307537834356876</td>\n",
       "      <td>product-listing-category</td>\n",
       "      <td>1</td>\n",
       "      <td>0</td>\n",
       "    </tr>\n",
       "    <tr>\n",
       "      <th>1355829</th>\n",
       "      <td>9223308018930726010</td>\n",
       "      <td>cart</td>\n",
       "      <td>4</td>\n",
       "      <td>1</td>\n",
       "    </tr>\n",
       "    <tr>\n",
       "      <th>1355830</th>\n",
       "      <td>9223308018930726010</td>\n",
       "      <td>default</td>\n",
       "      <td>1</td>\n",
       "      <td>1</td>\n",
       "    </tr>\n",
       "    <tr>\n",
       "      <th>1355831</th>\n",
       "      <td>9223308018930726010</td>\n",
       "      <td>home</td>\n",
       "      <td>2</td>\n",
       "      <td>1</td>\n",
       "    </tr>\n",
       "    <tr>\n",
       "      <th>1355832</th>\n",
       "      <td>9223308018930726010</td>\n",
       "      <td>product</td>\n",
       "      <td>3</td>\n",
       "      <td>1</td>\n",
       "    </tr>\n",
       "    <tr>\n",
       "      <th>1355833</th>\n",
       "      <td>9223308018930726010</td>\n",
       "      <td>product-listing-category</td>\n",
       "      <td>3</td>\n",
       "      <td>1</td>\n",
       "    </tr>\n",
       "    <tr>\n",
       "      <th>1355834</th>\n",
       "      <td>9223331925947099393</td>\n",
       "      <td>product-listing-category</td>\n",
       "      <td>1</td>\n",
       "      <td>0</td>\n",
       "    </tr>\n",
       "    <tr>\n",
       "      <th>1355835</th>\n",
       "      <td>9223332159306941752</td>\n",
       "      <td>home</td>\n",
       "      <td>1</td>\n",
       "      <td>0</td>\n",
       "    </tr>\n",
       "    <tr>\n",
       "      <th>1355836</th>\n",
       "      <td>9223332159306941752</td>\n",
       "      <td>product</td>\n",
       "      <td>1</td>\n",
       "      <td>0</td>\n",
       "    </tr>\n",
       "    <tr>\n",
       "      <th>1355837</th>\n",
       "      <td>9223332159306941752</td>\n",
       "      <td>product-listing-category</td>\n",
       "      <td>3</td>\n",
       "      <td>0</td>\n",
       "    </tr>\n",
       "    <tr>\n",
       "      <th>1355838</th>\n",
       "      <td>9223343967635174542</td>\n",
       "      <td>content</td>\n",
       "      <td>1</td>\n",
       "      <td>0</td>\n",
       "    </tr>\n",
       "    <tr>\n",
       "      <th>1355839</th>\n",
       "      <td>9223343967635174542</td>\n",
       "      <td>home</td>\n",
       "      <td>1</td>\n",
       "      <td>0</td>\n",
       "    </tr>\n",
       "    <tr>\n",
       "      <th>1355840</th>\n",
       "      <td>9223343967635174542</td>\n",
       "      <td>product</td>\n",
       "      <td>3</td>\n",
       "      <td>0</td>\n",
       "    </tr>\n",
       "    <tr>\n",
       "      <th>1355841</th>\n",
       "      <td>9223343967635174542</td>\n",
       "      <td>product-listing-category</td>\n",
       "      <td>1</td>\n",
       "      <td>0</td>\n",
       "    </tr>\n",
       "    <tr>\n",
       "      <th>1355842</th>\n",
       "      <td>9223343967635174542</td>\n",
       "      <td>product-listing-search</td>\n",
       "      <td>1</td>\n",
       "      <td>0</td>\n",
       "    </tr>\n",
       "    <tr>\n",
       "      <th>1355843</th>\n",
       "      <td>9223343967635174542</td>\n",
       "      <td>shoplive</td>\n",
       "      <td>1</td>\n",
       "      <td>0</td>\n",
       "    </tr>\n",
       "    <tr>\n",
       "      <th>1355844</th>\n",
       "      <td>9223348075878229938</td>\n",
       "      <td>content</td>\n",
       "      <td>1</td>\n",
       "      <td>0</td>\n",
       "    </tr>\n",
       "    <tr>\n",
       "      <th>1355845</th>\n",
       "      <td>9223348075878229938</td>\n",
       "      <td>home</td>\n",
       "      <td>2</td>\n",
       "      <td>0</td>\n",
       "    </tr>\n",
       "    <tr>\n",
       "      <th>1355846</th>\n",
       "      <td>9223348075878229938</td>\n",
       "      <td>product</td>\n",
       "      <td>1</td>\n",
       "      <td>0</td>\n",
       "    </tr>\n",
       "    <tr>\n",
       "      <th>1355847</th>\n",
       "      <td>9223348075878229938</td>\n",
       "      <td>product-listing-category</td>\n",
       "      <td>1</td>\n",
       "      <td>0</td>\n",
       "    </tr>\n",
       "    <tr>\n",
       "      <th>1355848</th>\n",
       "      <td>9223367577450368994</td>\n",
       "      <td>product-listing-category</td>\n",
       "      <td>1</td>\n",
       "      <td>0</td>\n",
       "    </tr>\n",
       "  </tbody>\n",
       "</table>\n",
       "<p>1355849 rows × 4 columns</p>\n",
       "</div>"
      ],
      "text/plain": [
       "                     user_id              browsing_url  timestamp  Confirmed\n",
       "0                          2                   content          6          0\n",
       "1                          2                   default          1          0\n",
       "2                          2                      home          1          0\n",
       "3                          2                   product          6          0\n",
       "4                          2  product-listing-category          1          0\n",
       "5                          5                   product          2          0\n",
       "6                     342391                      home          4          0\n",
       "7                     342391                   product          3          0\n",
       "8                     420372                   product          2          0\n",
       "9                     915687                      home          1          0\n",
       "10                    915687                   product          1          0\n",
       "11                    915687    product-listing-search          1          0\n",
       "12                 453960484                   content          3          0\n",
       "13                 453960484                      home          1          0\n",
       "14                 453960484                   product          3          0\n",
       "15                 453960484  product-listing-category          2          0\n",
       "16                2941287703                      cart          1          1\n",
       "17                2941287703                   product          2          1\n",
       "18                3156142957                   product          2          0\n",
       "19                3156142957  product-listing-category          1          0\n",
       "20                4569793893                   content          1          0\n",
       "21                4569793893                   default          1          0\n",
       "22                4569793893  product-listing-category          1          0\n",
       "23                6522015558                      home          1          0\n",
       "24                6537637844                      home          2          0\n",
       "25                7035701228                   default          1          0\n",
       "26                7035701228                   product          1          0\n",
       "27             4848916109486                   product          1          0\n",
       "28             7480176228008  product-listing-category          3          0\n",
       "29            71023925710020                      home          1          1\n",
       "...                      ...                       ...        ...        ...\n",
       "1355819  9223230916765355371                   product          1          0\n",
       "1355820  9223245293436433831                   product          1          0\n",
       "1355821  9223249049550544128                   default          1          0\n",
       "1355822  9223287104229430427                   product          1          0\n",
       "1355823  9223295705804162937                   content          1          0\n",
       "1355824  9223295705804162937                      home          1          0\n",
       "1355825  9223295705804162937                      iroa          6          0\n",
       "1355826  9223295705804162937                   product          2          0\n",
       "1355827  9223307537834356876                   content          1          0\n",
       "1355828  9223307537834356876  product-listing-category          1          0\n",
       "1355829  9223308018930726010                      cart          4          1\n",
       "1355830  9223308018930726010                   default          1          1\n",
       "1355831  9223308018930726010                      home          2          1\n",
       "1355832  9223308018930726010                   product          3          1\n",
       "1355833  9223308018930726010  product-listing-category          3          1\n",
       "1355834  9223331925947099393  product-listing-category          1          0\n",
       "1355835  9223332159306941752                      home          1          0\n",
       "1355836  9223332159306941752                   product          1          0\n",
       "1355837  9223332159306941752  product-listing-category          3          0\n",
       "1355838  9223343967635174542                   content          1          0\n",
       "1355839  9223343967635174542                      home          1          0\n",
       "1355840  9223343967635174542                   product          3          0\n",
       "1355841  9223343967635174542  product-listing-category          1          0\n",
       "1355842  9223343967635174542    product-listing-search          1          0\n",
       "1355843  9223343967635174542                  shoplive          1          0\n",
       "1355844  9223348075878229938                   content          1          0\n",
       "1355845  9223348075878229938                      home          2          0\n",
       "1355846  9223348075878229938                   product          1          0\n",
       "1355847  9223348075878229938  product-listing-category          1          0\n",
       "1355848  9223367577450368994  product-listing-category          1          0\n",
       "\n",
       "[1355849 rows x 4 columns]"
      ]
     },
     "execution_count": 10,
     "metadata": {},
     "output_type": "execute_result"
    }
   ],
   "source": [
    "groupby_Behavior.reset_index()"
   ]
  },
  {
   "cell_type": "code",
   "execution_count": 11,
   "metadata": {},
   "outputs": [],
   "source": [
    "pivot_data_con=Behavior.pivot_table(index=['user_id','Confirmed'],columns='browsing_url', values='timestamp',aggfunc='count').fillna(0)"
   ]
  },
  {
   "cell_type": "code",
   "execution_count": 12,
   "metadata": {},
   "outputs": [
    {
     "data": {
      "text/html": [
       "<div>\n",
       "<style scoped>\n",
       "    .dataframe tbody tr th:only-of-type {\n",
       "        vertical-align: middle;\n",
       "    }\n",
       "\n",
       "    .dataframe tbody tr th {\n",
       "        vertical-align: top;\n",
       "    }\n",
       "\n",
       "    .dataframe thead th {\n",
       "        text-align: right;\n",
       "    }\n",
       "</style>\n",
       "<table border=\"1\" class=\"dataframe\">\n",
       "  <thead>\n",
       "    <tr style=\"text-align: right;\">\n",
       "      <th>browsing_url</th>\n",
       "      <th>user_id</th>\n",
       "      <th>Confirmed</th>\n",
       "      <th>cart</th>\n",
       "      <th>category</th>\n",
       "      <th>content</th>\n",
       "      <th>default</th>\n",
       "      <th>error</th>\n",
       "      <th>home</th>\n",
       "      <th>iroa</th>\n",
       "      <th>lorigreiner</th>\n",
       "      <th>mys</th>\n",
       "      <th>product</th>\n",
       "      <th>product-listing-category</th>\n",
       "      <th>product-listing-custom</th>\n",
       "      <th>product-listing-search</th>\n",
       "      <th>productNotFound</th>\n",
       "      <th>shoplive</th>\n",
       "      <th>signupcomplete</th>\n",
       "    </tr>\n",
       "  </thead>\n",
       "  <tbody>\n",
       "    <tr>\n",
       "      <th>0</th>\n",
       "      <td>2</td>\n",
       "      <td>0</td>\n",
       "      <td>0.0</td>\n",
       "      <td>0.0</td>\n",
       "      <td>6.0</td>\n",
       "      <td>1.0</td>\n",
       "      <td>0.0</td>\n",
       "      <td>1.0</td>\n",
       "      <td>0.0</td>\n",
       "      <td>0.0</td>\n",
       "      <td>0.0</td>\n",
       "      <td>6.0</td>\n",
       "      <td>1.0</td>\n",
       "      <td>0.0</td>\n",
       "      <td>0.0</td>\n",
       "      <td>0.0</td>\n",
       "      <td>0.0</td>\n",
       "      <td>0.0</td>\n",
       "    </tr>\n",
       "    <tr>\n",
       "      <th>1</th>\n",
       "      <td>5</td>\n",
       "      <td>0</td>\n",
       "      <td>0.0</td>\n",
       "      <td>0.0</td>\n",
       "      <td>0.0</td>\n",
       "      <td>0.0</td>\n",
       "      <td>0.0</td>\n",
       "      <td>0.0</td>\n",
       "      <td>0.0</td>\n",
       "      <td>0.0</td>\n",
       "      <td>0.0</td>\n",
       "      <td>2.0</td>\n",
       "      <td>0.0</td>\n",
       "      <td>0.0</td>\n",
       "      <td>0.0</td>\n",
       "      <td>0.0</td>\n",
       "      <td>0.0</td>\n",
       "      <td>0.0</td>\n",
       "    </tr>\n",
       "    <tr>\n",
       "      <th>2</th>\n",
       "      <td>342391</td>\n",
       "      <td>0</td>\n",
       "      <td>0.0</td>\n",
       "      <td>0.0</td>\n",
       "      <td>0.0</td>\n",
       "      <td>0.0</td>\n",
       "      <td>0.0</td>\n",
       "      <td>4.0</td>\n",
       "      <td>0.0</td>\n",
       "      <td>0.0</td>\n",
       "      <td>0.0</td>\n",
       "      <td>3.0</td>\n",
       "      <td>0.0</td>\n",
       "      <td>0.0</td>\n",
       "      <td>0.0</td>\n",
       "      <td>0.0</td>\n",
       "      <td>0.0</td>\n",
       "      <td>0.0</td>\n",
       "    </tr>\n",
       "    <tr>\n",
       "      <th>3</th>\n",
       "      <td>420372</td>\n",
       "      <td>0</td>\n",
       "      <td>0.0</td>\n",
       "      <td>0.0</td>\n",
       "      <td>0.0</td>\n",
       "      <td>0.0</td>\n",
       "      <td>0.0</td>\n",
       "      <td>0.0</td>\n",
       "      <td>0.0</td>\n",
       "      <td>0.0</td>\n",
       "      <td>0.0</td>\n",
       "      <td>2.0</td>\n",
       "      <td>0.0</td>\n",
       "      <td>0.0</td>\n",
       "      <td>0.0</td>\n",
       "      <td>0.0</td>\n",
       "      <td>0.0</td>\n",
       "      <td>0.0</td>\n",
       "    </tr>\n",
       "    <tr>\n",
       "      <th>4</th>\n",
       "      <td>915687</td>\n",
       "      <td>0</td>\n",
       "      <td>0.0</td>\n",
       "      <td>0.0</td>\n",
       "      <td>0.0</td>\n",
       "      <td>0.0</td>\n",
       "      <td>0.0</td>\n",
       "      <td>1.0</td>\n",
       "      <td>0.0</td>\n",
       "      <td>0.0</td>\n",
       "      <td>0.0</td>\n",
       "      <td>1.0</td>\n",
       "      <td>0.0</td>\n",
       "      <td>0.0</td>\n",
       "      <td>1.0</td>\n",
       "      <td>0.0</td>\n",
       "      <td>0.0</td>\n",
       "      <td>0.0</td>\n",
       "    </tr>\n",
       "  </tbody>\n",
       "</table>\n",
       "</div>"
      ],
      "text/plain": [
       "browsing_url  user_id  Confirmed  cart  category  content  default  error  \\\n",
       "0                   2          0   0.0       0.0      6.0      1.0    0.0   \n",
       "1                   5          0   0.0       0.0      0.0      0.0    0.0   \n",
       "2              342391          0   0.0       0.0      0.0      0.0    0.0   \n",
       "3              420372          0   0.0       0.0      0.0      0.0    0.0   \n",
       "4              915687          0   0.0       0.0      0.0      0.0    0.0   \n",
       "\n",
       "browsing_url  home  iroa  lorigreiner  mys  product  product-listing-category  \\\n",
       "0              1.0   0.0          0.0  0.0      6.0                       1.0   \n",
       "1              0.0   0.0          0.0  0.0      2.0                       0.0   \n",
       "2              4.0   0.0          0.0  0.0      3.0                       0.0   \n",
       "3              0.0   0.0          0.0  0.0      2.0                       0.0   \n",
       "4              1.0   0.0          0.0  0.0      1.0                       0.0   \n",
       "\n",
       "browsing_url  product-listing-custom  product-listing-search  productNotFound  \\\n",
       "0                                0.0                     0.0              0.0   \n",
       "1                                0.0                     0.0              0.0   \n",
       "2                                0.0                     0.0              0.0   \n",
       "3                                0.0                     0.0              0.0   \n",
       "4                                0.0                     1.0              0.0   \n",
       "\n",
       "browsing_url  shoplive  signupcomplete  \n",
       "0                  0.0             0.0  \n",
       "1                  0.0             0.0  \n",
       "2                  0.0             0.0  \n",
       "3                  0.0             0.0  \n",
       "4                  0.0             0.0  "
      ]
     },
     "execution_count": 12,
     "metadata": {},
     "output_type": "execute_result"
    }
   ],
   "source": [
    "model_data = pivot_data_con.reset_index()\n",
    "model_data.head()\n",
    "#create features for each browsing_url using pivot_table (panda function) \n",
    "#filled the values with the number of times the user have visited that url."
   ]
  },
  {
   "cell_type": "code",
   "execution_count": 13,
   "metadata": {},
   "outputs": [],
   "source": [
    "x=model_data.drop('Confirmed', axis=1)\n",
    "y=model_data['Confirmed']"
   ]
  },
  {
   "cell_type": "code",
   "execution_count": 14,
   "metadata": {},
   "outputs": [],
   "source": [
    "x_train, x_test, y_train, y_test =train_test_split(x,y, test_size=0.2, random_state=0)"
   ]
  },
  {
   "cell_type": "markdown",
   "metadata": {},
   "source": [
    "### Random Forest"
   ]
  },
  {
   "cell_type": "code",
   "execution_count": 15,
   "metadata": {},
   "outputs": [
    {
     "name": "stderr",
     "output_type": "stream",
     "text": [
      "C:\\Users\\Administrator\\AppData\\Roaming\\Python\\Python37\\site-packages\\sklearn\\ensemble\\forest.py:245: FutureWarning: The default value of n_estimators will change from 10 in version 0.20 to 100 in 0.22.\n",
      "  \"10 in version 0.20 to 100 in 0.22.\", FutureWarning)\n"
     ]
    },
    {
     "name": "stdout",
     "output_type": "stream",
     "text": [
      "Accuracy is  0.9209088183233869\n",
      "Confusion Matrix is :\n",
      "[[92169  3026]\n",
      " [ 5151  3041]]\n",
      "Recall is :\n",
      "0.3712158203125\n",
      "Precision is :\n",
      "0.5012361958134168\n",
      "F1-Score is :\n",
      "0.42653762535942213\n"
     ]
    }
   ],
   "source": [
    "from sklearn.ensemble import RandomForestClassifier\n",
    "from sklearn.metrics import accuracy_score\n",
    "from sklearn.metrics import confusion_matrix\n",
    "from sklearn.metrics import recall_score\n",
    "from sklearn.metrics import precision_score\n",
    "from sklearn.metrics import f1_score,log_loss\n",
    "Random_Forest =RandomForestClassifier(random_state=42)\n",
    "Random_Forest.fit(x_train,y_train)\n",
    "y_pred = Random_Forest.predict(x_test)\n",
    "accuracy = accuracy_score(y_test,y_pred)\n",
    "print(\"Accuracy is \",accuracy)\n",
    "cm = confusion_matrix(y_test, y_pred)\n",
    "print(\"Confusion Matrix is :\", cm, sep='\\n')\n",
    "Recal= recall_score(y_test, y_pred)\n",
    "Precision =precision_score(y_test, y_pred)\n",
    "F1_Score=f1_score(y_test, y_pred)\n",
    "print(\"Recall is :\", Recal, sep='\\n')\n",
    "print(\"Precision is :\", Precision, sep='\\n')\n",
    "print(\"F1-Score is :\", F1_Score, sep='\\n')"
   ]
  },
  {
   "cell_type": "code",
   "execution_count": 29,
   "metadata": {},
   "outputs": [
    {
     "data": {
      "text/plain": [
       "array([[1. , 0. ],\n",
       "       [1. , 0. ],\n",
       "       [1. , 0. ],\n",
       "       ...,\n",
       "       [1. , 0. ],\n",
       "       [0.5, 0.5],\n",
       "       [1. , 0. ]])"
      ]
     },
     "execution_count": 29,
     "metadata": {},
     "output_type": "execute_result"
    }
   ],
   "source": [
    "probs_Random_Forest =Random_Forest.predict_proba(x_test)\n",
    "probs_Random_Forest"
   ]
  },
  {
   "cell_type": "markdown",
   "metadata": {},
   "source": [
    "Feature Importance for Random_Forest"
   ]
  },
  {
   "cell_type": "code",
   "execution_count": 30,
   "metadata": {},
   "outputs": [
    {
     "name": "stdout",
     "output_type": "stream",
     "text": [
      "Feature ranking:\n",
      "1. user_id (0.317801)\n",
      "2. cart (0.309078)\n",
      "3. category (0.097762)\n",
      "4. content (0.058208)\n",
      "5. default (0.050562)\n",
      "6. error (0.047115)\n",
      "7. home (0.041173)\n",
      "8. iroa (0.034006)\n",
      "9. lorigreiner (0.029537)\n",
      "10. mys (0.008024)\n",
      "11. product (0.004317)\n",
      "12. product-listing-category (0.001475)\n",
      "13. product-listing-custom (0.000902)\n",
      "14. product-listing-search (0.000024)\n",
      "15. productNotFound (0.000017)\n",
      "16. shoplive (0.000000)\n",
      "17. signupcomplete (0.000000)\n"
     ]
    },
    {
     "data": {
      "image/png": "[encoded data removed]",
      "text/plain": [
       "<Figure size 432x288 with 1 Axes>"
      ]
     },
     "metadata": {
      "needs_background": "light"
     },
     "output_type": "display_data"
    }
   ],
   "source": [
    "col_names = list(x.columns.values)\n",
    "importances = Random_Forest.feature_importances_\n",
    "std = np.std([i.feature_importances_ for i in Random_Forest.estimators_],\n",
    "             axis=0)\n",
    "indices = np.argsort(importances)[::-1]\n",
    "\n",
    "# Print the feature ranking\n",
    "print(\"Feature ranking:\")\n",
    "\n",
    "for f in range(x_train.shape[1]):\n",
    "    print(\"%d. %s (%f)\" % (f + 1, col_names[f], importances[indices[f]]))\n",
    "\n",
    "# Plot the feature importances of the forest\n",
    "plt.figure()\n",
    "plt.title(\"Feature importances\")\n",
    "plt.bar(range(x_train.shape[1]), importances[indices],\n",
    "       color=\"r\", yerr=std[indices], align=\"center\")\n",
    "plt.xticks(range(x_train.shape[1]), indices)\n",
    "plt.xlim([-1, x_train.shape[1]])\n",
    "plt.show()"
   ]
  },
  {
   "cell_type": "code",
   "execution_count": 31,
   "metadata": {},
   "outputs": [],
   "source": [
    "## Our model is giving us 92% accuracy on the testing data"
   ]
  },
  {
   "cell_type": "markdown",
   "metadata": {},
   "source": [
    "The accuracy on the test set is 92%, the baseline accuracy is:"
   ]
  },
  {
   "cell_type": "code",
   "execution_count": 32,
   "metadata": {},
   "outputs": [
    {
     "data": {
      "text/plain": [
       "0.9209701101307525"
      ]
     },
     "execution_count": 32,
     "metadata": {},
     "output_type": "execute_result"
    }
   ],
   "source": [
    "1-sum(model_data['Confirmed'])/len(model_data['Confirmed'])"
   ]
  },
  {
   "cell_type": "markdown",
   "metadata": {},
   "source": [
    "### LogisticRegression"
   ]
  },
  {
   "cell_type": "code",
   "execution_count": 33,
   "metadata": {},
   "outputs": [
    {
     "name": "stderr",
     "output_type": "stream",
     "text": [
      "C:\\ProgramData\\Anaconda3\\lib\\site-packages\\sklearn\\linear_model\\logistic.py:432: FutureWarning: Default solver will be changed to 'lbfgs' in 0.22. Specify a solver to silence this warning.\n",
      "  FutureWarning)\n"
     ]
    },
    {
     "name": "stdout",
     "output_type": "stream",
     "text": [
      "Accuracy is  0.9207637323841489\n",
      "Log_loss :\n",
      "2.7367237295511853\n",
      "Recal is :\n",
      "0.0\n",
      "Precision is :\n",
      "0.0\n",
      "F1_Score is :\n",
      "0.0\n",
      "Confusion Matrix is :\n",
      "[[95195     0]\n",
      " [ 8192     0]]\n"
     ]
    },
    {
     "name": "stderr",
     "output_type": "stream",
     "text": [
      "C:\\ProgramData\\Anaconda3\\lib\\site-packages\\sklearn\\metrics\\classification.py:1437: UndefinedMetricWarning: Precision is ill-defined and being set to 0.0 due to no predicted samples.\n",
      "  'precision', 'predicted', average, warn_for)\n",
      "C:\\ProgramData\\Anaconda3\\lib\\site-packages\\sklearn\\metrics\\classification.py:1437: UndefinedMetricWarning: F-score is ill-defined and being set to 0.0 due to no predicted samples.\n",
      "  'precision', 'predicted', average, warn_for)\n"
     ]
    }
   ],
   "source": [
    "from sklearn.linear_model import LogisticRegression\n",
    "from sklearn import metrics\n",
    "lr = LogisticRegression()\n",
    "lr.fit(x_train,y_train)\n",
    "y_pred = lr.predict(x_test)\n",
    "accuracy = metrics.accuracy_score(y_test,y_pred)\n",
    "print(\"Accuracy is \",accuracy)\n",
    "cm = confusion_matrix(y_test, y_pred) \n",
    "Recal= recall_score(y_test, y_pred)\n",
    "Precision =precision_score(y_test, y_pred)\n",
    "F1_Score=f1_score(y_test, y_pred)\n",
    "Log_loss=log_loss(y_test, y_pred)\n",
    "print(\"Log_loss :\", Log_loss, sep='\\n')\n",
    "print(\"Recal is :\", Recal, sep='\\n')\n",
    "print(\"Precision is :\", Precision, sep='\\n')\n",
    "print(\"F1_Score is :\", F1_Score, sep='\\n')\n",
    "print(\"Confusion Matrix is :\", cm, sep='\\n')"
   ]
  },
  {
   "cell_type": "code",
   "execution_count": 34,
   "metadata": {},
   "outputs": [
    {
     "data": {
      "text/plain": [
       "array([[0.97938909, 0.02061091],\n",
       "       [0.52304346, 0.47695654],\n",
       "       [0.96804961, 0.03195039],\n",
       "       ...,\n",
       "       [0.61027619, 0.38972381],\n",
       "       [0.88411851, 0.11588149],\n",
       "       [0.92055202, 0.07944798]])"
      ]
     },
     "execution_count": 34,
     "metadata": {},
     "output_type": "execute_result"
    }
   ],
   "source": [
    "probs_lr =lr.predict_proba(x_test)\n",
    "probs_lr"
   ]
  },
  {
   "cell_type": "markdown",
   "metadata": {},
   "source": [
    "Gradient Boost Classification"
   ]
  },
  {
   "cell_type": "code",
   "execution_count": 71,
   "metadata": {},
   "outputs": [
    {
     "name": "stdout",
     "output_type": "stream",
     "text": [
      "Accuracy is 93.29025893003956\n",
      "Log_loss :\n",
      "2.317481823090556\n",
      "Recal is :\n",
      "0.458740234375\n",
      "Precision is :\n",
      "0.6002236064526434\n",
      "F1_Score is :\n",
      "0.5200304435065385\n",
      "Confusion Matrix is :\n",
      "[[92692  2503]\n",
      " [ 4434  3758]]\n",
      "Confusion Matrix is :\n",
      "[[92692  2503]\n",
      " [ 4434  3758]]\n"
     ]
    }
   ],
   "source": [
    "from sklearn.ensemble import AdaBoostClassifier, GradientBoostingClassifier\n",
    "gb = GradientBoostingClassifier(n_estimators = 100, random_state=0)\n",
    "gb.fit(x_train, y_train)\n",
    "y_pred = gb.predict(x_test)\n",
    "print(\"Accuracy is\", metrics.accuracy_score(y_test, y_pred)*100)\n",
    "cm = confusion_matrix(y_test, y_pred)\n",
    "F1_Score=f1_score(y_test, y_pred)\n",
    "Recal= recall_score(y_test, y_pred)\n",
    "Precision =precision_score(y_test, y_pred)\n",
    "Log_loss=log_loss(y_test, y_pred)\n",
    "print(\"Log_loss :\", Log_loss, sep='\\n')\n",
    "print(\"Recal is :\", Recal, sep='\\n')\n",
    "print(\"Precision is :\", Precision, sep='\\n')\n",
    "print(\"F1_Score is :\", F1_Score, sep='\\n')\n",
    "print(\"Confusion Matrix is :\", cm, sep='\\n')\n",
    "print(\"Confusion Matrix is :\", cm, sep='\\n')"
   ]
  },
  {
   "cell_type": "code",
   "execution_count": 72,
   "metadata": {},
   "outputs": [
    {
     "data": {
      "text/plain": [
       "array([[0.99759728, 0.00240272],\n",
       "       [0.97447558, 0.02552442],\n",
       "       [0.99691139, 0.00308861],\n",
       "       ...,\n",
       "       [0.98266429, 0.01733571],\n",
       "       [0.50748779, 0.49251221],\n",
       "       [0.96983646, 0.03016354]])"
      ]
     },
     "execution_count": 72,
     "metadata": {},
     "output_type": "execute_result"
    }
   ],
   "source": [
    "probs_gb = gb.predict_proba(x_test)\n",
    "probs_gb"
   ]
  },
  {
   "cell_type": "markdown",
   "metadata": {},
   "source": [
    "Feature Importances"
   ]
  },
  {
   "cell_type": "code",
   "execution_count": 73,
   "metadata": {},
   "outputs": [
    {
     "name": "stdout",
     "output_type": "stream",
     "text": [
      "Feature ranking:\n",
      "1. cart (0.870184)\n",
      "2. category (0.053271)\n",
      "3. content (0.030068)\n",
      "4. default (0.026109)\n",
      "5. error (0.012963)\n",
      "6. home (0.004771)\n",
      "7. iroa (0.001723)\n",
      "8. lorigreiner (0.000754)\n",
      "9. mys (0.000098)\n",
      "10. product (0.000033)\n",
      "11. product-listing-category (0.000028)\n",
      "12. product-listing-custom (0.000000)\n",
      "13. product-listing-search (0.000000)\n",
      "14. productNotFound (0.000000)\n",
      "15. shoplive (0.000000)\n",
      "16. signupcomplete (0.000000)\n"
     ]
    },
    {
     "data": {
      "image/png": "[encoded data removed]",
      "text/plain": [
       "<Figure size 432x288 with 1 Axes>"
      ]
     },
     "metadata": {
      "needs_background": "light"
     },
     "output_type": "display_data"
    }
   ],
   "source": [
    "col_names = list(x.columns.values)\n",
    "importances = gb.feature_importances_\n",
    "std = np.std([i.feature_importances_ for i in Random_Forest.estimators_],\n",
    "             axis=0)\n",
    "indices = np.argsort(importances)[::-1]\n",
    "\n",
    "# Print the feature ranking\n",
    "print(\"Feature ranking:\")\n",
    "\n",
    "for f in range(x_train.shape[1]):\n",
    "    print(\"%d. %s (%f)\" % (f + 1, col_names[f], importances[indices[f]]))\n",
    "\n",
    "# Plot the feature importances of the forest\n",
    "plt.figure()\n",
    "plt.title(\"Feature importances\")\n",
    "plt.bar(range(x_train.shape[1]), importances[indices],\n",
    "       color=\"r\", yerr=std[indices], align=\"center\")\n",
    "plt.xticks(range(x_train.shape[1]), indices)\n",
    "plt.xlim([-1, x_train.shape[1]])\n",
    "plt.show()"
   ]
  },
  {
   "cell_type": "markdown",
   "metadata": {},
   "source": [
    "AdaBoost Classification"
   ]
  },
  {
   "cell_type": "code",
   "execution_count": 74,
   "metadata": {},
   "outputs": [
    {
     "name": "stdout",
     "output_type": "stream",
     "text": [
      "Accuracy is 93.15581262634566\n",
      "Log_loss :\n",
      "2.3639182174534583\n",
      "Recal is :\n",
      "0.4462890625\n",
      "Precision is :\n",
      "0.5900581020012912\n",
      "F1_Score is :\n",
      "0.5082012788434807\n",
      "Confusion Matrix is :\n",
      "[[92655  2540]\n",
      " [ 4536  3656]]\n"
     ]
    }
   ],
   "source": [
    "ab = AdaBoostClassifier(n_estimators = 100, random_state=0)\n",
    "ab.fit(x_train, y_train)\n",
    "y_pred = ab.predict(x_test)\n",
    "print(\"Accuracy is\", metrics.accuracy_score(y_test, y_pred)*100)\n",
    "cm = confusion_matrix(y_test, y_pred)\n",
    "F1_Score=f1_score(y_test, y_pred)\n",
    "Recal= recall_score(y_test, y_pred)\n",
    "Precision =precision_score(y_test, y_pred)\n",
    "Log_loss=log_loss(y_test, y_pred)\n",
    "print(\"Log_loss :\", Log_loss, sep='\\n')\n",
    "print(\"Recal is :\", Recal, sep='\\n')\n",
    "print(\"Precision is :\", Precision, sep='\\n')\n",
    "print(\"F1_Score is :\", F1_Score, sep='\\n')\n",
    "print(\"Confusion Matrix is :\", cm, sep='\\n')"
   ]
  },
  {
   "cell_type": "code",
   "execution_count": 75,
   "metadata": {},
   "outputs": [
    {
     "data": {
      "text/plain": [
       "array([[0.51891899, 0.48108101],\n",
       "       [0.5090142 , 0.4909858 ],\n",
       "       [0.51621455, 0.48378545],\n",
       "       ...,\n",
       "       [0.51009923, 0.48990077],\n",
       "       [0.50042589, 0.49957411],\n",
       "       [0.50990871, 0.49009129]])"
      ]
     },
     "execution_count": 75,
     "metadata": {},
     "output_type": "execute_result"
    }
   ],
   "source": [
    "probs_ab = ab.predict_proba(x_test)\n",
    "probs_ab"
   ]
  },
  {
   "cell_type": "markdown",
   "metadata": {},
   "source": [
    "Feature Importance"
   ]
  },
  {
   "cell_type": "code",
   "execution_count": 76,
   "metadata": {},
   "outputs": [
    {
     "name": "stdout",
     "output_type": "stream",
     "text": [
      "Feature ranking:\n",
      "1. cart (0.210000)\n",
      "2. category (0.170000)\n",
      "3. content (0.110000)\n",
      "4. default (0.100000)\n",
      "5. error (0.100000)\n",
      "6. home (0.080000)\n",
      "7. iroa (0.080000)\n",
      "8. lorigreiner (0.050000)\n",
      "9. mys (0.050000)\n",
      "10. product (0.020000)\n",
      "11. product-listing-category (0.010000)\n",
      "12. product-listing-custom (0.010000)\n",
      "13. product-listing-search (0.010000)\n",
      "14. productNotFound (0.000000)\n",
      "15. shoplive (0.000000)\n",
      "16. signupcomplete (0.000000)\n"
     ]
    },
    {
     "data": {
      "image/png": "[encoded data removed]",
      "text/plain": [
       "<Figure size 432x288 with 1 Axes>"
      ]
     },
     "metadata": {
      "needs_background": "light"
     },
     "output_type": "display_data"
    }
   ],
   "source": [
    "col_names = list(x.columns.values)\n",
    "importances = ab.feature_importances_\n",
    "std = np.std([i.feature_importances_ for i in Random_Forest.estimators_],\n",
    "             axis=0)\n",
    "indices = np.argsort(importances)[::-1]\n",
    "\n",
    "# Print the feature ranking\n",
    "print(\"Feature ranking:\")\n",
    "\n",
    "for f in range(x_train.shape[1]):\n",
    "    print(\"%d. %s (%f)\" % (f + 1, col_names[f], importances[indices[f]]))\n",
    "\n",
    "# Plot the feature importances of the forest\n",
    "plt.figure()\n",
    "plt.title(\"Feature importances\")\n",
    "plt.bar(range(x_train.shape[1]), importances[indices],\n",
    "       color=\"r\", yerr=std[indices], align=\"center\")\n",
    "plt.xticks(range(x_train.shape[1]), indices)\n",
    "plt.xlim([-1, x_train.shape[1]])\n",
    "plt.show()"
   ]
  },
  {
   "cell_type": "markdown",
   "metadata": {},
   "source": [
    "The most important feature is User_id but ids is not important for conversion"
   ]
  },
  {
   "cell_type": "markdown",
   "metadata": {},
   "source": [
    "droping user id"
   ]
  },
  {
   "cell_type": "code",
   "execution_count": 16,
   "metadata": {},
   "outputs": [],
   "source": [
    "x=x.drop('user_id',axis=1)"
   ]
  },
  {
   "cell_type": "code",
   "execution_count": 17,
   "metadata": {},
   "outputs": [],
   "source": [
    "x_train, x_test, y_train, y_test =train_test_split(x,y, test_size=0.2, random_state=0)"
   ]
  },
  {
   "cell_type": "markdown",
   "metadata": {},
   "source": [
    "Random Forest"
   ]
  },
  {
   "cell_type": "code",
   "execution_count": 79,
   "metadata": {},
   "outputs": [
    {
     "name": "stderr",
     "output_type": "stream",
     "text": [
      "C:\\ProgramData\\Anaconda3\\lib\\site-packages\\sklearn\\ensemble\\forest.py:245: FutureWarning: The default value of n_estimators will change from 10 in version 0.20 to 100 in 0.22.\n",
      "  \"10 in version 0.20 to 100 in 0.22.\", FutureWarning)\n"
     ]
    },
    {
     "name": "stdout",
     "output_type": "stream",
     "text": [
      "Accuracy is  0.9260835501562092\n",
      "Confusion Matrix is :\n",
      "[[92540  2655]\n",
      " [ 4987  3205]]\n",
      "Log_loss :\n",
      "2.5530042668912403\n",
      "Recal is :\n",
      "0.3912353515625\n",
      "Precision is :\n",
      "0.5469283276450512\n",
      "F1-Score is :\n",
      "0.4561628237973242\n"
     ]
    }
   ],
   "source": [
    "Random_Forest =RandomForestClassifier(random_state=42)\n",
    "Random_Forest.fit(x_train,y_train)\n",
    "Random_Forest.score(x_test,y_test)\n",
    "y_pred = Random_Forest.predict(x_test)\n",
    "accuracy = metrics.accuracy_score(y_test,y_pred)\n",
    "print(\"Accuracy is \",accuracy)\n",
    "cm = confusion_matrix(y_test, y_pred)\n",
    "print(\"Confusion Matrix is :\", cm, sep='\\n')\n",
    "Recal= recall_score(y_test, y_pred)\n",
    "Precision =precision_score(y_test, y_pred)\n",
    "F1_Score=f1_score(y_test, y_pred)\n",
    "Log_loss=log_loss(y_test, y_pred)\n",
    "print(\"Log_loss :\", Log_loss, sep='\\n')\n",
    "print(\"Recal is :\", Recal, sep='\\n')\n",
    "print(\"Precision is :\", Precision, sep='\\n')\n",
    "print(\"F1-Score is :\", F1_Score, sep='\\n')"
   ]
  },
  {
   "cell_type": "code",
   "execution_count": 80,
   "metadata": {},
   "outputs": [
    {
     "data": {
      "text/plain": [
       "0.9260835501562092"
      ]
     },
     "execution_count": 80,
     "metadata": {},
     "output_type": "execute_result"
    }
   ],
   "source": [
    "Random_Forest.score(x_test,y_test)"
   ]
  },
  {
   "cell_type": "code",
   "execution_count": 81,
   "metadata": {},
   "outputs": [
    {
     "data": {
      "text/plain": [
       "array([[1.        , 0.        ],\n",
       "       [1.        , 0.        ],\n",
       "       [0.99841347, 0.00158653],\n",
       "       ...,\n",
       "       [1.        , 0.        ],\n",
       "       [0.9       , 0.1       ],\n",
       "       [1.        , 0.        ]])"
      ]
     },
     "execution_count": 81,
     "metadata": {},
     "output_type": "execute_result"
    }
   ],
   "source": [
    "Random_Forest.predict_proba(x_test)\n"
   ]
  },
  {
   "cell_type": "markdown",
   "metadata": {},
   "source": [
    "Didnt find any changes in accuracy score"
   ]
  },
  {
   "cell_type": "code",
   "execution_count": 82,
   "metadata": {},
   "outputs": [
    {
     "name": "stdout",
     "output_type": "stream",
     "text": [
      "Feature ranking:\n",
      "1. cart (0.429071)\n",
      "2. category (0.155362)\n",
      "3. content (0.079694)\n",
      "4. default (0.072683)\n",
      "5. error (0.072450)\n",
      "6. home (0.064657)\n",
      "7. iroa (0.056340)\n",
      "8. lorigreiner (0.047092)\n",
      "9. mys (0.013072)\n",
      "10. product (0.005694)\n",
      "11. product-listing-category (0.002333)\n",
      "12. product-listing-custom (0.001498)\n",
      "13. product-listing-search (0.000038)\n",
      "14. productNotFound (0.000017)\n",
      "15. shoplive (0.000000)\n",
      "16. signupcomplete (0.000000)\n"
     ]
    },
    {
     "data": {
      "image/png": "[encoded data removed]",
      "text/plain": [
       "<Figure size 432x288 with 1 Axes>"
      ]
     },
     "metadata": {
      "needs_background": "light"
     },
     "output_type": "display_data"
    }
   ],
   "source": [
    "col_names = list(x.columns.values)\n",
    "importances = Random_Forest.feature_importances_\n",
    "std = np.std([i.feature_importances_ for i in Random_Forest.estimators_],\n",
    "             axis=0)\n",
    "indices = np.argsort(importances)[::-1]\n",
    "\n",
    "# Print the feature ranking\n",
    "print(\"Feature ranking:\")\n",
    "\n",
    "for f in range(x_train.shape[1]):\n",
    "    print(\"%d. %s (%f)\" % (f + 1, col_names[f], importances[indices[f]]))\n",
    "\n",
    "# Plot the feature importances of the forest\n",
    "plt.figure()\n",
    "plt.title(\"Feature importances\")\n",
    "plt.bar(range(x_train.shape[1]), importances[indices],\n",
    "       color=\"r\", yerr=std[indices], align=\"center\")\n",
    "plt.xticks(range(x_train.shape[1]), indices)\n",
    "plt.xlim([-1, x_train.shape[1]])\n",
    "plt.show()"
   ]
  },
  {
   "cell_type": "markdown",
   "metadata": {},
   "source": [
    "LogisticRegression"
   ]
  },
  {
   "cell_type": "code",
   "execution_count": 83,
   "metadata": {},
   "outputs": [
    {
     "name": "stderr",
     "output_type": "stream",
     "text": [
      "C:\\ProgramData\\Anaconda3\\lib\\site-packages\\sklearn\\linear_model\\logistic.py:432: FutureWarning: Default solver will be changed to 'lbfgs' in 0.22. Specify a solver to silence this warning.\n",
      "  FutureWarning)\n"
     ]
    },
    {
     "name": "stdout",
     "output_type": "stream",
     "text": [
      "Accuracy is  0.9232011761633474\n",
      "Log_loss :\n",
      "2.6525419978959093\n",
      "Recal is :\n",
      "0.103271484375\n",
      "Precision is :\n",
      "0.5875\n",
      "F1_Score is :\n",
      "0.17566445182724252\n",
      "Confusion Matrix is :\n",
      "[[94601   594]\n",
      " [ 7346   846]]\n"
     ]
    }
   ],
   "source": [
    "lr = LogisticRegression()\n",
    "lr.fit(x_train,y_train)\n",
    "y_pred = lr.predict(x_test)\n",
    "accuracy = metrics.accuracy_score(y_test,y_pred)\n",
    "print(\"Accuracy is \",accuracy)\n",
    "cm = confusion_matrix(y_test, y_pred) \n",
    "Recal= recall_score(y_test, y_pred)\n",
    "Precision =precision_score(y_test, y_pred)\n",
    "F1_Score=f1_score(y_test, y_pred)\n",
    "Log_loss=log_loss(y_test, y_pred)\n",
    "print(\"Log_loss :\", Log_loss, sep='\\n')\n",
    "print(\"Recal is :\", Recal, sep='\\n')\n",
    "print(\"Precision is :\", Precision, sep='\\n')\n",
    "print(\"F1_Score is :\", F1_Score, sep='\\n')\n",
    "print(\"Confusion Matrix is :\", cm, sep='\\n')"
   ]
  },
  {
   "cell_type": "code",
   "execution_count": 84,
   "metadata": {},
   "outputs": [
    {
     "data": {
      "text/plain": [
       "array([[0.95481675, 0.04518325],\n",
       "       [0.93001122, 0.06998878],\n",
       "       [0.94475506, 0.05524494],\n",
       "       ...,\n",
       "       [0.93051598, 0.06948402],\n",
       "       [0.80745232, 0.19254768],\n",
       "       [0.90925008, 0.09074992]])"
      ]
     },
     "execution_count": 84,
     "metadata": {},
     "output_type": "execute_result"
    }
   ],
   "source": [
    "probs_lr =lr.predict_proba(x_test)\n",
    "probs_lr"
   ]
  },
  {
   "cell_type": "markdown",
   "metadata": {},
   "source": [
    "Gradient Boost Classification"
   ]
  },
  {
   "cell_type": "code",
   "execution_count": 20,
   "metadata": {},
   "outputs": [
    {
     "name": "stdout",
     "output_type": "stream",
     "text": [
      "Accuracy is 93.29025893003956\n",
      "Log_loss :\n",
      "2.317481823090556\n",
      "Recal is :\n",
      "0.458740234375\n",
      "Precision is :\n",
      "0.6002236064526434\n",
      "F1_Score is :\n",
      "0.5200304435065385\n",
      "Confusion Matrix is :\n",
      "[[92692  2503]\n",
      " [ 4434  3758]]\n",
      "Confusion Matrix is :\n",
      "[[92692  2503]\n",
      " [ 4434  3758]]\n"
     ]
    }
   ],
   "source": [
    "from sklearn.ensemble import AdaBoostClassifier, GradientBoostingClassifier\n",
    "from sklearn import metrics\n",
    "gb = GradientBoostingClassifier(n_estimators = 100, random_state=0)\n",
    "gb.fit(x_train, y_train)\n",
    "y_pred = gb.predict(x_test)\n",
    "print(\"Accuracy is\", metrics.accuracy_score(y_test, y_pred)*100)\n",
    "cm = confusion_matrix(y_test, y_pred)\n",
    "F1_Score=f1_score(y_test, y_pred)\n",
    "Recal= recall_score(y_test, y_pred)\n",
    "Precision =precision_score(y_test, y_pred)\n",
    "Log_loss=log_loss(y_test, y_pred)\n",
    "print(\"Log_loss :\", Log_loss, sep='\\n')\n",
    "print(\"Recal is :\", Recal, sep='\\n')\n",
    "print(\"Precision is :\", Precision, sep='\\n')\n",
    "print(\"F1_Score is :\", F1_Score, sep='\\n')\n",
    "print(\"Confusion Matrix is :\", cm, sep='\\n')\n",
    "print(\"Confusion Matrix is :\", cm, sep='\\n')"
   ]
  },
  {
   "cell_type": "code",
   "execution_count": 21,
   "metadata": {},
   "outputs": [
    {
     "data": {
      "text/plain": [
       "array([[0.99759728, 0.00240272],\n",
       "       [0.97447558, 0.02552442],\n",
       "       [0.99691139, 0.00308861],\n",
       "       ...,\n",
       "       [0.98266429, 0.01733571],\n",
       "       [0.50748779, 0.49251221],\n",
       "       [0.96983646, 0.03016354]])"
      ]
     },
     "execution_count": 21,
     "metadata": {},
     "output_type": "execute_result"
    }
   ],
   "source": [
    "probs_gb = gb.predict_proba(x_test)\n",
    "probs_gb"
   ]
  },
  {
   "cell_type": "markdown",
   "metadata": {},
   "source": [
    "Hyper_tunning"
   ]
  },
  {
   "cell_type": "code",
   "execution_count": null,
   "metadata": {},
   "outputs": [],
   "source": [
    "gb = GradientBoostingClassifier(criterion='friedman_mse', init=None,\n",
    "                           learning_rate=0.1, loss='deviance', max_depth=16,\n",
    "                           max_features=None, max_leaf_nodes=None,\n",
    "                           min_impurity_decrease=0.0, min_impurity_split=None,\n",
    "                           min_samples_leaf=1, min_samples_split=2,\n",
    "                           min_weight_fraction_leaf=0.0, n_estimators=100,\n",
    "                           n_iter_no_change=None, presort='auto',\n",
    "                           random_state=0, subsample=1.0, tol=0.0001,\n",
    "                           validation_fraction=0.1, verbose=0,\n",
    "                           warm_start=False)\n",
    "gb.fit(x_train, y_train)\n",
    "y_pred = gb.predict(x_test)\n",
    "print(\"Accuracy is\", metrics.accuracy_score(y_test, y_pred)*100)\n",
    "cm = confusion_matrix(y_test, y_pred)\n",
    "F1_Score=f1_score(y_test, y_pred)\n",
    "Recal= recall_score(y_test, y_pred)\n",
    "Precision =precision_score(y_test, y_pred)\n",
    "Log_loss=log_loss(y_test, y_pred)\n",
    "print(\"Log_loss :\", Log_loss, sep='\\n')\n",
    "print(\"Recal is :\", Recal, sep='\\n')\n",
    "print(\"Precision is :\", Precision, sep='\\n')\n",
    "print(\"F1_Score is :\", F1_Score, sep='\\n')\n",
    "print(\"Confusion Matrix is :\", cm, sep='\\n')\n",
    "print(\"Confusion Matrix is :\", cm, sep='\\n')"
   ]
  },
  {
   "cell_type": "code",
   "execution_count": null,
   "metadata": {},
   "outputs": [],
   "source": []
  },
  {
   "cell_type": "code",
   "execution_count": 22,
   "metadata": {},
   "outputs": [
    {
     "data": {
      "text/plain": [
       "GradientBoostingClassifier(criterion='friedman_mse', init=None,\n",
       "                           learning_rate=0.1, loss='deviance', max_depth=3,\n",
       "                           max_features=None, max_leaf_nodes=None,\n",
       "                           min_impurity_decrease=0.0, min_impurity_split=None,\n",
       "                           min_samples_leaf=1, min_samples_split=2,\n",
       "                           min_weight_fraction_leaf=0.0, n_estimators=100,\n",
       "                           n_iter_no_change=None, presort='auto',\n",
       "                           random_state=0, subsample=1.0, tol=0.0001,\n",
       "                           validation_fraction=0.1, verbose=0,\n",
       "                           warm_start=False)"
      ]
     },
     "execution_count": 22,
     "metadata": {},
     "output_type": "execute_result"
    }
   ],
   "source": [
    "gb"
   ]
  },
  {
   "cell_type": "markdown",
   "metadata": {},
   "source": [
    "Feature importances"
   ]
  },
  {
   "cell_type": "code",
   "execution_count": 87,
   "metadata": {},
   "outputs": [
    {
     "name": "stdout",
     "output_type": "stream",
     "text": [
      "Feature ranking:\n",
      "1. cart (0.870184)\n",
      "2. category (0.053271)\n",
      "3. content (0.030068)\n",
      "4. default (0.026109)\n",
      "5. error (0.012963)\n",
      "6. home (0.004771)\n",
      "7. iroa (0.001723)\n",
      "8. lorigreiner (0.000754)\n",
      "9. mys (0.000098)\n",
      "10. product (0.000033)\n",
      "11. product-listing-category (0.000028)\n",
      "12. product-listing-custom (0.000000)\n",
      "13. product-listing-search (0.000000)\n",
      "14. productNotFound (0.000000)\n",
      "15. shoplive (0.000000)\n",
      "16. signupcomplete (0.000000)\n"
     ]
    },
    {
     "data": {
      "image/png": "[encoded data removed]",
      "text/plain": [
       "<Figure size 432x288 with 1 Axes>"
      ]
     },
     "metadata": {
      "needs_background": "light"
     },
     "output_type": "display_data"
    }
   ],
   "source": [
    "col_names = list(x.columns.values)\n",
    "importances = gb.feature_importances_\n",
    "std = np.std([i.feature_importances_ for i in Random_Forest.estimators_],\n",
    "             axis=0)\n",
    "indices = np.argsort(importances)[::-1]\n",
    "\n",
    "# Print the feature ranking\n",
    "print(\"Feature ranking:\")\n",
    "\n",
    "for f in range(x_train.shape[1]):\n",
    "    print(\"%d. %s (%f)\" % (f + 1, col_names[f], importances[indices[f]]))\n",
    "\n",
    "# Plot the feature importances of the forest\n",
    "plt.figure()\n",
    "plt.title(\"Feature importances\")\n",
    "plt.bar(range(x_train.shape[1]), importances[indices],\n",
    "       color=\"r\", yerr=std[indices], align=\"center\")\n",
    "plt.xticks(range(x_train.shape[1]), indices)\n",
    "plt.xlim([-1, x_train.shape[1]])\n",
    "plt.show()"
   ]
  },
  {
   "cell_type": "markdown",
   "metadata": {},
   "source": [
    "AdaBoost Classification"
   ]
  },
  {
   "cell_type": "code",
   "execution_count": 88,
   "metadata": {},
   "outputs": [
    {
     "name": "stdout",
     "output_type": "stream",
     "text": [
      "Accuracy is 93.15581262634566\n",
      "Log_loss :\n",
      "2.3639182174534583\n",
      "Recal is :\n",
      "0.4462890625\n",
      "Precision is :\n",
      "0.5900581020012912\n",
      "F1_Score is :\n",
      "0.5082012788434807\n",
      "Confusion Matrix is :\n",
      "[[92655  2540]\n",
      " [ 4536  3656]]\n"
     ]
    }
   ],
   "source": [
    "ab = AdaBoostClassifier(n_estimators = 100, random_state=0)\n",
    "ab.fit(x_train, y_train)\n",
    "y_pred = ab.predict(x_test)\n",
    "print(\"Accuracy is\", metrics.accuracy_score(y_test, y_pred)*100)\n",
    "cm = confusion_matrix(y_test, y_pred)\n",
    "F1_Score=f1_score(y_test, y_pred)\n",
    "Recal= recall_score(y_test, y_pred)\n",
    "Precision =precision_score(y_test, y_pred)\n",
    "Log_loss=log_loss(y_test, y_pred)\n",
    "print(\"Log_loss :\", Log_loss, sep='\\n')\n",
    "print(\"Recal is :\", Recal, sep='\\n')\n",
    "print(\"Precision is :\", Precision, sep='\\n')\n",
    "print(\"F1_Score is :\", F1_Score, sep='\\n')\n",
    "print(\"Confusion Matrix is :\", cm, sep='\\n')"
   ]
  },
  {
   "cell_type": "code",
   "execution_count": 89,
   "metadata": {},
   "outputs": [
    {
     "data": {
      "text/plain": [
       "array([[0.51891899, 0.48108101],\n",
       "       [0.5090142 , 0.4909858 ],\n",
       "       [0.51621455, 0.48378545],\n",
       "       ...,\n",
       "       [0.51009923, 0.48990077],\n",
       "       [0.50042589, 0.49957411],\n",
       "       [0.50990871, 0.49009129]])"
      ]
     },
     "execution_count": 89,
     "metadata": {},
     "output_type": "execute_result"
    }
   ],
   "source": [
    "probs_ab = ab.predict_proba(x_test)\n",
    "probs_ab"
   ]
  },
  {
   "cell_type": "markdown",
   "metadata": {},
   "source": [
    "Feature Importance"
   ]
  },
  {
   "cell_type": "code",
   "execution_count": 90,
   "metadata": {},
   "outputs": [
    {
     "name": "stdout",
     "output_type": "stream",
     "text": [
      "Feature ranking:\n",
      "1. cart (0.210000)\n",
      "2. category (0.170000)\n",
      "3. content (0.110000)\n",
      "4. default (0.100000)\n",
      "5. error (0.100000)\n",
      "6. home (0.080000)\n",
      "7. iroa (0.080000)\n",
      "8. lorigreiner (0.050000)\n",
      "9. mys (0.050000)\n",
      "10. product (0.020000)\n",
      "11. product-listing-category (0.010000)\n",
      "12. product-listing-custom (0.010000)\n",
      "13. product-listing-search (0.010000)\n",
      "14. productNotFound (0.000000)\n",
      "15. shoplive (0.000000)\n",
      "16. signupcomplete (0.000000)\n"
     ]
    },
    {
     "data": {
      "image/png": "[encoded data removed]",
      "text/plain": [
       "<Figure size 432x288 with 1 Axes>"
      ]
     },
     "metadata": {
      "needs_background": "light"
     },
     "output_type": "display_data"
    }
   ],
   "source": [
    "col_names = list(x.columns.values)\n",
    "importances = ab.feature_importances_\n",
    "std = np.std([i.feature_importances_ for i in Random_Forest.estimators_],\n",
    "             axis=0)\n",
    "indices = np.argsort(importances)[::-1]\n",
    "\n",
    "# Print the feature ranking\n",
    "print(\"Feature ranking:\")\n",
    "\n",
    "for f in range(x_train.shape[1]):\n",
    "    print(\"%d. %s (%f)\" % (f + 1, col_names[f], importances[indices[f]]))\n",
    "\n",
    "# Plot the feature importances of the forest\n",
    "plt.figure()\n",
    "plt.title(\"Feature importances\")\n",
    "plt.bar(range(x_train.shape[1]), importances[indices],\n",
    "       color=\"r\", yerr=std[indices], align=\"center\")\n",
    "plt.xticks(range(x_train.shape[1]), indices)\n",
    "plt.xlim([-1, x_train.shape[1]])\n",
    "plt.show()"
   ]
  },
  {
   "cell_type": "markdown",
   "metadata": {},
   "source": [
    "we find some changes in feature importance"
   ]
  },
  {
   "cell_type": "markdown",
   "metadata": {},
   "source": [
    "### lets Normalization data set"
   ]
  },
  {
   "cell_type": "markdown",
   "metadata": {},
   "source": [
    "Min Max Normalization"
   ]
  },
  {
   "cell_type": "code",
   "execution_count": 91,
   "metadata": {},
   "outputs": [],
   "source": [
    "def normalize(column):\n",
    "    upper = column.max()\n",
    "    lower = column.min()\n",
    "    m = (column - lower)/(upper-lower)\n",
    "    return m\n",
    "x = normalize(x)"
   ]
  },
  {
   "cell_type": "code",
   "execution_count": 92,
   "metadata": {},
   "outputs": [
    {
     "data": {
      "text/html": [
       "<div>\n",
       "<style scoped>\n",
       "    .dataframe tbody tr th:only-of-type {\n",
       "        vertical-align: middle;\n",
       "    }\n",
       "\n",
       "    .dataframe tbody tr th {\n",
       "        vertical-align: top;\n",
       "    }\n",
       "\n",
       "    .dataframe thead th {\n",
       "        text-align: right;\n",
       "    }\n",
       "</style>\n",
       "<table border=\"1\" class=\"dataframe\">\n",
       "  <thead>\n",
       "    <tr style=\"text-align: right;\">\n",
       "      <th>browsing_url</th>\n",
       "      <th>cart</th>\n",
       "      <th>category</th>\n",
       "      <th>content</th>\n",
       "      <th>default</th>\n",
       "      <th>error</th>\n",
       "      <th>home</th>\n",
       "      <th>iroa</th>\n",
       "      <th>lorigreiner</th>\n",
       "      <th>mys</th>\n",
       "      <th>product</th>\n",
       "      <th>product-listing-category</th>\n",
       "      <th>product-listing-custom</th>\n",
       "      <th>product-listing-search</th>\n",
       "      <th>productNotFound</th>\n",
       "      <th>shoplive</th>\n",
       "      <th>signupcomplete</th>\n",
       "    </tr>\n",
       "  </thead>\n",
       "  <tbody>\n",
       "    <tr>\n",
       "      <th>0</th>\n",
       "      <td>0.0</td>\n",
       "      <td>0.0</td>\n",
       "      <td>0.038217</td>\n",
       "      <td>0.001838</td>\n",
       "      <td>0.0</td>\n",
       "      <td>0.00885</td>\n",
       "      <td>0.0</td>\n",
       "      <td>0.0</td>\n",
       "      <td>0.0</td>\n",
       "      <td>0.008075</td>\n",
       "      <td>0.005848</td>\n",
       "      <td>0.0</td>\n",
       "      <td>0.0</td>\n",
       "      <td>0.0</td>\n",
       "      <td>0.0</td>\n",
       "      <td>0.0</td>\n",
       "    </tr>\n",
       "    <tr>\n",
       "      <th>1</th>\n",
       "      <td>0.0</td>\n",
       "      <td>0.0</td>\n",
       "      <td>0.000000</td>\n",
       "      <td>0.000000</td>\n",
       "      <td>0.0</td>\n",
       "      <td>0.00000</td>\n",
       "      <td>0.0</td>\n",
       "      <td>0.0</td>\n",
       "      <td>0.0</td>\n",
       "      <td>0.002692</td>\n",
       "      <td>0.000000</td>\n",
       "      <td>0.0</td>\n",
       "      <td>0.0</td>\n",
       "      <td>0.0</td>\n",
       "      <td>0.0</td>\n",
       "      <td>0.0</td>\n",
       "    </tr>\n",
       "  </tbody>\n",
       "</table>\n",
       "</div>"
      ],
      "text/plain": [
       "browsing_url  cart  category   content   default  error     home  iroa  \\\n",
       "0              0.0       0.0  0.038217  0.001838    0.0  0.00885   0.0   \n",
       "1              0.0       0.0  0.000000  0.000000    0.0  0.00000   0.0   \n",
       "\n",
       "browsing_url  lorigreiner  mys   product  product-listing-category  \\\n",
       "0                     0.0  0.0  0.008075                  0.005848   \n",
       "1                     0.0  0.0  0.002692                  0.000000   \n",
       "\n",
       "browsing_url  product-listing-custom  product-listing-search  productNotFound  \\\n",
       "0                                0.0                     0.0              0.0   \n",
       "1                                0.0                     0.0              0.0   \n",
       "\n",
       "browsing_url  shoplive  signupcomplete  \n",
       "0                  0.0             0.0  \n",
       "1                  0.0             0.0  "
      ]
     },
     "execution_count": 92,
     "metadata": {},
     "output_type": "execute_result"
    }
   ],
   "source": [
    "x.head(2)"
   ]
  },
  {
   "cell_type": "code",
   "execution_count": 93,
   "metadata": {},
   "outputs": [],
   "source": [
    "x_train, x_test, y_train, y_test =train_test_split(x,y, test_size=0.2, random_state=0)"
   ]
  },
  {
   "cell_type": "markdown",
   "metadata": {},
   "source": [
    "Logistic Regression"
   ]
  },
  {
   "cell_type": "code",
   "execution_count": 94,
   "metadata": {},
   "outputs": [
    {
     "name": "stderr",
     "output_type": "stream",
     "text": [
      "C:\\ProgramData\\Anaconda3\\lib\\site-packages\\sklearn\\linear_model\\logistic.py:432: FutureWarning: Default solver will be changed to 'lbfgs' in 0.22. Specify a solver to silence this warning.\n",
      "  FutureWarning)\n"
     ]
    },
    {
     "name": "stdout",
     "output_type": "stream",
     "text": [
      "Accuracy is  0.9232011761633474\n",
      "Log_loss :\n",
      "2.6525419978959093\n",
      "Recal is :\n",
      "0.103271484375\n",
      "Precision is :\n",
      "0.5875\n",
      "F1_Score is :\n",
      "0.17566445182724252\n",
      "Confusion Matrix is :\n",
      "[[94601   594]\n",
      " [ 7346   846]]\n"
     ]
    }
   ],
   "source": [
    "lr = LogisticRegression()\n",
    "lr.fit(x_train,y_train)\n",
    "y_pred = lr.predict(x_test)\n",
    "accuracy = metrics.accuracy_score(y_test,y_pred)\n",
    "print(\"Accuracy is \",accuracy)\n",
    "cm = confusion_matrix(y_test, y_pred) \n",
    "Recal= recall_score(y_test, y_pred)\n",
    "Precision =precision_score(y_test, y_pred)\n",
    "F1_Score=f1_score(y_test, y_pred)\n",
    "Log_loss=log_loss(y_test, y_pred)\n",
    "print(\"Log_loss :\", Log_loss, sep='\\n')\n",
    "print(\"Recal is :\", Recal, sep='\\n')\n",
    "print(\"Precision is :\", Precision, sep='\\n')\n",
    "print(\"F1_Score is :\", F1_Score, sep='\\n')\n",
    "print(\"Confusion Matrix is :\", cm, sep='\\n')"
   ]
  },
  {
   "cell_type": "code",
   "execution_count": 95,
   "metadata": {},
   "outputs": [
    {
     "data": {
      "text/plain": [
       "array([[0.95481675, 0.04518325],\n",
       "       [0.93001122, 0.06998878],\n",
       "       [0.94475506, 0.05524494],\n",
       "       ...,\n",
       "       [0.93051598, 0.06948402],\n",
       "       [0.80745232, 0.19254768],\n",
       "       [0.90925008, 0.09074992]])"
      ]
     },
     "execution_count": 95,
     "metadata": {},
     "output_type": "execute_result"
    }
   ],
   "source": [
    "lr.predict_proba(x_test)"
   ]
  },
  {
   "cell_type": "markdown",
   "metadata": {},
   "source": [
    "### Random Forest"
   ]
  },
  {
   "cell_type": "code",
   "execution_count": 96,
   "metadata": {},
   "outputs": [
    {
     "name": "stderr",
     "output_type": "stream",
     "text": [
      "C:\\ProgramData\\Anaconda3\\lib\\site-packages\\sklearn\\ensemble\\forest.py:245: FutureWarning: The default value of n_estimators will change from 10 in version 0.20 to 100 in 0.22.\n",
      "  \"10 in version 0.20 to 100 in 0.22.\", FutureWarning)\n"
     ]
    },
    {
     "name": "stdout",
     "output_type": "stream",
     "text": [
      "Accuracy is  0.9260835501562092\n",
      "Confusion Matrix is :\n",
      "[[92540  2655]\n",
      " [ 4987  3205]]\n",
      "Log_loss :\n",
      "2.5530042668912403\n",
      "Recal is :\n",
      "0.3912353515625\n",
      "Precision is :\n",
      "0.5469283276450512\n",
      "F1-Score is :\n",
      "0.4561628237973242\n"
     ]
    }
   ],
   "source": [
    "from sklearn.ensemble import RandomForestClassifier\n",
    "Random_Forest =RandomForestClassifier(random_state=42)\n",
    "Random_Forest.fit(x_train,y_train)\n",
    "Random_Forest.score(x_test,y_test)\n",
    "y_pred = Random_Forest.predict(x_test)\n",
    "accuracy = metrics.accuracy_score(y_test,y_pred)\n",
    "print(\"Accuracy is \",accuracy)\n",
    "cm = confusion_matrix(y_test, y_pred)\n",
    "print(\"Confusion Matrix is :\", cm, sep='\\n')\n",
    "Recal= recall_score(y_test, y_pred)\n",
    "Precision =precision_score(y_test, y_pred)\n",
    "F1_Score=f1_score(y_test, y_pred)\n",
    "Log_loss=log_loss(y_test, y_pred)\n",
    "print(\"Log_loss :\", Log_loss, sep='\\n')\n",
    "print(\"Recal is :\", Recal, sep='\\n')\n",
    "print(\"Precision is :\", Precision, sep='\\n')\n",
    "print(\"F1-Score is :\", F1_Score, sep='\\n')"
   ]
  },
  {
   "cell_type": "code",
   "execution_count": 97,
   "metadata": {},
   "outputs": [
    {
     "data": {
      "text/plain": [
       "array([[1.        , 0.        ],\n",
       "       [1.        , 0.        ],\n",
       "       [0.99841347, 0.00158653],\n",
       "       ...,\n",
       "       [1.        , 0.        ],\n",
       "       [0.9       , 0.1       ],\n",
       "       [1.        , 0.        ]])"
      ]
     },
     "execution_count": 97,
     "metadata": {},
     "output_type": "execute_result"
    }
   ],
   "source": [
    "probs_Random_Forest =Random_Forest.predict_proba(x_test)\n",
    "probs_Random_Forest"
   ]
  },
  {
   "cell_type": "markdown",
   "metadata": {},
   "source": [
    "feature importances"
   ]
  },
  {
   "cell_type": "code",
   "execution_count": 98,
   "metadata": {},
   "outputs": [
    {
     "name": "stdout",
     "output_type": "stream",
     "text": [
      "Feature ranking:\n",
      "1. cart (0.429071)\n",
      "2. category (0.155362)\n",
      "3. content (0.079694)\n",
      "4. default (0.072683)\n",
      "5. error (0.072450)\n",
      "6. home (0.064657)\n",
      "7. iroa (0.056340)\n",
      "8. lorigreiner (0.047092)\n",
      "9. mys (0.013072)\n",
      "10. product (0.005694)\n",
      "11. product-listing-category (0.002333)\n",
      "12. product-listing-custom (0.001498)\n",
      "13. product-listing-search (0.000038)\n",
      "14. productNotFound (0.000017)\n",
      "15. shoplive (0.000000)\n",
      "16. signupcomplete (0.000000)\n"
     ]
    },
    {
     "data": {
      "image/png": "[encoded data removed]",
      "text/plain": [
       "<Figure size 432x288 with 1 Axes>"
      ]
     },
     "metadata": {
      "needs_background": "light"
     },
     "output_type": "display_data"
    }
   ],
   "source": [
    "col_names = list(x.columns.values)\n",
    "importances = Random_Forest.feature_importances_\n",
    "std = np.std([i.feature_importances_ for i in Random_Forest.estimators_],\n",
    "             axis=0)\n",
    "indices = np.argsort(importances)[::-1]\n",
    "\n",
    "# Print the feature ranking\n",
    "print(\"Feature ranking:\")\n",
    "\n",
    "for f in range(x_train.shape[1]):\n",
    "    print(\"%d. %s (%f)\" % (f + 1, col_names[f], importances[indices[f]]))\n",
    "\n",
    "# Plot the feature importances of the forest\n",
    "plt.figure()\n",
    "plt.title(\"Feature importances\")\n",
    "plt.bar(range(x_train.shape[1]), importances[indices],\n",
    "       color=\"r\", yerr=std[indices], align=\"center\")\n",
    "plt.xticks(range(x_train.shape[1]), indices)\n",
    "plt.xlim([-1, x_train.shape[1]])\n",
    "plt.show()"
   ]
  },
  {
   "cell_type": "markdown",
   "metadata": {},
   "source": [
    "Gradient Boost Classification"
   ]
  },
  {
   "cell_type": "code",
   "execution_count": 99,
   "metadata": {},
   "outputs": [
    {
     "name": "stdout",
     "output_type": "stream",
     "text": [
      "Accuracy is 93.29025893003956\n",
      "Log_loss :\n",
      "2.317481823090556\n",
      "Recal is :\n",
      "0.458740234375\n",
      "Precision is :\n",
      "0.6002236064526434\n",
      "F1_Score is :\n",
      "0.5200304435065385\n",
      "Confusion Matrix is :\n",
      "[[92692  2503]\n",
      " [ 4434  3758]]\n",
      "Confusion Matrix is :\n",
      "[[92692  2503]\n",
      " [ 4434  3758]]\n"
     ]
    }
   ],
   "source": [
    "gb = GradientBoostingClassifier(n_estimators = 100, random_state=0)\n",
    "gb.fit(x_train, y_train)\n",
    "y_pred = gb.predict(x_test)\n",
    "print(\"Accuracy is\", metrics.accuracy_score(y_test, y_pred)*100)\n",
    "cm = confusion_matrix(y_test, y_pred)\n",
    "F1_Score=f1_score(y_test, y_pred)\n",
    "Recal= recall_score(y_test, y_pred)\n",
    "Precision =precision_score(y_test, y_pred)\n",
    "Log_loss=log_loss(y_test, y_pred)\n",
    "print(\"Log_loss :\", Log_loss, sep='\\n')\n",
    "print(\"Recal is :\", Recal, sep='\\n')\n",
    "print(\"Precision is :\", Precision, sep='\\n')\n",
    "print(\"F1_Score is :\", F1_Score, sep='\\n')\n",
    "print(\"Confusion Matrix is :\", cm, sep='\\n')"
   ]
  },
  {
   "cell_type": "code",
   "execution_count": 100,
   "metadata": {},
   "outputs": [
    {
     "data": {
      "text/plain": [
       "array([[0.99759728, 0.00240272],\n",
       "       [0.97447558, 0.02552442],\n",
       "       [0.99691139, 0.00308861],\n",
       "       ...,\n",
       "       [0.98266429, 0.01733571],\n",
       "       [0.50748779, 0.49251221],\n",
       "       [0.96983646, 0.03016354]])"
      ]
     },
     "execution_count": 100,
     "metadata": {},
     "output_type": "execute_result"
    }
   ],
   "source": [
    "probs_gb = gb.predict_proba(x_test)\n",
    "probs_gb"
   ]
  },
  {
   "cell_type": "markdown",
   "metadata": {},
   "source": [
    "feature importances"
   ]
  },
  {
   "cell_type": "code",
   "execution_count": 101,
   "metadata": {},
   "outputs": [
    {
     "name": "stdout",
     "output_type": "stream",
     "text": [
      "Feature ranking:\n",
      "1. cart (0.870184)\n",
      "2. category (0.053271)\n",
      "3. content (0.030068)\n",
      "4. default (0.026109)\n",
      "5. error (0.012963)\n",
      "6. home (0.004771)\n",
      "7. iroa (0.001723)\n",
      "8. lorigreiner (0.000754)\n",
      "9. mys (0.000098)\n",
      "10. product (0.000033)\n",
      "11. product-listing-category (0.000028)\n",
      "12. product-listing-custom (0.000000)\n",
      "13. product-listing-search (0.000000)\n",
      "14. productNotFound (0.000000)\n",
      "15. shoplive (0.000000)\n",
      "16. signupcomplete (0.000000)\n"
     ]
    },
    {
     "data": {
      "image/png": "[encoded data removed]",
      "text/plain": [
       "<Figure size 432x288 with 1 Axes>"
      ]
     },
     "metadata": {
      "needs_background": "light"
     },
     "output_type": "display_data"
    }
   ],
   "source": [
    "col_names = list(x.columns.values)\n",
    "importances = gb.feature_importances_\n",
    "std = np.std([i.feature_importances_ for i in Random_Forest.estimators_],\n",
    "             axis=0)\n",
    "indices = np.argsort(importances)[::-1]\n",
    "\n",
    "# Print the feature ranking\n",
    "print(\"Feature ranking:\")\n",
    "\n",
    "for f in range(x_train.shape[1]):\n",
    "    print(\"%d. %s (%f)\" % (f + 1, col_names[f], importances[indices[f]]))\n",
    "\n",
    "# Plot the feature importances of the forest\n",
    "plt.figure()\n",
    "plt.title(\"Feature importances\")\n",
    "plt.bar(range(x_train.shape[1]), importances[indices],\n",
    "       color=\"r\", yerr=std[indices], align=\"center\")\n",
    "plt.xticks(range(x_train.shape[1]), indices)\n",
    "plt.xlim([-1, x_train.shape[1]])\n",
    "plt.show()"
   ]
  },
  {
   "cell_type": "code",
   "execution_count": 106,
   "metadata": {},
   "outputs": [
    {
     "data": {
      "text/plain": [
       "[0.0,\n",
       " 3.0,\n",
       " 0.0,\n",
       " 2.0,\n",
       " 0.0,\n",
       " 42.0,\n",
       " 0.0,\n",
       " 0.0,\n",
       " 1.0,\n",
       " 1.0,\n",
       " 0.0,\n",
       " 2.0,\n",
       " 1.0,\n",
       " 0.0,\n",
       " 1.0,\n",
       " 0.0,\n",
       " 6.0,\n",
       " 0.0,\n",
       " 19.0,\n",
       " 1.0,\n",
       " 1.0,\n",
       " 0.0,\n",
       " 1.0,\n",
       " 39.0,\n",
       " 34.0,\n",
       " 4.0,\n",
       " 24.0,\n",
       " 3.0,\n",
       " 28.0,\n",
       " 1.0,\n",
       " 1.0,\n",
       " 0.0,\n",
       " 0.0,\n",
       " 1.0,\n",
       " 2.0,\n",
       " 1.0,\n",
       " 54.0,\n",
       " 0.0,\n",
       " 1.0,\n",
       " 1.0,\n",
       " 3.0,\n",
       " 26.0,\n",
       " 2.0,\n",
       " 0.0,\n",
       " 2.0,\n",
       " 3.0,\n",
       " 0.0,\n",
       " 1.0,\n",
       " 0.0,\n",
       " 1.0,\n",
       " 11.0,\n",
       " 1.0,\n",
       " 1.0,\n",
       " 0.0,\n",
       " 5.0,\n",
       " 0.0,\n",
       " 1.0,\n",
       " 1.0,\n",
       " 1.0,\n",
       " 1.0,\n",
       " 2.0,\n",
       " 0.0,\n",
       " 1.0,\n",
       " 18.0,\n",
       " 0.0,\n",
       " 1.0,\n",
       " 1.0,\n",
       " 1.0,\n",
       " 1.0,\n",
       " 4.0,\n",
       " 58.0,\n",
       " 1.0,\n",
       " 3.0,\n",
       " 0.0,\n",
       " 1.0,\n",
       " 1.0,\n",
       " 1.0,\n",
       " 0.0,\n",
       " 1.0,\n",
       " 57.0,\n",
       " 1.0,\n",
       " 1.0,\n",
       " 0.0,\n",
       " 4.0,\n",
       " 1.0,\n",
       " 1.0,\n",
       " 1.0,\n",
       " 1.0,\n",
       " 3.0,\n",
       " 2.0,\n",
       " 0.0,\n",
       " 2.0,\n",
       " 43.0,\n",
       " 2.0,\n",
       " 0.0,\n",
       " 1.0,\n",
       " 9.0,\n",
       " 2.0,\n",
       " 12.0,\n",
       " 0.0,\n",
       " 3.0,\n",
       " 40.0,\n",
       " 1.0,\n",
       " 17.0,\n",
       " 64.0,\n",
       " 0.0,\n",
       " 2.0,\n",
       " 0.0,\n",
       " 0.0,\n",
       " 6.0,\n",
       " 0.0,\n",
       " 1.0,\n",
       " 1.0,\n",
       " 2.0,\n",
       " 1.0,\n",
       " 0.0,\n",
       " 2.0,\n",
       " 1.0,\n",
       " 0.0,\n",
       " 0.0,\n",
       " 1.0,\n",
       " 0.0,\n",
       " 5.0,\n",
       " 2.0,\n",
       " 51.0,\n",
       " 1.0,\n",
       " 2.0,\n",
       " 1.0,\n",
       " 1.0,\n",
       " 0.0,\n",
       " 9.0,\n",
       " 1.0,\n",
       " 0.0,\n",
       " 1.0,\n",
       " 2.0,\n",
       " 38.0,\n",
       " 1.0,\n",
       " 2.0,\n",
       " 0.0,\n",
       " 0.0,\n",
       " 0.0,\n",
       " 0.0,\n",
       " 1.0,\n",
       " 1.0,\n",
       " 1.0,\n",
       " 8.0,\n",
       " 0.0,\n",
       " 66.0,\n",
       " 60.0,\n",
       " 4.0,\n",
       " 59.0,\n",
       " 0.0,\n",
       " 1.0,\n",
       " 1.0,\n",
       " 4.0,\n",
       " 13.0,\n",
       " 0.0,\n",
       " 1.0,\n",
       " 2.0,\n",
       " 0.0,\n",
       " 2.0,\n",
       " 2.0,\n",
       " 63.0,\n",
       " 0.0,\n",
       " 0.0,\n",
       " 6.0,\n",
       " 1.0,\n",
       " 9.0,\n",
       " 3.0,\n",
       " 0.0,\n",
       " 1.0,\n",
       " 1.0,\n",
       " 52.0,\n",
       " 2.0,\n",
       " 0.0,\n",
       " 1.0,\n",
       " 1.0,\n",
       " 2.0,\n",
       " 0.0,\n",
       " 1.0,\n",
       " 0.0,\n",
       " 8.0,\n",
       " 1.0,\n",
       " 0.0,\n",
       " 44.0,\n",
       " 0.0,\n",
       " 0.0,\n",
       " 0.0,\n",
       " 0.0,\n",
       " 0.0,\n",
       " 1.0,\n",
       " 5.0,\n",
       " 2.0,\n",
       " 1.0,\n",
       " 0.0,\n",
       " 0.0,\n",
       " 68.0,\n",
       " 1.0,\n",
       " 1.0,\n",
       " 68.0,\n",
       " 0.0,\n",
       " 1.0,\n",
       " 1.0,\n",
       " 2.0,\n",
       " 2.0,\n",
       " 1.0,\n",
       " 7.0,\n",
       " 1.0,\n",
       " 0.0,\n",
       " 1.0,\n",
       " 1.0,\n",
       " 0.0,\n",
       " 10.0,\n",
       " 1.0,\n",
       " 2.0,\n",
       " 44.0,\n",
       " 0.0,\n",
       " 1.0,\n",
       " 64.0,\n",
       " 0.0,\n",
       " 1.0,\n",
       " 0.0,\n",
       " 0.0,\n",
       " 1.0,\n",
       " 1.0,\n",
       " 2.0,\n",
       " 1.0,\n",
       " 9.0,\n",
       " 0.0,\n",
       " 1.0,\n",
       " 0.0,\n",
       " 0.0,\n",
       " 3.0,\n",
       " 49.0,\n",
       " 47.0,\n",
       " 2.0,\n",
       " 1.0,\n",
       " 26.0,\n",
       " 2.0,\n",
       " 2.0,\n",
       " 1.0,\n",
       " 1.0,\n",
       " 0.0,\n",
       " 4.0,\n",
       " 1.0,\n",
       " 0.0,\n",
       " 1.0,\n",
       " 8.0,\n",
       " 1.0,\n",
       " 1.0,\n",
       " 0.0,\n",
       " 0.0,\n",
       " 2.0,\n",
       " 26.0,\n",
       " 0.0,\n",
       " 0.0,\n",
       " 1.0,\n",
       " 10.0,\n",
       " 1.0,\n",
       " 1.0,\n",
       " 26.0,\n",
       " 1.0,\n",
       " 2.0,\n",
       " 2.0,\n",
       " 0.0,\n",
       " 2.0,\n",
       " 0.0,\n",
       " 2.0,\n",
       " 0.0,\n",
       " 0.0,\n",
       " 4.0,\n",
       " 2.0,\n",
       " 2.0,\n",
       " 57.0,\n",
       " 1.0,\n",
       " 1.0,\n",
       " 1.0,\n",
       " 28.0,\n",
       " 1.0,\n",
       " 60.0,\n",
       " 1.0,\n",
       " 66.0,\n",
       " 3.0,\n",
       " 0.0,\n",
       " 0.0,\n",
       " 1.0,\n",
       " 1.0,\n",
       " 1.0,\n",
       " 65.0,\n",
       " 2.0,\n",
       " 0.0,\n",
       " 4.0,\n",
       " 1.0,\n",
       " 14.0,\n",
       " 0.0,\n",
       " 1.0,\n",
       " 1.0,\n",
       " 1.0,\n",
       " 2.0,\n",
       " 1.0,\n",
       " 3.0,\n",
       " 7.0,\n",
       " 73.0,\n",
       " 1.0,\n",
       " 41.0,\n",
       " 3.0,\n",
       " 3.0,\n",
       " 0.0,\n",
       " 0.0,\n",
       " 0.0,\n",
       " 0.0,\n",
       " 3.0,\n",
       " 1.0,\n",
       " 1.0,\n",
       " 2.0,\n",
       " 2.0,\n",
       " 0.0,\n",
       " 55.0,\n",
       " 34.0,\n",
       " 1.0,\n",
       " 0.0,\n",
       " 0.0,\n",
       " 2.0,\n",
       " 2.0,\n",
       " 0.0,\n",
       " 0.0,\n",
       " 3.0,\n",
       " 0.0,\n",
       " 0.0,\n",
       " 1.0,\n",
       " 2.0,\n",
       " 40.0,\n",
       " 1.0,\n",
       " 3.0,\n",
       " 26.0,\n",
       " 0.0,\n",
       " 10.0,\n",
       " 4.0,\n",
       " 2.0,\n",
       " 1.0,\n",
       " 1.0,\n",
       " 2.0,\n",
       " 2.0,\n",
       " 46.0,\n",
       " 39.0,\n",
       " 2.0,\n",
       " 1.0,\n",
       " 73.0,\n",
       " 56.0,\n",
       " 1.0,\n",
       " 0.0,\n",
       " 53.0,\n",
       " 2.0,\n",
       " 0.0,\n",
       " 1.0,\n",
       " 0.0,\n",
       " 1.0,\n",
       " 1.0,\n",
       " 0.0,\n",
       " 28.0,\n",
       " 2.0,\n",
       " 0.0,\n",
       " 1.0,\n",
       " 0.0,\n",
       " 0.0,\n",
       " 0.0,\n",
       " 9.0,\n",
       " 18.0,\n",
       " 1.0,\n",
       " 0.0,\n",
       " 2.0,\n",
       " 1.0,\n",
       " 64.0,\n",
       " 2.0,\n",
       " 0.0,\n",
       " 0.0,\n",
       " 5.0,\n",
       " 1.0,\n",
       " 1.0,\n",
       " 0.0,\n",
       " 2.0,\n",
       " 0.0,\n",
       " 1.0,\n",
       " 1.0,\n",
       " 2.0,\n",
       " 15.0,\n",
       " 28.0,\n",
       " 0.0,\n",
       " 0.0,\n",
       " 2.0,\n",
       " 5.0,\n",
       " 31.0,\n",
       " 1.0,\n",
       " 0.0,\n",
       " 2.0,\n",
       " 0.0,\n",
       " 1.0,\n",
       " 4.0,\n",
       " 0.0,\n",
       " 1.0,\n",
       " 1.0,\n",
       " 11.0,\n",
       " 0.0,\n",
       " 0.0,\n",
       " 31.0,\n",
       " 1.0,\n",
       " 17.0,\n",
       " 0.0,\n",
       " 0.0,\n",
       " 2.0,\n",
       " 12.0,\n",
       " 1.0,\n",
       " 1.0,\n",
       " 0.0,\n",
       " 0.0,\n",
       " 0.0,\n",
       " 2.0,\n",
       " 2.0,\n",
       " 1.0,\n",
       " 2.0,\n",
       " 0.0,\n",
       " 45.0,\n",
       " 0.0,\n",
       " 3.0,\n",
       " 0.0,\n",
       " 2.0,\n",
       " 0.0,\n",
       " 12.0,\n",
       " 1.0,\n",
       " 0.0,\n",
       " 1.0,\n",
       " 2.0,\n",
       " 2.0,\n",
       " 2.0,\n",
       " 0.0,\n",
       " 1.0,\n",
       " 0.0,\n",
       " 49.0,\n",
       " 1.0,\n",
       " 0.0,\n",
       " 8.0,\n",
       " 1.0,\n",
       " 49.0,\n",
       " 0.0,\n",
       " 1.0,\n",
       " 0.0,\n",
       " 0.0,\n",
       " 1.0,\n",
       " 4.0,\n",
       " 0.0,\n",
       " 48.0,\n",
       " 1.0,\n",
       " 0.0,\n",
       " 1.0,\n",
       " 0.0,\n",
       " 2.0,\n",
       " 2.0,\n",
       " 3.0,\n",
       " 0.0,\n",
       " 28.0,\n",
       " 1.0,\n",
       " 0.0,\n",
       " 0.0,\n",
       " 0.0,\n",
       " 1.0,\n",
       " 1.0,\n",
       " 1.0,\n",
       " 0.0,\n",
       " 2.0,\n",
       " 1.0,\n",
       " 1.0,\n",
       " 12.0,\n",
       " 0.0,\n",
       " 1.0,\n",
       " 47.0,\n",
       " 42.0,\n",
       " 1.0,\n",
       " 1.0,\n",
       " 1.0,\n",
       " 1.0,\n",
       " 1.0,\n",
       " 0.0,\n",
       " 8.0,\n",
       " 3.0,\n",
       " 12.0,\n",
       " 1.0,\n",
       " 3.0,\n",
       " 1.0,\n",
       " 1.0,\n",
       " 1.0,\n",
       " 5.0,\n",
       " 0.0,\n",
       " 1.0,\n",
       " 1.0,\n",
       " 1.0,\n",
       " 2.0,\n",
       " 1.0,\n",
       " 0.0,\n",
       " 5.0,\n",
       " 13.0,\n",
       " 1.0,\n",
       " 9.0,\n",
       " 2.0,\n",
       " 5.0,\n",
       " 0.0,\n",
       " 1.0,\n",
       " 9.0,\n",
       " 10.0,\n",
       " 1.0,\n",
       " 1.0,\n",
       " 4.0,\n",
       " 1.0,\n",
       " 23.0,\n",
       " 1.0,\n",
       " 0.0,\n",
       " 1.0,\n",
       " 1.0,\n",
       " 3.0,\n",
       " 2.0,\n",
       " 1.0,\n",
       " 10.0,\n",
       " 0.0,\n",
       " 1.0,\n",
       " 2.0,\n",
       " 11.0,\n",
       " 2.0,\n",
       " 0.0,\n",
       " 0.0,\n",
       " 1.0,\n",
       " 1.0,\n",
       " 0.0,\n",
       " 1.0,\n",
       " 1.0,\n",
       " 0.0,\n",
       " 1.0,\n",
       " 2.0,\n",
       " 0.0,\n",
       " 0.0,\n",
       " 0.0,\n",
       " 34.0,\n",
       " 1.0,\n",
       " 33.0,\n",
       " 61.0,\n",
       " 1.0,\n",
       " 4.0,\n",
       " 0.0,\n",
       " 1.0,\n",
       " 74.0,\n",
       " 3.0,\n",
       " 2.0,\n",
       " 1.0,\n",
       " 0.0,\n",
       " 0.0,\n",
       " 1.0,\n",
       " 1.0,\n",
       " 0.0,\n",
       " 0.0,\n",
       " 3.0,\n",
       " 0.0,\n",
       " 1.0,\n",
       " 0.0,\n",
       " 1.0,\n",
       " 0.0,\n",
       " 38.0,\n",
       " 7.0,\n",
       " 1.0,\n",
       " 1.0,\n",
       " 52.0,\n",
       " 1.0,\n",
       " 0.0,\n",
       " 23.0,\n",
       " 1.0,\n",
       " 1.0,\n",
       " 2.0,\n",
       " 2.0,\n",
       " 41.0,\n",
       " 14.0,\n",
       " 1.0,\n",
       " 0.0,\n",
       " 1.0,\n",
       " 38.0,\n",
       " 62.0,\n",
       " 7.0,\n",
       " 0.0,\n",
       " 2.0,\n",
       " 2.0,\n",
       " 1.0,\n",
       " 1.0,\n",
       " 42.0,\n",
       " 1.0,\n",
       " 1.0,\n",
       " 0.0,\n",
       " 0.0,\n",
       " 2.0,\n",
       " 1.0,\n",
       " 2.0,\n",
       " 4.0,\n",
       " 0.0,\n",
       " 38.0,\n",
       " 0.0,\n",
       " 1.0,\n",
       " 0.0,\n",
       " 39.0,\n",
       " 1.0,\n",
       " 0.0,\n",
       " 55.0,\n",
       " 1.0,\n",
       " 1.0,\n",
       " 0.0,\n",
       " 1.0,\n",
       " 1.0,\n",
       " 8.0,\n",
       " 0.0,\n",
       " 0.0,\n",
       " 3.0,\n",
       " 1.0,\n",
       " 1.0,\n",
       " 1.0,\n",
       " 1.0,\n",
       " 5.0,\n",
       " 14.0,\n",
       " 0.0,\n",
       " 9.0,\n",
       " 1.0,\n",
       " 32.0,\n",
       " 0.0,\n",
       " 1.0,\n",
       " 0.0,\n",
       " 0.0,\n",
       " 1.0,\n",
       " 0.0,\n",
       " 2.0,\n",
       " 2.0,\n",
       " 44.0,\n",
       " 2.0,\n",
       " 0.0,\n",
       " 2.0,\n",
       " 3.0,\n",
       " 0.0,\n",
       " 4.0,\n",
       " 0.0,\n",
       " 1.0,\n",
       " 1.0,\n",
       " 1.0,\n",
       " 2.0,\n",
       " 0.0,\n",
       " 1.0,\n",
       " 40.0,\n",
       " 1.0,\n",
       " 5.0,\n",
       " 0.0,\n",
       " 1.0,\n",
       " 65.0,\n",
       " 1.0,\n",
       " 0.0,\n",
       " 11.0,\n",
       " 1.0,\n",
       " 2.0,\n",
       " 1.0,\n",
       " 14.0,\n",
       " 0.0,\n",
       " 10.0,\n",
       " 36.0,\n",
       " 0.0,\n",
       " 0.0,\n",
       " 24.0,\n",
       " 0.0,\n",
       " 39.0,\n",
       " 2.0,\n",
       " 1.0,\n",
       " 57.0,\n",
       " 1.0,\n",
       " 3.0,\n",
       " 1.0,\n",
       " 1.0,\n",
       " 54.0,\n",
       " 1.0,\n",
       " 1.0,\n",
       " 0.0,\n",
       " 3.0,\n",
       " 47.0,\n",
       " 0.0,\n",
       " 3.0,\n",
       " 1.0,\n",
       " 1.0,\n",
       " 0.0,\n",
       " 1.0,\n",
       " 1.0,\n",
       " 2.0,\n",
       " 0.0,\n",
       " 0.0,\n",
       " 1.0,\n",
       " 5.0,\n",
       " 0.0,\n",
       " 3.0,\n",
       " 1.0,\n",
       " 0.0,\n",
       " 1.0,\n",
       " 0.0,\n",
       " 1.0,\n",
       " 1.0,\n",
       " 0.0,\n",
       " 0.0,\n",
       " 1.0,\n",
       " 1.0,\n",
       " 39.0,\n",
       " 0.0,\n",
       " 5.0,\n",
       " 0.0,\n",
       " 2.0,\n",
       " 1.0,\n",
       " 0.0,\n",
       " 1.0,\n",
       " 0.0,\n",
       " 0.0,\n",
       " 0.0,\n",
       " 0.0,\n",
       " 57.0,\n",
       " 5.0,\n",
       " 1.0,\n",
       " 1.0,\n",
       " 0.0,\n",
       " 1.0,\n",
       " 26.0,\n",
       " 0.0,\n",
       " 1.0,\n",
       " 5.0,\n",
       " 3.0,\n",
       " 1.0,\n",
       " 1.0,\n",
       " 0.0,\n",
       " 2.0,\n",
       " 2.0,\n",
       " 2.0,\n",
       " 2.0,\n",
       " 0.0,\n",
       " 1.0,\n",
       " 1.0,\n",
       " 0.0,\n",
       " 1.0,\n",
       " 4.0,\n",
       " 1.0,\n",
       " 0.0,\n",
       " 51.0,\n",
       " 1.0,\n",
       " 0.0,\n",
       " 2.0,\n",
       " 16.0,\n",
       " 1.0,\n",
       " 1.0,\n",
       " 0.0,\n",
       " 1.0,\n",
       " 1.0,\n",
       " 2.0,\n",
       " 53.0,\n",
       " 47.0,\n",
       " 0.0,\n",
       " 2.0,\n",
       " 1.0,\n",
       " 1.0,\n",
       " 1.0,\n",
       " 2.0,\n",
       " 65.0,\n",
       " 1.0,\n",
       " 2.0,\n",
       " 0.0,\n",
       " 41.0,\n",
       " 0.0,\n",
       " 2.0,\n",
       " 1.0,\n",
       " 2.0,\n",
       " 1.0,\n",
       " 0.0,\n",
       " 1.0,\n",
       " 1.0,\n",
       " 1.0,\n",
       " 1.0,\n",
       " 1.0,\n",
       " 47.0,\n",
       " 57.0,\n",
       " 1.0,\n",
       " 66.0,\n",
       " 1.0,\n",
       " 0.0,\n",
       " 1.0,\n",
       " 1.0,\n",
       " 1.0,\n",
       " 28.0,\n",
       " 2.0,\n",
       " 0.0,\n",
       " 1.0,\n",
       " 0.0,\n",
       " 14.0,\n",
       " 2.0,\n",
       " 0.0,\n",
       " 1.0,\n",
       " 0.0,\n",
       " 0.0,\n",
       " 2.0,\n",
       " 2.0,\n",
       " 0.0,\n",
       " 1.0,\n",
       " 0.0,\n",
       " 4.0,\n",
       " 0.0,\n",
       " 10.0,\n",
       " 0.0,\n",
       " 2.0,\n",
       " 0.0,\n",
       " 0.0,\n",
       " 2.0,\n",
       " 1.0,\n",
       " 16.0,\n",
       " 1.0,\n",
       " 13.0,\n",
       " 1.0,\n",
       " 0.0,\n",
       " 1.0,\n",
       " 0.0,\n",
       " 1.0,\n",
       " 2.0,\n",
       " 1.0,\n",
       " 68.0,\n",
       " 9.0,\n",
       " 0.0,\n",
       " 0.0,\n",
       " 0.0,\n",
       " 0.0,\n",
       " 2.0,\n",
       " 1.0,\n",
       " 0.0,\n",
       " 8.0,\n",
       " 1.0,\n",
       " 1.0,\n",
       " 0.0,\n",
       " 2.0,\n",
       " 0.0,\n",
       " 1.0,\n",
       " 0.0,\n",
       " 0.0,\n",
       " 0.0,\n",
       " 1.0,\n",
       " 48.0,\n",
       " 2.0,\n",
       " 2.0,\n",
       " 0.0,\n",
       " 0.0,\n",
       " 0.0,\n",
       " 1.0,\n",
       " 2.0,\n",
       " 7.0,\n",
       " 0.0,\n",
       " 0.0,\n",
       " 3.0,\n",
       " 0.0,\n",
       " 0.0,\n",
       " 1.0,\n",
       " 3.0,\n",
       " 0.0,\n",
       " 0.0,\n",
       " 0.0,\n",
       " 2.0,\n",
       " 0.0,\n",
       " 3.0,\n",
       " 1.0,\n",
       " 2.0,\n",
       " 1.0,\n",
       " 1.0,\n",
       " 1.0,\n",
       " 0.0,\n",
       " 30.0,\n",
       " 1.0,\n",
       " 1.0,\n",
       " 1.0,\n",
       " 1.0,\n",
       " 0.0,\n",
       " 66.0,\n",
       " 1.0,\n",
       " 1.0,\n",
       " 0.0,\n",
       " 2.0,\n",
       " 0.0,\n",
       " 4.0,\n",
       " 0.0,\n",
       " 50.0,\n",
       " 52.0,\n",
       " 28.0,\n",
       " 0.0,\n",
       " 0.0,\n",
       " 1.0,\n",
       " 1.0,\n",
       " 0.0,\n",
       " 26.0,\n",
       " 0.0,\n",
       " 41.0,\n",
       " 1.0,\n",
       " 0.0,\n",
       " 58.0,\n",
       " 1.0,\n",
       " 58.0,\n",
       " 1.0,\n",
       " 3.0,\n",
       " 1.0,\n",
       " 2.0,\n",
       " 1.0,\n",
       " 2.0,\n",
       " 1.0,\n",
       " 4.0,\n",
       " 1.0,\n",
       " 1.0,\n",
       " 0.0,\n",
       " 4.0,\n",
       " 2.0,\n",
       " 1.0,\n",
       " 1.0,\n",
       " 2.0,\n",
       " 0.0,\n",
       " 1.0,\n",
       " 1.0,\n",
       " 1.0,\n",
       " 2.0,\n",
       " 0.0,\n",
       " 6.0,\n",
       " 1.0,\n",
       " 2.0,\n",
       " 1.0,\n",
       " 2.0,\n",
       " 2.0,\n",
       " 0.0,\n",
       " 0.0,\n",
       " 0.0,\n",
       " 7.0,\n",
       " 24.0,\n",
       " 0.0,\n",
       " 0.0,\n",
       " 30.0,\n",
       " 2.0,\n",
       " 2.0,\n",
       " 2.0,\n",
       " 1.0,\n",
       " 0.0,\n",
       " 5.0,\n",
       " 2.0,\n",
       " 1.0,\n",
       " 54.0,\n",
       " 0.0,\n",
       " 0.0,\n",
       " 0.0,\n",
       " 0.0,\n",
       " 62.0,\n",
       " 2.0,\n",
       " 0.0,\n",
       " 0.0,\n",
       " 54.0,\n",
       " 1.0,\n",
       " 52.0,\n",
       " 1.0,\n",
       " 1.0,\n",
       " 1.0,\n",
       " 3.0,\n",
       " 9.0,\n",
       " 69.0,\n",
       " 62.0,\n",
       " 1.0,\n",
       " 0.0,\n",
       " 0.0,\n",
       " 0.0,\n",
       " 1.0,\n",
       " 51.0,\n",
       " 46.0,\n",
       " 1.0,\n",
       " 0.0,\n",
       " 1.0,\n",
       " 2.0,\n",
       " 5.0,\n",
       " 1.0,\n",
       " 22.0,\n",
       " 1.0,\n",
       " 66.0,\n",
       " 2.0,\n",
       " 1.0,\n",
       " 0.0,\n",
       " 2.0,\n",
       " 52.0,\n",
       " 0.0,\n",
       " 0.0,\n",
       " 0.0,\n",
       " 2.0,\n",
       " 0.0,\n",
       " 1.0,\n",
       " 0.0,\n",
       " 34.0,\n",
       " 2.0,\n",
       " 0.0,\n",
       " 1.0,\n",
       " 1.0,\n",
       " 1.0,\n",
       " 12.0,\n",
       " 2.0,\n",
       " 1.0,\n",
       " ...]"
      ]
     },
     "execution_count": 106,
     "metadata": {},
     "output_type": "execute_result"
    }
   ],
   "source": [
    "ls=[]\n",
    "for i in probs_gb:\n",
    "    ls.append(round(i[1]*100))\n",
    "ls"
   ]
  },
  {
   "cell_type": "code",
   "execution_count": 107,
   "metadata": {
    "scrolled": true
   },
   "outputs": [
    {
     "name": "stderr",
     "output_type": "stream",
     "text": [
      "C:\\ProgramData\\Anaconda3\\lib\\site-packages\\ipykernel_launcher.py:1: SettingWithCopyWarning: \n",
      "A value is trying to be set on a copy of a slice from a DataFrame.\n",
      "Try using .loc[row_indexer,col_indexer] = value instead\n",
      "\n",
      "See the caveats in the documentation: http://pandas.pydata.org/pandas-docs/stable/user_guide/indexing.html#returning-a-view-versus-a-copy\n",
      "  \"\"\"Entry point for launching an IPython kernel.\n"
     ]
    }
   ],
   "source": [
    "x_test['% conversion probablity score'] = ls"
   ]
  },
  {
   "cell_type": "code",
   "execution_count": 108,
   "metadata": {},
   "outputs": [
    {
     "data": {
      "text/html": [
       "<div>\n",
       "<style scoped>\n",
       "    .dataframe tbody tr th:only-of-type {\n",
       "        vertical-align: middle;\n",
       "    }\n",
       "\n",
       "    .dataframe tbody tr th {\n",
       "        vertical-align: top;\n",
       "    }\n",
       "\n",
       "    .dataframe thead th {\n",
       "        text-align: right;\n",
       "    }\n",
       "</style>\n",
       "<table border=\"1\" class=\"dataframe\">\n",
       "  <thead>\n",
       "    <tr style=\"text-align: right;\">\n",
       "      <th>browsing_url</th>\n",
       "      <th>cart</th>\n",
       "      <th>category</th>\n",
       "      <th>content</th>\n",
       "      <th>default</th>\n",
       "      <th>error</th>\n",
       "      <th>home</th>\n",
       "      <th>iroa</th>\n",
       "      <th>lorigreiner</th>\n",
       "      <th>mys</th>\n",
       "      <th>product</th>\n",
       "      <th>product-listing-category</th>\n",
       "      <th>product-listing-custom</th>\n",
       "      <th>product-listing-search</th>\n",
       "      <th>productNotFound</th>\n",
       "      <th>shoplive</th>\n",
       "      <th>signupcomplete</th>\n",
       "      <th>% conversion probablity score</th>\n",
       "    </tr>\n",
       "  </thead>\n",
       "  <tbody>\n",
       "    <tr>\n",
       "      <th>456126</th>\n",
       "      <td>0.000000</td>\n",
       "      <td>0.0</td>\n",
       "      <td>0.000000</td>\n",
       "      <td>0.000000</td>\n",
       "      <td>0.0</td>\n",
       "      <td>0.000000</td>\n",
       "      <td>0.00000</td>\n",
       "      <td>0.0</td>\n",
       "      <td>0.0</td>\n",
       "      <td>0.000000</td>\n",
       "      <td>0.011696</td>\n",
       "      <td>0.0</td>\n",
       "      <td>0.000000</td>\n",
       "      <td>0.0</td>\n",
       "      <td>0.0</td>\n",
       "      <td>0.0</td>\n",
       "      <td>0.0</td>\n",
       "    </tr>\n",
       "    <tr>\n",
       "      <th>10922</th>\n",
       "      <td>0.000000</td>\n",
       "      <td>0.0</td>\n",
       "      <td>0.006369</td>\n",
       "      <td>0.000000</td>\n",
       "      <td>0.0</td>\n",
       "      <td>0.017699</td>\n",
       "      <td>0.00226</td>\n",
       "      <td>0.0</td>\n",
       "      <td>0.0</td>\n",
       "      <td>0.004038</td>\n",
       "      <td>0.005848</td>\n",
       "      <td>0.0</td>\n",
       "      <td>0.000000</td>\n",
       "      <td>0.0</td>\n",
       "      <td>0.0</td>\n",
       "      <td>0.0</td>\n",
       "      <td>3.0</td>\n",
       "    </tr>\n",
       "    <tr>\n",
       "      <th>402610</th>\n",
       "      <td>0.000000</td>\n",
       "      <td>0.0</td>\n",
       "      <td>0.000000</td>\n",
       "      <td>0.000000</td>\n",
       "      <td>0.0</td>\n",
       "      <td>0.008850</td>\n",
       "      <td>0.00000</td>\n",
       "      <td>0.0</td>\n",
       "      <td>0.0</td>\n",
       "      <td>0.000000</td>\n",
       "      <td>0.000000</td>\n",
       "      <td>0.0</td>\n",
       "      <td>0.000000</td>\n",
       "      <td>0.0</td>\n",
       "      <td>0.0</td>\n",
       "      <td>0.0</td>\n",
       "      <td>0.0</td>\n",
       "    </tr>\n",
       "    <tr>\n",
       "      <th>16764</th>\n",
       "      <td>0.000000</td>\n",
       "      <td>0.0</td>\n",
       "      <td>0.000000</td>\n",
       "      <td>0.000000</td>\n",
       "      <td>0.0</td>\n",
       "      <td>0.017699</td>\n",
       "      <td>0.00000</td>\n",
       "      <td>0.0</td>\n",
       "      <td>0.0</td>\n",
       "      <td>0.001346</td>\n",
       "      <td>0.005848</td>\n",
       "      <td>0.0</td>\n",
       "      <td>0.008475</td>\n",
       "      <td>0.0</td>\n",
       "      <td>0.0</td>\n",
       "      <td>0.0</td>\n",
       "      <td>2.0</td>\n",
       "    </tr>\n",
       "    <tr>\n",
       "      <th>10536</th>\n",
       "      <td>0.000000</td>\n",
       "      <td>0.0</td>\n",
       "      <td>0.000000</td>\n",
       "      <td>0.000000</td>\n",
       "      <td>0.0</td>\n",
       "      <td>0.000000</td>\n",
       "      <td>0.00000</td>\n",
       "      <td>0.0</td>\n",
       "      <td>0.0</td>\n",
       "      <td>0.000000</td>\n",
       "      <td>0.005848</td>\n",
       "      <td>0.0</td>\n",
       "      <td>0.000000</td>\n",
       "      <td>0.0</td>\n",
       "      <td>0.0</td>\n",
       "      <td>0.0</td>\n",
       "      <td>0.0</td>\n",
       "    </tr>\n",
       "    <tr>\n",
       "      <th>...</th>\n",
       "      <td>...</td>\n",
       "      <td>...</td>\n",
       "      <td>...</td>\n",
       "      <td>...</td>\n",
       "      <td>...</td>\n",
       "      <td>...</td>\n",
       "      <td>...</td>\n",
       "      <td>...</td>\n",
       "      <td>...</td>\n",
       "      <td>...</td>\n",
       "      <td>...</td>\n",
       "      <td>...</td>\n",
       "      <td>...</td>\n",
       "      <td>...</td>\n",
       "      <td>...</td>\n",
       "      <td>...</td>\n",
       "      <td>...</td>\n",
       "    </tr>\n",
       "    <tr>\n",
       "      <th>340341</th>\n",
       "      <td>0.000000</td>\n",
       "      <td>0.0</td>\n",
       "      <td>0.006369</td>\n",
       "      <td>0.000000</td>\n",
       "      <td>0.0</td>\n",
       "      <td>0.017699</td>\n",
       "      <td>0.00000</td>\n",
       "      <td>0.0</td>\n",
       "      <td>0.0</td>\n",
       "      <td>0.009421</td>\n",
       "      <td>0.023392</td>\n",
       "      <td>0.0</td>\n",
       "      <td>0.000000</td>\n",
       "      <td>0.0</td>\n",
       "      <td>0.0</td>\n",
       "      <td>0.0</td>\n",
       "      <td>2.0</td>\n",
       "    </tr>\n",
       "    <tr>\n",
       "      <th>128234</th>\n",
       "      <td>0.000000</td>\n",
       "      <td>0.0</td>\n",
       "      <td>0.000000</td>\n",
       "      <td>0.003676</td>\n",
       "      <td>0.0</td>\n",
       "      <td>0.035398</td>\n",
       "      <td>0.00000</td>\n",
       "      <td>0.0</td>\n",
       "      <td>0.0</td>\n",
       "      <td>0.001346</td>\n",
       "      <td>0.000000</td>\n",
       "      <td>0.0</td>\n",
       "      <td>0.000000</td>\n",
       "      <td>0.0</td>\n",
       "      <td>0.0</td>\n",
       "      <td>0.0</td>\n",
       "      <td>7.0</td>\n",
       "    </tr>\n",
       "    <tr>\n",
       "      <th>53108</th>\n",
       "      <td>0.000000</td>\n",
       "      <td>0.0</td>\n",
       "      <td>0.057325</td>\n",
       "      <td>0.000000</td>\n",
       "      <td>0.0</td>\n",
       "      <td>0.008850</td>\n",
       "      <td>0.00226</td>\n",
       "      <td>0.0</td>\n",
       "      <td>0.0</td>\n",
       "      <td>0.010767</td>\n",
       "      <td>0.011696</td>\n",
       "      <td>0.0</td>\n",
       "      <td>0.000000</td>\n",
       "      <td>0.0</td>\n",
       "      <td>0.0</td>\n",
       "      <td>0.0</td>\n",
       "      <td>2.0</td>\n",
       "    </tr>\n",
       "    <tr>\n",
       "      <th>239921</th>\n",
       "      <td>0.020161</td>\n",
       "      <td>0.0</td>\n",
       "      <td>0.000000</td>\n",
       "      <td>0.005515</td>\n",
       "      <td>0.0</td>\n",
       "      <td>0.000000</td>\n",
       "      <td>0.00000</td>\n",
       "      <td>0.0</td>\n",
       "      <td>0.0</td>\n",
       "      <td>0.013459</td>\n",
       "      <td>0.023392</td>\n",
       "      <td>0.0</td>\n",
       "      <td>0.000000</td>\n",
       "      <td>0.0</td>\n",
       "      <td>0.0</td>\n",
       "      <td>0.0</td>\n",
       "      <td>49.0</td>\n",
       "    </tr>\n",
       "    <tr>\n",
       "      <th>289349</th>\n",
       "      <td>0.000000</td>\n",
       "      <td>0.0</td>\n",
       "      <td>0.012739</td>\n",
       "      <td>0.000000</td>\n",
       "      <td>0.0</td>\n",
       "      <td>0.035398</td>\n",
       "      <td>0.00000</td>\n",
       "      <td>0.0</td>\n",
       "      <td>0.0</td>\n",
       "      <td>0.008075</td>\n",
       "      <td>0.070175</td>\n",
       "      <td>0.0</td>\n",
       "      <td>0.000000</td>\n",
       "      <td>0.0</td>\n",
       "      <td>0.0</td>\n",
       "      <td>0.0</td>\n",
       "      <td>3.0</td>\n",
       "    </tr>\n",
       "  </tbody>\n",
       "</table>\n",
       "<p>103387 rows × 17 columns</p>\n",
       "</div>"
      ],
      "text/plain": [
       "browsing_url      cart  category   content   default  error      home  \\\n",
       "456126        0.000000       0.0  0.000000  0.000000    0.0  0.000000   \n",
       "10922         0.000000       0.0  0.006369  0.000000    0.0  0.017699   \n",
       "402610        0.000000       0.0  0.000000  0.000000    0.0  0.008850   \n",
       "16764         0.000000       0.0  0.000000  0.000000    0.0  0.017699   \n",
       "10536         0.000000       0.0  0.000000  0.000000    0.0  0.000000   \n",
       "...                ...       ...       ...       ...    ...       ...   \n",
       "340341        0.000000       0.0  0.006369  0.000000    0.0  0.017699   \n",
       "128234        0.000000       0.0  0.000000  0.003676    0.0  0.035398   \n",
       "53108         0.000000       0.0  0.057325  0.000000    0.0  0.008850   \n",
       "239921        0.020161       0.0  0.000000  0.005515    0.0  0.000000   \n",
       "289349        0.000000       0.0  0.012739  0.000000    0.0  0.035398   \n",
       "\n",
       "browsing_url     iroa  lorigreiner  mys   product  product-listing-category  \\\n",
       "456126        0.00000          0.0  0.0  0.000000                  0.011696   \n",
       "10922         0.00226          0.0  0.0  0.004038                  0.005848   \n",
       "402610        0.00000          0.0  0.0  0.000000                  0.000000   \n",
       "16764         0.00000          0.0  0.0  0.001346                  0.005848   \n",
       "10536         0.00000          0.0  0.0  0.000000                  0.005848   \n",
       "...               ...          ...  ...       ...                       ...   \n",
       "340341        0.00000          0.0  0.0  0.009421                  0.023392   \n",
       "128234        0.00000          0.0  0.0  0.001346                  0.000000   \n",
       "53108         0.00226          0.0  0.0  0.010767                  0.011696   \n",
       "239921        0.00000          0.0  0.0  0.013459                  0.023392   \n",
       "289349        0.00000          0.0  0.0  0.008075                  0.070175   \n",
       "\n",
       "browsing_url  product-listing-custom  product-listing-search  productNotFound  \\\n",
       "456126                           0.0                0.000000              0.0   \n",
       "10922                            0.0                0.000000              0.0   \n",
       "402610                           0.0                0.000000              0.0   \n",
       "16764                            0.0                0.008475              0.0   \n",
       "10536                            0.0                0.000000              0.0   \n",
       "...                              ...                     ...              ...   \n",
       "340341                           0.0                0.000000              0.0   \n",
       "128234                           0.0                0.000000              0.0   \n",
       "53108                            0.0                0.000000              0.0   \n",
       "239921                           0.0                0.000000              0.0   \n",
       "289349                           0.0                0.000000              0.0   \n",
       "\n",
       "browsing_url  shoplive  signupcomplete  % conversion probablity score  \n",
       "456126             0.0             0.0                            0.0  \n",
       "10922              0.0             0.0                            3.0  \n",
       "402610             0.0             0.0                            0.0  \n",
       "16764              0.0             0.0                            2.0  \n",
       "10536              0.0             0.0                            0.0  \n",
       "...                ...             ...                            ...  \n",
       "340341             0.0             0.0                            2.0  \n",
       "128234             0.0             0.0                            7.0  \n",
       "53108              0.0             0.0                            2.0  \n",
       "239921             0.0             0.0                           49.0  \n",
       "289349             0.0             0.0                            3.0  \n",
       "\n",
       "[103387 rows x 17 columns]"
      ]
     },
     "execution_count": 108,
     "metadata": {},
     "output_type": "execute_result"
    }
   ],
   "source": [
    "x_test"
   ]
  },
  {
   "cell_type": "markdown",
   "metadata": {},
   "source": [
    "AdaBoost Classification"
   ]
  },
  {
   "cell_type": "code",
   "execution_count": 102,
   "metadata": {},
   "outputs": [
    {
     "name": "stdout",
     "output_type": "stream",
     "text": [
      "Accuracy is 93.15581262634566\n",
      "Log_loss :\n",
      "2.3639182174534583\n",
      "Recal is :\n",
      "0.4462890625\n",
      "Precision is :\n",
      "0.5900581020012912\n",
      "F1_Score is :\n",
      "0.5082012788434807\n",
      "Confusion Matrix is :\n",
      "[[92655  2540]\n",
      " [ 4536  3656]]\n"
     ]
    }
   ],
   "source": [
    "ab = AdaBoostClassifier(n_estimators = 100, random_state=0)\n",
    "ab.fit(x_train, y_train)\n",
    "y_pred = ab.predict(x_test)\n",
    "print(\"Accuracy is\", metrics.accuracy_score(y_test, y_pred)*100)\n",
    "cm = confusion_matrix(y_test, y_pred)\n",
    "F1_Score=f1_score(y_test, y_pred)\n",
    "Recal= recall_score(y_test, y_pred)\n",
    "Precision =precision_score(y_test, y_pred)\n",
    "Log_loss=log_loss(y_test, y_pred)\n",
    "print(\"Log_loss :\", Log_loss, sep='\\n')\n",
    "print(\"Recal is :\", Recal, sep='\\n')\n",
    "print(\"Precision is :\", Precision, sep='\\n')\n",
    "print(\"F1_Score is :\", F1_Score, sep='\\n')\n",
    "print(\"Confusion Matrix is :\", cm, sep='\\n')"
   ]
  },
  {
   "cell_type": "code",
   "execution_count": 103,
   "metadata": {},
   "outputs": [
    {
     "data": {
      "text/plain": [
       "array([[0.51891899, 0.48108101],\n",
       "       [0.5090142 , 0.4909858 ],\n",
       "       [0.51621455, 0.48378545],\n",
       "       ...,\n",
       "       [0.51009923, 0.48990077],\n",
       "       [0.50042589, 0.49957411],\n",
       "       [0.50990871, 0.49009129]])"
      ]
     },
     "execution_count": 103,
     "metadata": {},
     "output_type": "execute_result"
    }
   ],
   "source": [
    "probs_ab = ab.predict_proba(x_test)\n",
    "probs_ab"
   ]
  },
  {
   "cell_type": "markdown",
   "metadata": {},
   "source": [
    "Feature Importance"
   ]
  },
  {
   "cell_type": "code",
   "execution_count": 104,
   "metadata": {},
   "outputs": [
    {
     "name": "stdout",
     "output_type": "stream",
     "text": [
      "Feature ranking:\n",
      "1. cart (0.210000)\n",
      "2. category (0.170000)\n",
      "3. content (0.110000)\n",
      "4. default (0.100000)\n",
      "5. error (0.100000)\n",
      "6. home (0.080000)\n",
      "7. iroa (0.080000)\n",
      "8. lorigreiner (0.050000)\n",
      "9. mys (0.050000)\n",
      "10. product (0.020000)\n",
      "11. product-listing-category (0.010000)\n",
      "12. product-listing-custom (0.010000)\n",
      "13. product-listing-search (0.010000)\n",
      "14. productNotFound (0.000000)\n",
      "15. shoplive (0.000000)\n",
      "16. signupcomplete (0.000000)\n"
     ]
    },
    {
     "data": {
      "image/png": "[encoded data removed]",
      "text/plain": [
       "<Figure size 432x288 with 1 Axes>"
      ]
     },
     "metadata": {
      "needs_background": "light"
     },
     "output_type": "display_data"
    }
   ],
   "source": [
    "col_names = list(x.columns.values)\n",
    "importances = ab.feature_importances_\n",
    "std = np.std([i.feature_importances_ for i in Random_Forest.estimators_],\n",
    "             axis=0)\n",
    "indices = np.argsort(importances)[::-1]\n",
    "\n",
    "# Print the feature ranking\n",
    "print(\"Feature ranking:\")\n",
    "\n",
    "for f in range(x_train.shape[1]):\n",
    "    print(\"%d. %s (%f)\" % (f + 1, col_names[f], importances[indices[f]]))\n",
    "\n",
    "# Plot the feature importances of the forest\n",
    "plt.figure()\n",
    "plt.title(\"Feature importances\")\n",
    "plt.bar(range(x_train.shape[1]), importances[indices],\n",
    "       color=\"r\", yerr=std[indices], align=\"center\")\n",
    "plt.xticks(range(x_train.shape[1]), indices)\n",
    "plt.xlim([-1, x_train.shape[1]])\n",
    "plt.show()"
   ]
  },
  {
   "cell_type": "code",
   "execution_count": 109,
   "metadata": {},
   "outputs": [
    {
     "data": {
      "text/html": [
       "<div>\n",
       "<style scoped>\n",
       "    .dataframe tbody tr th:only-of-type {\n",
       "        vertical-align: middle;\n",
       "    }\n",
       "\n",
       "    .dataframe tbody tr th {\n",
       "        vertical-align: top;\n",
       "    }\n",
       "\n",
       "    .dataframe thead th {\n",
       "        text-align: right;\n",
       "    }\n",
       "</style>\n",
       "<table border=\"1\" class=\"dataframe\">\n",
       "  <thead>\n",
       "    <tr style=\"text-align: right;\">\n",
       "      <th></th>\n",
       "      <th>user_id</th>\n",
       "      <th>Confirmed</th>\n",
       "      <th>hour</th>\n",
       "    </tr>\n",
       "  </thead>\n",
       "  <tbody>\n",
       "    <tr>\n",
       "      <th>user_id</th>\n",
       "      <td>1.000000</td>\n",
       "      <td>-0.000900</td>\n",
       "      <td>0.001228</td>\n",
       "    </tr>\n",
       "    <tr>\n",
       "      <th>Confirmed</th>\n",
       "      <td>-0.000900</td>\n",
       "      <td>1.000000</td>\n",
       "      <td>-0.080807</td>\n",
       "    </tr>\n",
       "    <tr>\n",
       "      <th>hour</th>\n",
       "      <td>0.001228</td>\n",
       "      <td>-0.080807</td>\n",
       "      <td>1.000000</td>\n",
       "    </tr>\n",
       "  </tbody>\n",
       "</table>\n",
       "</div>"
      ],
      "text/plain": [
       "            user_id  Confirmed      hour\n",
       "user_id    1.000000  -0.000900  0.001228\n",
       "Confirmed -0.000900   1.000000 -0.080807\n",
       "hour       0.001228  -0.080807  1.000000"
      ]
     },
     "execution_count": 109,
     "metadata": {},
     "output_type": "execute_result"
    }
   ],
   "source": [
    "Behavior.corr()"
   ]
  },
  {
   "cell_type": "code",
   "execution_count": 110,
   "metadata": {},
   "outputs": [
    {
     "data": {
      "text/html": [
       "<div>\n",
       "<style scoped>\n",
       "    .dataframe tbody tr th:only-of-type {\n",
       "        vertical-align: middle;\n",
       "    }\n",
       "\n",
       "    .dataframe tbody tr th {\n",
       "        vertical-align: top;\n",
       "    }\n",
       "\n",
       "    .dataframe thead th {\n",
       "        text-align: right;\n",
       "    }\n",
       "</style>\n",
       "<table border=\"1\" class=\"dataframe\">\n",
       "  <thead>\n",
       "    <tr style=\"text-align: right;\">\n",
       "      <th></th>\n",
       "      <th>timestamp</th>\n",
       "      <th>user_id</th>\n",
       "      <th>browsing_url</th>\n",
       "      <th>Confirmed</th>\n",
       "      <th>Time</th>\n",
       "      <th>Dates</th>\n",
       "      <th>hour</th>\n",
       "    </tr>\n",
       "  </thead>\n",
       "  <tbody>\n",
       "    <tr>\n",
       "      <th>101128</th>\n",
       "      <td>2017-07-26 00:47:58.32</td>\n",
       "      <td>544439661706349</td>\n",
       "      <td>product</td>\n",
       "      <td>0</td>\n",
       "      <td>00:47:58.320000</td>\n",
       "      <td>2017-07-26</td>\n",
       "      <td>0</td>\n",
       "    </tr>\n",
       "    <tr>\n",
       "      <th>101129</th>\n",
       "      <td>2017-07-26 00:09:03.411</td>\n",
       "      <td>634394594974068</td>\n",
       "      <td>content</td>\n",
       "      <td>0</td>\n",
       "      <td>00:09:03.411000</td>\n",
       "      <td>2017-07-26</td>\n",
       "      <td>0</td>\n",
       "    </tr>\n",
       "    <tr>\n",
       "      <th>101130</th>\n",
       "      <td>2017-07-26 00:09:09.116</td>\n",
       "      <td>634394594974068</td>\n",
       "      <td>content</td>\n",
       "      <td>0</td>\n",
       "      <td>00:09:09.116000</td>\n",
       "      <td>2017-07-26</td>\n",
       "      <td>0</td>\n",
       "    </tr>\n",
       "    <tr>\n",
       "      <th>101131</th>\n",
       "      <td>2017-07-26 00:11:07.333</td>\n",
       "      <td>634394594974068</td>\n",
       "      <td>content</td>\n",
       "      <td>0</td>\n",
       "      <td>00:11:07.333000</td>\n",
       "      <td>2017-07-26</td>\n",
       "      <td>0</td>\n",
       "    </tr>\n",
       "    <tr>\n",
       "      <th>101132</th>\n",
       "      <td>2017-07-26 00:11:29.141</td>\n",
       "      <td>634394594974068</td>\n",
       "      <td>content</td>\n",
       "      <td>0</td>\n",
       "      <td>00:11:29.141000</td>\n",
       "      <td>2017-07-26</td>\n",
       "      <td>0</td>\n",
       "    </tr>\n",
       "    <tr>\n",
       "      <th>...</th>\n",
       "      <td>...</td>\n",
       "      <td>...</td>\n",
       "      <td>...</td>\n",
       "      <td>...</td>\n",
       "      <td>...</td>\n",
       "      <td>...</td>\n",
       "      <td>...</td>\n",
       "    </tr>\n",
       "    <tr>\n",
       "      <th>5535918</th>\n",
       "      <td>2017-07-26 23:18:53.789</td>\n",
       "      <td>9221827579306644828</td>\n",
       "      <td>iroa</td>\n",
       "      <td>1</td>\n",
       "      <td>23:18:53.789000</td>\n",
       "      <td>2017-07-26</td>\n",
       "      <td>23</td>\n",
       "    </tr>\n",
       "    <tr>\n",
       "      <th>5535919</th>\n",
       "      <td>2017-07-26 23:19:03.394</td>\n",
       "      <td>9221827579306644828</td>\n",
       "      <td>iroa</td>\n",
       "      <td>1</td>\n",
       "      <td>23:19:03.394000</td>\n",
       "      <td>2017-07-26</td>\n",
       "      <td>23</td>\n",
       "    </tr>\n",
       "    <tr>\n",
       "      <th>5535920</th>\n",
       "      <td>2017-07-26 23:19:11.569</td>\n",
       "      <td>9221827579306644828</td>\n",
       "      <td>product</td>\n",
       "      <td>1</td>\n",
       "      <td>23:19:11.569000</td>\n",
       "      <td>2017-07-26</td>\n",
       "      <td>23</td>\n",
       "    </tr>\n",
       "    <tr>\n",
       "      <th>5535921</th>\n",
       "      <td>2017-07-26 23:21:56.085</td>\n",
       "      <td>9221827579306644828</td>\n",
       "      <td>product</td>\n",
       "      <td>1</td>\n",
       "      <td>23:21:56.085000</td>\n",
       "      <td>2017-07-26</td>\n",
       "      <td>23</td>\n",
       "    </tr>\n",
       "    <tr>\n",
       "      <th>5535922</th>\n",
       "      <td>2017-07-26 23:16:32.835</td>\n",
       "      <td>9223103337073924884</td>\n",
       "      <td>product</td>\n",
       "      <td>0</td>\n",
       "      <td>23:16:32.835000</td>\n",
       "      <td>2017-07-26</td>\n",
       "      <td>23</td>\n",
       "    </tr>\n",
       "  </tbody>\n",
       "</table>\n",
       "<p>4128045 rows × 7 columns</p>\n",
       "</div>"
      ],
      "text/plain": [
       "                       timestamp              user_id browsing_url  Confirmed  \\\n",
       "101128    2017-07-26 00:47:58.32      544439661706349      product          0   \n",
       "101129   2017-07-26 00:09:03.411      634394594974068      content          0   \n",
       "101130   2017-07-26 00:09:09.116      634394594974068      content          0   \n",
       "101131   2017-07-26 00:11:07.333      634394594974068      content          0   \n",
       "101132   2017-07-26 00:11:29.141      634394594974068      content          0   \n",
       "...                          ...                  ...          ...        ...   \n",
       "5535918  2017-07-26 23:18:53.789  9221827579306644828         iroa          1   \n",
       "5535919  2017-07-26 23:19:03.394  9221827579306644828         iroa          1   \n",
       "5535920  2017-07-26 23:19:11.569  9221827579306644828      product          1   \n",
       "5535921  2017-07-26 23:21:56.085  9221827579306644828      product          1   \n",
       "5535922  2017-07-26 23:16:32.835  9223103337073924884      product          0   \n",
       "\n",
       "                    Time       Dates  hour  \n",
       "101128   00:47:58.320000  2017-07-26     0  \n",
       "101129   00:09:03.411000  2017-07-26     0  \n",
       "101130   00:09:09.116000  2017-07-26     0  \n",
       "101131   00:11:07.333000  2017-07-26     0  \n",
       "101132   00:11:29.141000  2017-07-26     0  \n",
       "...                  ...         ...   ...  \n",
       "5535918  23:18:53.789000  2017-07-26    23  \n",
       "5535919  23:19:03.394000  2017-07-26    23  \n",
       "5535920  23:19:11.569000  2017-07-26    23  \n",
       "5535921  23:21:56.085000  2017-07-26    23  \n",
       "5535922  23:16:32.835000  2017-07-26    23  \n",
       "\n",
       "[4128045 rows x 7 columns]"
      ]
     },
     "execution_count": 110,
     "metadata": {},
     "output_type": "execute_result"
    }
   ],
   "source": [
    "Behavior"
   ]
  },
  {
   "cell_type": "markdown",
   "metadata": {},
   "source": [
    "# Optimization"
   ]
  },
  {
   "cell_type": "code",
   "execution_count": 111,
   "metadata": {},
   "outputs": [],
   "source": [
    "from sklearn.pipeline import make_pipeline,Pipeline\n",
    "from sklearn import tree\n",
    "from sklearn.metrics import make_scorer,recall_score,f1_score"
   ]
  },
  {
   "cell_type": "code",
   "execution_count": 112,
   "metadata": {
    "scrolled": true
   },
   "outputs": [
    {
     "data": {
      "text/plain": [
       "Pipeline(memory=None,\n",
       "         steps=[('decisiontreeclassifier',\n",
       "                 GradientBoostingClassifier(criterion='friedman_mse', init=None,\n",
       "                                            learning_rate=0.1, loss='deviance',\n",
       "                                            max_depth=3, max_features=None,\n",
       "                                            max_leaf_nodes=None,\n",
       "                                            min_impurity_decrease=0.0,\n",
       "                                            min_impurity_split=None,\n",
       "                                            min_samples_leaf=1,\n",
       "                                            min_samples_split=2,\n",
       "                                            min_weight_fraction_leaf=0.0,\n",
       "                                            n_estimators=100,\n",
       "                                            n_iter_no_change=None,\n",
       "                                            presort='auto', random_state=0,\n",
       "                                            subsample=1.0, tol=0.0001,\n",
       "                                            validation_fraction=0.1, verbose=0,\n",
       "                                            warm_start=False))],\n",
       "         verbose=False)"
      ]
     },
     "execution_count": 112,
     "metadata": {},
     "output_type": "execute_result"
    }
   ],
   "source": [
    "pipe_tree = Pipeline([('decisiontreeclassifier',gb)])\n",
    "pipe_tree"
   ]
  },
  {
   "cell_type": "code",
   "execution_count": 113,
   "metadata": {},
   "outputs": [],
   "source": [
    "macro_scorer = make_scorer(f1_score,greater_is_better=True)\n",
    "#score = make_scorer(((cross_val_score(dtc, X_train, Y_train, cv=5, scoring='recall_macro')).mean()),greater_is_better=False)"
   ]
  },
  {
   "cell_type": "code",
   "execution_count": 114,
   "metadata": {},
   "outputs": [],
   "source": [
    "depths = np.arange(1,5)\n",
    "depths\n",
    "num_leafs = [1, 5, 10, 20]"
   ]
  },
  {
   "cell_type": "code",
   "execution_count": 122,
   "metadata": {},
   "outputs": [],
   "source": [
    "from sklearn.model_selection import GridSearchCV\n",
    "param_grid = [{'decisiontreeclassifier__max_depth':depths,\n",
    "              'decisiontreeclassifier__min_samples_leaf':num_leafs,'decisiontreeclassifier__random_state':[100,200,300,786]}]"
   ]
  },
  {
   "cell_type": "code",
   "execution_count": 123,
   "metadata": {},
   "outputs": [
    {
     "data": {
      "text/plain": [
       "dict_keys(['memory', 'steps', 'verbose', 'decisiontreeclassifier', 'decisiontreeclassifier__criterion', 'decisiontreeclassifier__init', 'decisiontreeclassifier__learning_rate', 'decisiontreeclassifier__loss', 'decisiontreeclassifier__max_depth', 'decisiontreeclassifier__max_features', 'decisiontreeclassifier__max_leaf_nodes', 'decisiontreeclassifier__min_impurity_decrease', 'decisiontreeclassifier__min_impurity_split', 'decisiontreeclassifier__min_samples_leaf', 'decisiontreeclassifier__min_samples_split', 'decisiontreeclassifier__min_weight_fraction_leaf', 'decisiontreeclassifier__n_estimators', 'decisiontreeclassifier__n_iter_no_change', 'decisiontreeclassifier__presort', 'decisiontreeclassifier__random_state', 'decisiontreeclassifier__subsample', 'decisiontreeclassifier__tol', 'decisiontreeclassifier__validation_fraction', 'decisiontreeclassifier__verbose', 'decisiontreeclassifier__warm_start'])"
      ]
     },
     "execution_count": 123,
     "metadata": {},
     "output_type": "execute_result"
    }
   ],
   "source": [
    "pipe_tree.get_params().keys()"
   ]
  },
  {
   "cell_type": "code",
   "execution_count": null,
   "metadata": {},
   "outputs": [],
   "source": [
    "#clf = GridSearchCV(pipe_tree,param_grid, scoring=macro_scorer, cv=4)\n",
    "\n",
    "clf = GridSearchCV(pipe_tree,param_grid,scoring=macro_scorer,cv=4)\n",
    "gd=clf.fit(x_train, y_train)"
   ]
  },
  {
   "cell_type": "code",
   "execution_count": 119,
   "metadata": {},
   "outputs": [
    {
     "data": {
      "text/html": [
       "<div>\n",
       "<style scoped>\n",
       "    .dataframe tbody tr th:only-of-type {\n",
       "        vertical-align: middle;\n",
       "    }\n",
       "\n",
       "    .dataframe tbody tr th {\n",
       "        vertical-align: top;\n",
       "    }\n",
       "\n",
       "    .dataframe thead th {\n",
       "        text-align: right;\n",
       "    }\n",
       "</style>\n",
       "<table border=\"1\" class=\"dataframe\">\n",
       "  <thead>\n",
       "    <tr style=\"text-align: right;\">\n",
       "      <th></th>\n",
       "      <th>mean_fit_time</th>\n",
       "      <th>std_fit_time</th>\n",
       "      <th>mean_score_time</th>\n",
       "      <th>std_score_time</th>\n",
       "      <th>param_decisiontreeclassifier__random_state</th>\n",
       "      <th>params</th>\n",
       "      <th>split0_test_score</th>\n",
       "      <th>split1_test_score</th>\n",
       "      <th>split2_test_score</th>\n",
       "      <th>split3_test_score</th>\n",
       "      <th>mean_test_score</th>\n",
       "      <th>std_test_score</th>\n",
       "      <th>rank_test_score</th>\n",
       "    </tr>\n",
       "  </thead>\n",
       "  <tbody>\n",
       "    <tr>\n",
       "      <th>0</th>\n",
       "      <td>61.321964</td>\n",
       "      <td>2.783700</td>\n",
       "      <td>0.437251</td>\n",
       "      <td>0.097010</td>\n",
       "      <td>1</td>\n",
       "      <td>{'decisiontreeclassifier__random_state': 1}</td>\n",
       "      <td>0.511946</td>\n",
       "      <td>0.511486</td>\n",
       "      <td>0.524991</td>\n",
       "      <td>0.508798</td>\n",
       "      <td>0.514305</td>\n",
       "      <td>0.006286</td>\n",
       "      <td>1</td>\n",
       "    </tr>\n",
       "    <tr>\n",
       "      <th>1</th>\n",
       "      <td>61.302887</td>\n",
       "      <td>3.060961</td>\n",
       "      <td>0.599413</td>\n",
       "      <td>0.139719</td>\n",
       "      <td>2</td>\n",
       "      <td>{'decisiontreeclassifier__random_state': 2}</td>\n",
       "      <td>0.511842</td>\n",
       "      <td>0.511486</td>\n",
       "      <td>0.524991</td>\n",
       "      <td>0.508798</td>\n",
       "      <td>0.514279</td>\n",
       "      <td>0.006296</td>\n",
       "      <td>4</td>\n",
       "    </tr>\n",
       "    <tr>\n",
       "      <th>2</th>\n",
       "      <td>61.896796</td>\n",
       "      <td>1.362530</td>\n",
       "      <td>0.479992</td>\n",
       "      <td>0.083076</td>\n",
       "      <td>3</td>\n",
       "      <td>{'decisiontreeclassifier__random_state': 3}</td>\n",
       "      <td>0.511946</td>\n",
       "      <td>0.511486</td>\n",
       "      <td>0.524991</td>\n",
       "      <td>0.508798</td>\n",
       "      <td>0.514305</td>\n",
       "      <td>0.006286</td>\n",
       "      <td>1</td>\n",
       "    </tr>\n",
       "    <tr>\n",
       "      <th>3</th>\n",
       "      <td>62.825755</td>\n",
       "      <td>6.049469</td>\n",
       "      <td>0.529210</td>\n",
       "      <td>0.128701</td>\n",
       "      <td>4</td>\n",
       "      <td>{'decisiontreeclassifier__random_state': 4}</td>\n",
       "      <td>0.511946</td>\n",
       "      <td>0.511486</td>\n",
       "      <td>0.524991</td>\n",
       "      <td>0.508798</td>\n",
       "      <td>0.514305</td>\n",
       "      <td>0.006286</td>\n",
       "      <td>1</td>\n",
       "    </tr>\n",
       "  </tbody>\n",
       "</table>\n",
       "</div>"
      ],
      "text/plain": [
       "   mean_fit_time  std_fit_time  mean_score_time  std_score_time  \\\n",
       "0      61.321964      2.783700         0.437251        0.097010   \n",
       "1      61.302887      3.060961         0.599413        0.139719   \n",
       "2      61.896796      1.362530         0.479992        0.083076   \n",
       "3      62.825755      6.049469         0.529210        0.128701   \n",
       "\n",
       "  param_decisiontreeclassifier__random_state  \\\n",
       "0                                          1   \n",
       "1                                          2   \n",
       "2                                          3   \n",
       "3                                          4   \n",
       "\n",
       "                                        params  split0_test_score  \\\n",
       "0  {'decisiontreeclassifier__random_state': 1}           0.511946   \n",
       "1  {'decisiontreeclassifier__random_state': 2}           0.511842   \n",
       "2  {'decisiontreeclassifier__random_state': 3}           0.511946   \n",
       "3  {'decisiontreeclassifier__random_state': 4}           0.511946   \n",
       "\n",
       "   split1_test_score  split2_test_score  split3_test_score  mean_test_score  \\\n",
       "0           0.511486           0.524991           0.508798         0.514305   \n",
       "1           0.511486           0.524991           0.508798         0.514279   \n",
       "2           0.511486           0.524991           0.508798         0.514305   \n",
       "3           0.511486           0.524991           0.508798         0.514305   \n",
       "\n",
       "   std_test_score  rank_test_score  \n",
       "0        0.006286                1  \n",
       "1        0.006296                4  \n",
       "2        0.006286                1  \n",
       "3        0.006286                1  "
      ]
     },
     "execution_count": 119,
     "metadata": {},
     "output_type": "execute_result"
    }
   ],
   "source": [
    "sdf = pd.DataFrame(gd.cv_results_)\n",
    "sdf"
   ]
  },
  {
   "cell_type": "code",
   "execution_count": 121,
   "metadata": {},
   "outputs": [
    {
     "data": {
      "text/plain": [
       "Pipeline(memory=None,\n",
       "         steps=[('decisiontreeclassifier',\n",
       "                 GradientBoostingClassifier(criterion='friedman_mse', init=None,\n",
       "                                            learning_rate=0.1, loss='deviance',\n",
       "                                            max_depth=3, max_features=None,\n",
       "                                            max_leaf_nodes=None,\n",
       "                                            min_impurity_decrease=0.0,\n",
       "                                            min_impurity_split=None,\n",
       "                                            min_samples_leaf=1,\n",
       "                                            min_samples_split=2,\n",
       "                                            min_weight_fraction_leaf=0.0,\n",
       "                                            n_estimators=100,\n",
       "                                            n_iter_no_change=None,\n",
       "                                            presort='auto', random_state=1,\n",
       "                                            subsample=1.0, tol=0.0001,\n",
       "                                            validation_fraction=0.1, verbose=0,\n",
       "                                            warm_start=False))],\n",
       "         verbose=False)"
      ]
     },
     "execution_count": 121,
     "metadata": {},
     "output_type": "execute_result"
    }
   ],
   "source": [
    "gd.best_estimator_"
   ]
  },
  {
   "cell_type": "code",
   "execution_count": null,
   "metadata": {},
   "outputs": [],
   "source": [
    "from sklearn.metrics import classification_report, confusion_matrix\n",
    "my_model = gd.best_estimator_\n",
    "my_model.fit(X_train, Y_train)\n",
    "pre_gd = my_model.predict(X_test)\n",
    "print(confusion_matrix(Y_test, pre_gd))\n",
    "print(classification_report(Y_test,pre_gd))\n"
   ]
  },
  {
   "cell_type": "code",
   "execution_count": null,
   "metadata": {},
   "outputs": [],
   "source": [
    "from sklearn.model_selection import cross_val_score"
   ]
  },
  {
   "cell_type": "code",
   "execution_count": null,
   "metadata": {},
   "outputs": [],
   "source": [
    "cross_val_score(gb, X_train, Y_train, cv=6, scoring='recall_macro')"
   ]
  },
  {
   "cell_type": "code",
   "execution_count": null,
   "metadata": {},
   "outputs": [],
   "source": [
    "#s=np.array([0.89637315, 0.86194351, 0.88899059, 0.85556682, 0.89526929])\n",
    "#str(s.mean())"
   ]
  }
 ],
 "metadata": {
  "kernelspec": {
   "display_name": "Python 3",
   "language": "python",
   "name": "python3"
  },
  "language_info": {
   "codemirror_mode": {
    "name": "ipython",
    "version": 3
   },
   "file_extension": ".py",
   "mimetype": "text/x-python",
   "name": "python",
   "nbconvert_exporter": "python",
   "pygments_lexer": "ipython3",
   "version": "3.7.3"
  }
 },
 "nbformat": 4,
 "nbformat_minor": 2
}
