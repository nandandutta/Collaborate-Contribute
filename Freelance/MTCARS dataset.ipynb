{
 "cells": [
  {
   "cell_type": "markdown",
   "metadata": {},
   "source": [
    "## Exploring the data using python "
   ]
  },
  {
   "cell_type": "code",
   "execution_count": 66,
   "metadata": {},
   "outputs": [],
   "source": [
    "# import all libraries\n",
    "import pandas as pd\n",
    "import numpy as np\n",
    "import matplotlib.pyplot as plt\n",
    "import seaborn as sns #for visualization\n",
    "%matplotlib inline\n",
    "sns.set(color_codes=True)"
   ]
  },
  {
   "cell_type": "code",
   "execution_count": 2,
   "metadata": {},
   "outputs": [],
   "source": [
    "# Loding MTCAR dataset\n",
    "df=pd.read_csv('CARS.csv')"
   ]
  },
  {
   "cell_type": "code",
   "execution_count": 3,
   "metadata": {},
   "outputs": [
    {
     "data": {
      "text/html": [
       "<div>\n",
       "<style scoped>\n",
       "    .dataframe tbody tr th:only-of-type {\n",
       "        vertical-align: middle;\n",
       "    }\n",
       "\n",
       "    .dataframe tbody tr th {\n",
       "        vertical-align: top;\n",
       "    }\n",
       "\n",
       "    .dataframe thead th {\n",
       "        text-align: right;\n",
       "    }\n",
       "</style>\n",
       "<table border=\"1\" class=\"dataframe\">\n",
       "  <thead>\n",
       "    <tr style=\"text-align: right;\">\n",
       "      <th></th>\n",
       "      <th>Make</th>\n",
       "      <th>Model</th>\n",
       "      <th>Type</th>\n",
       "      <th>Origin</th>\n",
       "      <th>DriveTrain</th>\n",
       "      <th>MSRP</th>\n",
       "      <th>Invoice</th>\n",
       "      <th>EngineSize</th>\n",
       "      <th>Cylinders</th>\n",
       "      <th>Horsepower</th>\n",
       "      <th>MPG_City</th>\n",
       "      <th>MPG_Highway</th>\n",
       "      <th>Weight</th>\n",
       "      <th>Wheelbase</th>\n",
       "      <th>Length</th>\n",
       "    </tr>\n",
       "  </thead>\n",
       "  <tbody>\n",
       "    <tr>\n",
       "      <td>0</td>\n",
       "      <td>Acura</td>\n",
       "      <td>MDX</td>\n",
       "      <td>SUV</td>\n",
       "      <td>Asia</td>\n",
       "      <td>All</td>\n",
       "      <td>$36,945</td>\n",
       "      <td>$33,337</td>\n",
       "      <td>3.5</td>\n",
       "      <td>6.0</td>\n",
       "      <td>265</td>\n",
       "      <td>17</td>\n",
       "      <td>23</td>\n",
       "      <td>4451</td>\n",
       "      <td>106</td>\n",
       "      <td>189</td>\n",
       "    </tr>\n",
       "    <tr>\n",
       "      <td>1</td>\n",
       "      <td>Acura</td>\n",
       "      <td>RSX Type S 2dr</td>\n",
       "      <td>Sedan</td>\n",
       "      <td>Asia</td>\n",
       "      <td>Front</td>\n",
       "      <td>$23,820</td>\n",
       "      <td>$21,761</td>\n",
       "      <td>2.0</td>\n",
       "      <td>4.0</td>\n",
       "      <td>200</td>\n",
       "      <td>24</td>\n",
       "      <td>31</td>\n",
       "      <td>2778</td>\n",
       "      <td>101</td>\n",
       "      <td>172</td>\n",
       "    </tr>\n",
       "    <tr>\n",
       "      <td>2</td>\n",
       "      <td>Acura</td>\n",
       "      <td>TSX 4dr</td>\n",
       "      <td>Sedan</td>\n",
       "      <td>Asia</td>\n",
       "      <td>Front</td>\n",
       "      <td>$26,990</td>\n",
       "      <td>$24,647</td>\n",
       "      <td>2.4</td>\n",
       "      <td>4.0</td>\n",
       "      <td>200</td>\n",
       "      <td>22</td>\n",
       "      <td>29</td>\n",
       "      <td>3230</td>\n",
       "      <td>105</td>\n",
       "      <td>183</td>\n",
       "    </tr>\n",
       "    <tr>\n",
       "      <td>3</td>\n",
       "      <td>Acura</td>\n",
       "      <td>TL 4dr</td>\n",
       "      <td>Sedan</td>\n",
       "      <td>Asia</td>\n",
       "      <td>Front</td>\n",
       "      <td>$33,195</td>\n",
       "      <td>$30,299</td>\n",
       "      <td>3.2</td>\n",
       "      <td>6.0</td>\n",
       "      <td>270</td>\n",
       "      <td>20</td>\n",
       "      <td>28</td>\n",
       "      <td>3575</td>\n",
       "      <td>108</td>\n",
       "      <td>186</td>\n",
       "    </tr>\n",
       "    <tr>\n",
       "      <td>4</td>\n",
       "      <td>Acura</td>\n",
       "      <td>3.5 RL 4dr</td>\n",
       "      <td>Sedan</td>\n",
       "      <td>Asia</td>\n",
       "      <td>Front</td>\n",
       "      <td>$43,755</td>\n",
       "      <td>$39,014</td>\n",
       "      <td>3.5</td>\n",
       "      <td>6.0</td>\n",
       "      <td>225</td>\n",
       "      <td>18</td>\n",
       "      <td>24</td>\n",
       "      <td>3880</td>\n",
       "      <td>115</td>\n",
       "      <td>197</td>\n",
       "    </tr>\n",
       "    <tr>\n",
       "      <td>...</td>\n",
       "      <td>...</td>\n",
       "      <td>...</td>\n",
       "      <td>...</td>\n",
       "      <td>...</td>\n",
       "      <td>...</td>\n",
       "      <td>...</td>\n",
       "      <td>...</td>\n",
       "      <td>...</td>\n",
       "      <td>...</td>\n",
       "      <td>...</td>\n",
       "      <td>...</td>\n",
       "      <td>...</td>\n",
       "      <td>...</td>\n",
       "      <td>...</td>\n",
       "      <td>...</td>\n",
       "    </tr>\n",
       "    <tr>\n",
       "      <td>423</td>\n",
       "      <td>Volvo</td>\n",
       "      <td>C70 LPT convertible 2dr</td>\n",
       "      <td>Sedan</td>\n",
       "      <td>Europe</td>\n",
       "      <td>Front</td>\n",
       "      <td>$40,565</td>\n",
       "      <td>$38,203</td>\n",
       "      <td>2.4</td>\n",
       "      <td>5.0</td>\n",
       "      <td>197</td>\n",
       "      <td>21</td>\n",
       "      <td>28</td>\n",
       "      <td>3450</td>\n",
       "      <td>105</td>\n",
       "      <td>186</td>\n",
       "    </tr>\n",
       "    <tr>\n",
       "      <td>424</td>\n",
       "      <td>Volvo</td>\n",
       "      <td>C70 HPT convertible 2dr</td>\n",
       "      <td>Sedan</td>\n",
       "      <td>Europe</td>\n",
       "      <td>Front</td>\n",
       "      <td>$42,565</td>\n",
       "      <td>$40,083</td>\n",
       "      <td>2.3</td>\n",
       "      <td>5.0</td>\n",
       "      <td>242</td>\n",
       "      <td>20</td>\n",
       "      <td>26</td>\n",
       "      <td>3450</td>\n",
       "      <td>105</td>\n",
       "      <td>186</td>\n",
       "    </tr>\n",
       "    <tr>\n",
       "      <td>425</td>\n",
       "      <td>Volvo</td>\n",
       "      <td>S80 T6 4dr</td>\n",
       "      <td>Sedan</td>\n",
       "      <td>Europe</td>\n",
       "      <td>Front</td>\n",
       "      <td>$45,210</td>\n",
       "      <td>$42,573</td>\n",
       "      <td>2.9</td>\n",
       "      <td>6.0</td>\n",
       "      <td>268</td>\n",
       "      <td>19</td>\n",
       "      <td>26</td>\n",
       "      <td>3653</td>\n",
       "      <td>110</td>\n",
       "      <td>190</td>\n",
       "    </tr>\n",
       "    <tr>\n",
       "      <td>426</td>\n",
       "      <td>Volvo</td>\n",
       "      <td>V40</td>\n",
       "      <td>Wagon</td>\n",
       "      <td>Europe</td>\n",
       "      <td>Front</td>\n",
       "      <td>$26,135</td>\n",
       "      <td>$24,641</td>\n",
       "      <td>1.9</td>\n",
       "      <td>4.0</td>\n",
       "      <td>170</td>\n",
       "      <td>22</td>\n",
       "      <td>29</td>\n",
       "      <td>2822</td>\n",
       "      <td>101</td>\n",
       "      <td>180</td>\n",
       "    </tr>\n",
       "    <tr>\n",
       "      <td>427</td>\n",
       "      <td>Volvo</td>\n",
       "      <td>XC70</td>\n",
       "      <td>Wagon</td>\n",
       "      <td>Europe</td>\n",
       "      <td>All</td>\n",
       "      <td>$35,145</td>\n",
       "      <td>$33,112</td>\n",
       "      <td>2.5</td>\n",
       "      <td>5.0</td>\n",
       "      <td>208</td>\n",
       "      <td>20</td>\n",
       "      <td>27</td>\n",
       "      <td>3823</td>\n",
       "      <td>109</td>\n",
       "      <td>186</td>\n",
       "    </tr>\n",
       "  </tbody>\n",
       "</table>\n",
       "<p>428 rows × 15 columns</p>\n",
       "</div>"
      ],
      "text/plain": [
       "      Make                    Model   Type  Origin DriveTrain     MSRP  \\\n",
       "0    Acura                      MDX    SUV    Asia        All  $36,945   \n",
       "1    Acura           RSX Type S 2dr  Sedan    Asia      Front  $23,820   \n",
       "2    Acura                  TSX 4dr  Sedan    Asia      Front  $26,990   \n",
       "3    Acura                   TL 4dr  Sedan    Asia      Front  $33,195   \n",
       "4    Acura               3.5 RL 4dr  Sedan    Asia      Front  $43,755   \n",
       "..     ...                      ...    ...     ...        ...      ...   \n",
       "423  Volvo  C70 LPT convertible 2dr  Sedan  Europe      Front  $40,565   \n",
       "424  Volvo  C70 HPT convertible 2dr  Sedan  Europe      Front  $42,565   \n",
       "425  Volvo               S80 T6 4dr  Sedan  Europe      Front  $45,210   \n",
       "426  Volvo                      V40  Wagon  Europe      Front  $26,135   \n",
       "427  Volvo                     XC70  Wagon  Europe        All  $35,145   \n",
       "\n",
       "     Invoice  EngineSize  Cylinders  Horsepower  MPG_City  MPG_Highway  \\\n",
       "0    $33,337         3.5        6.0         265        17           23   \n",
       "1    $21,761         2.0        4.0         200        24           31   \n",
       "2    $24,647         2.4        4.0         200        22           29   \n",
       "3    $30,299         3.2        6.0         270        20           28   \n",
       "4    $39,014         3.5        6.0         225        18           24   \n",
       "..       ...         ...        ...         ...       ...          ...   \n",
       "423  $38,203         2.4        5.0         197        21           28   \n",
       "424  $40,083         2.3        5.0         242        20           26   \n",
       "425  $42,573         2.9        6.0         268        19           26   \n",
       "426  $24,641         1.9        4.0         170        22           29   \n",
       "427  $33,112         2.5        5.0         208        20           27   \n",
       "\n",
       "     Weight  Wheelbase  Length  \n",
       "0      4451        106     189  \n",
       "1      2778        101     172  \n",
       "2      3230        105     183  \n",
       "3      3575        108     186  \n",
       "4      3880        115     197  \n",
       "..      ...        ...     ...  \n",
       "423    3450        105     186  \n",
       "424    3450        105     186  \n",
       "425    3653        110     190  \n",
       "426    2822        101     180  \n",
       "427    3823        109     186  \n",
       "\n",
       "[428 rows x 15 columns]"
      ]
     },
     "execution_count": 3,
     "metadata": {},
     "output_type": "execute_result"
    }
   ],
   "source": [
    "df"
   ]
  },
  {
   "cell_type": "code",
   "execution_count": 4,
   "metadata": {},
   "outputs": [
    {
     "data": {
      "text/plain": [
       "(428, 15)"
      ]
     },
     "execution_count": 4,
     "metadata": {},
     "output_type": "execute_result"
    }
   ],
   "source": [
    "#Determining instances and the number of features.\n",
    "df.shape"
   ]
  },
  {
   "cell_type": "code",
   "execution_count": 5,
   "metadata": {},
   "outputs": [
    {
     "name": "stdout",
     "output_type": "stream",
     "text": [
      "<class 'pandas.core.frame.DataFrame'>\n",
      "RangeIndex: 428 entries, 0 to 427\n",
      "Data columns (total 15 columns):\n",
      "Make           428 non-null object\n",
      "Model          428 non-null object\n",
      "Type           428 non-null object\n",
      "Origin         428 non-null object\n",
      "DriveTrain     428 non-null object\n",
      "MSRP           428 non-null object\n",
      "Invoice        428 non-null object\n",
      "EngineSize     428 non-null float64\n",
      "Cylinders      426 non-null float64\n",
      "Horsepower     428 non-null int64\n",
      "MPG_City       428 non-null int64\n",
      "MPG_Highway    428 non-null int64\n",
      "Weight         428 non-null int64\n",
      "Wheelbase      428 non-null int64\n",
      "Length         428 non-null int64\n",
      "dtypes: float64(2), int64(6), object(7)\n",
      "memory usage: 50.3+ KB\n"
     ]
    }
   ],
   "source": [
    "# Exploratory Data Analysis\n",
    "# Identidiy the type of data\n",
    "df.info()"
   ]
  },
  {
   "cell_type": "code",
   "execution_count": 6,
   "metadata": {},
   "outputs": [
    {
     "data": {
      "text/plain": [
       "Make           0\n",
       "Model          0\n",
       "Type           0\n",
       "Origin         0\n",
       "DriveTrain     0\n",
       "MSRP           0\n",
       "Invoice        0\n",
       "EngineSize     0\n",
       "Cylinders      2\n",
       "Horsepower     0\n",
       "MPG_City       0\n",
       "MPG_Highway    0\n",
       "Weight         0\n",
       "Wheelbase      0\n",
       "Length         0\n",
       "dtype: int64"
      ]
     },
     "execution_count": 6,
     "metadata": {},
     "output_type": "execute_result"
    }
   ],
   "source": [
    "# to identify any missing value\n",
    "df.isnull().sum()"
   ]
  },
  {
   "cell_type": "code",
   "execution_count": 7,
   "metadata": {},
   "outputs": [
    {
     "data": {
      "text/plain": [
       "Make           False\n",
       "Model          False\n",
       "Type           False\n",
       "Origin         False\n",
       "DriveTrain     False\n",
       "MSRP           False\n",
       "Invoice        False\n",
       "EngineSize     False\n",
       "Cylinders       True\n",
       "Horsepower     False\n",
       "MPG_City       False\n",
       "MPG_Highway    False\n",
       "Weight         False\n",
       "Wheelbase      False\n",
       "Length         False\n",
       "dtype: bool"
      ]
     },
     "execution_count": 7,
     "metadata": {},
     "output_type": "execute_result"
    }
   ],
   "source": [
    "df.isnull().any() # No Missing value in any field"
   ]
  },
  {
   "cell_type": "code",
   "execution_count": 8,
   "metadata": {},
   "outputs": [
    {
     "data": {
      "text/plain": [
       "(428, 15)"
      ]
     },
     "execution_count": 8,
     "metadata": {},
     "output_type": "execute_result"
    }
   ],
   "source": [
    "# Finding the dimensions of the data frame\n",
    "df.shape"
   ]
  },
  {
   "cell_type": "code",
   "execution_count": 9,
   "metadata": {},
   "outputs": [
    {
     "data": {
      "text/plain": [
       "2"
      ]
     },
     "execution_count": 9,
     "metadata": {},
     "output_type": "execute_result"
    }
   ],
   "source": [
    "# there are 12 columns and 32 rows\n",
    "df.ndim  # o/p is 2 which shows this is 2 dimentional data"
   ]
  },
  {
   "cell_type": "code",
   "execution_count": 10,
   "metadata": {},
   "outputs": [
    {
     "data": {
      "text/plain": [
       "6420"
      ]
     },
     "execution_count": 10,
     "metadata": {},
     "output_type": "execute_result"
    }
   ],
   "source": [
    "df.size  # Totala 384 values are available in 32 rows and 12 columns"
   ]
  },
  {
   "cell_type": "code",
   "execution_count": 11,
   "metadata": {},
   "outputs": [],
   "source": [
    "# findinf duplicates\n",
    "duplicates=df[df.duplicated()]"
   ]
  },
  {
   "cell_type": "code",
   "execution_count": 12,
   "metadata": {},
   "outputs": [
    {
     "data": {
      "text/html": [
       "<div>\n",
       "<style scoped>\n",
       "    .dataframe tbody tr th:only-of-type {\n",
       "        vertical-align: middle;\n",
       "    }\n",
       "\n",
       "    .dataframe tbody tr th {\n",
       "        vertical-align: top;\n",
       "    }\n",
       "\n",
       "    .dataframe thead th {\n",
       "        text-align: right;\n",
       "    }\n",
       "</style>\n",
       "<table border=\"1\" class=\"dataframe\">\n",
       "  <thead>\n",
       "    <tr style=\"text-align: right;\">\n",
       "      <th></th>\n",
       "      <th>Make</th>\n",
       "      <th>Model</th>\n",
       "      <th>Type</th>\n",
       "      <th>Origin</th>\n",
       "      <th>DriveTrain</th>\n",
       "      <th>MSRP</th>\n",
       "      <th>Invoice</th>\n",
       "      <th>EngineSize</th>\n",
       "      <th>Cylinders</th>\n",
       "      <th>Horsepower</th>\n",
       "      <th>MPG_City</th>\n",
       "      <th>MPG_Highway</th>\n",
       "      <th>Weight</th>\n",
       "      <th>Wheelbase</th>\n",
       "      <th>Length</th>\n",
       "    </tr>\n",
       "  </thead>\n",
       "  <tbody>\n",
       "  </tbody>\n",
       "</table>\n",
       "</div>"
      ],
      "text/plain": [
       "Empty DataFrame\n",
       "Columns: [Make, Model, Type, Origin, DriveTrain, MSRP, Invoice, EngineSize, Cylinders, Horsepower, MPG_City, MPG_Highway, Weight, Wheelbase, Length]\n",
       "Index: []"
      ]
     },
     "execution_count": 12,
     "metadata": {},
     "output_type": "execute_result"
    }
   ],
   "source": [
    "duplicates"
   ]
  },
  {
   "cell_type": "code",
   "execution_count": 13,
   "metadata": {},
   "outputs": [
    {
     "data": {
      "text/plain": [
       "Make           428\n",
       "Model          428\n",
       "Type           428\n",
       "Origin         428\n",
       "DriveTrain     428\n",
       "MSRP           428\n",
       "Invoice        428\n",
       "EngineSize     428\n",
       "Cylinders      426\n",
       "Horsepower     428\n",
       "MPG_City       428\n",
       "MPG_Highway    428\n",
       "Weight         428\n",
       "Wheelbase      428\n",
       "Length         428\n",
       "dtype: int64"
      ]
     },
     "execution_count": 13,
     "metadata": {},
     "output_type": "execute_result"
    }
   ],
   "source": [
    "df.count()"
   ]
  },
  {
   "cell_type": "code",
   "execution_count": 14,
   "metadata": {},
   "outputs": [],
   "source": [
    "df = df.drop_duplicates()"
   ]
  },
  {
   "cell_type": "code",
   "execution_count": 15,
   "metadata": {},
   "outputs": [
    {
     "data": {
      "text/plain": [
       "Make           428\n",
       "Model          428\n",
       "Type           428\n",
       "Origin         428\n",
       "DriveTrain     428\n",
       "MSRP           428\n",
       "Invoice        428\n",
       "EngineSize     428\n",
       "Cylinders      426\n",
       "Horsepower     428\n",
       "MPG_City       428\n",
       "MPG_Highway    428\n",
       "Weight         428\n",
       "Wheelbase      428\n",
       "Length         428\n",
       "dtype: int64"
      ]
     },
     "execution_count": 15,
     "metadata": {},
     "output_type": "execute_result"
    }
   ],
   "source": [
    "df.count()"
   ]
  },
  {
   "cell_type": "code",
   "execution_count": 16,
   "metadata": {},
   "outputs": [
    {
     "name": "stdout",
     "output_type": "stream",
     "text": [
      "Make           0\n",
      "Model          0\n",
      "Type           0\n",
      "Origin         0\n",
      "DriveTrain     0\n",
      "MSRP           0\n",
      "Invoice        0\n",
      "EngineSize     0\n",
      "Cylinders      2\n",
      "Horsepower     0\n",
      "MPG_City       0\n",
      "MPG_Highway    0\n",
      "Weight         0\n",
      "Wheelbase      0\n",
      "Length         0\n",
      "dtype: int64\n"
     ]
    }
   ],
   "source": [
    "# find out missing values\n",
    "print(df.isnull().sum())"
   ]
  },
  {
   "cell_type": "code",
   "execution_count": 17,
   "metadata": {},
   "outputs": [
    {
     "data": {
      "text/html": [
       "<div>\n",
       "<style scoped>\n",
       "    .dataframe tbody tr th:only-of-type {\n",
       "        vertical-align: middle;\n",
       "    }\n",
       "\n",
       "    .dataframe tbody tr th {\n",
       "        vertical-align: top;\n",
       "    }\n",
       "\n",
       "    .dataframe thead tr th {\n",
       "        text-align: left;\n",
       "    }\n",
       "\n",
       "    .dataframe thead tr:last-of-type th {\n",
       "        text-align: right;\n",
       "    }\n",
       "</style>\n",
       "<table border=\"1\" class=\"dataframe\">\n",
       "  <thead>\n",
       "    <tr>\n",
       "      <th></th>\n",
       "      <th colspan=\"4\" halign=\"left\">MSRP</th>\n",
       "    </tr>\n",
       "    <tr>\n",
       "      <th></th>\n",
       "      <th>count</th>\n",
       "      <th>unique</th>\n",
       "      <th>top</th>\n",
       "      <th>freq</th>\n",
       "    </tr>\n",
       "    <tr>\n",
       "      <th>Model</th>\n",
       "      <th></th>\n",
       "      <th></th>\n",
       "      <th></th>\n",
       "      <th></th>\n",
       "    </tr>\n",
       "  </thead>\n",
       "  <tbody>\n",
       "    <tr>\n",
       "      <td>3.5 RL 4dr</td>\n",
       "      <td>1</td>\n",
       "      <td>1</td>\n",
       "      <td>$43,755</td>\n",
       "      <td>1</td>\n",
       "    </tr>\n",
       "    <tr>\n",
       "      <td>3.5 RL w/Navigation 4dr</td>\n",
       "      <td>1</td>\n",
       "      <td>1</td>\n",
       "      <td>$46,100</td>\n",
       "      <td>1</td>\n",
       "    </tr>\n",
       "    <tr>\n",
       "      <td>300M 4dr</td>\n",
       "      <td>1</td>\n",
       "      <td>1</td>\n",
       "      <td>$29,865</td>\n",
       "      <td>1</td>\n",
       "    </tr>\n",
       "    <tr>\n",
       "      <td>300M Special Edition 4dr</td>\n",
       "      <td>1</td>\n",
       "      <td>1</td>\n",
       "      <td>$33,295</td>\n",
       "      <td>1</td>\n",
       "    </tr>\n",
       "    <tr>\n",
       "      <td>325Ci 2dr</td>\n",
       "      <td>1</td>\n",
       "      <td>1</td>\n",
       "      <td>$30,795</td>\n",
       "      <td>1</td>\n",
       "    </tr>\n",
       "    <tr>\n",
       "      <td>...</td>\n",
       "      <td>...</td>\n",
       "      <td>...</td>\n",
       "      <td>...</td>\n",
       "      <td>...</td>\n",
       "    </tr>\n",
       "    <tr>\n",
       "      <td>lon2 quad coupe 2dr</td>\n",
       "      <td>1</td>\n",
       "      <td>1</td>\n",
       "      <td>$14,850</td>\n",
       "      <td>1</td>\n",
       "    </tr>\n",
       "    <tr>\n",
       "      <td>lon3 4dr</td>\n",
       "      <td>1</td>\n",
       "      <td>1</td>\n",
       "      <td>$15,825</td>\n",
       "      <td>1</td>\n",
       "    </tr>\n",
       "    <tr>\n",
       "      <td>lon3 quad coupe 2dr</td>\n",
       "      <td>1</td>\n",
       "      <td>1</td>\n",
       "      <td>$16,350</td>\n",
       "      <td>1</td>\n",
       "    </tr>\n",
       "    <tr>\n",
       "      <td>xA 4dr hatch</td>\n",
       "      <td>1</td>\n",
       "      <td>1</td>\n",
       "      <td>$12,965</td>\n",
       "      <td>1</td>\n",
       "    </tr>\n",
       "    <tr>\n",
       "      <td>xB</td>\n",
       "      <td>1</td>\n",
       "      <td>1</td>\n",
       "      <td>$14,165</td>\n",
       "      <td>1</td>\n",
       "    </tr>\n",
       "  </tbody>\n",
       "</table>\n",
       "<p>425 rows × 4 columns</p>\n",
       "</div>"
      ],
      "text/plain": [
       "                          MSRP                     \n",
       "                         count unique      top freq\n",
       "Model                                              \n",
       "3.5 RL 4dr                   1      1  $43,755    1\n",
       "3.5 RL w/Navigation 4dr      1      1  $46,100    1\n",
       "300M 4dr                     1      1  $29,865    1\n",
       "300M Special Edition 4dr     1      1  $33,295    1\n",
       "325Ci 2dr                    1      1  $30,795    1\n",
       "...                        ...    ...      ...  ...\n",
       "lon2 quad coupe 2dr          1      1  $14,850    1\n",
       "lon3 4dr                     1      1  $15,825    1\n",
       "lon3 quad coupe 2dr          1      1  $16,350    1\n",
       "xA 4dr hatch                 1      1  $12,965    1\n",
       "xB                           1      1  $14,165    1\n",
       "\n",
       "[425 rows x 4 columns]"
      ]
     },
     "execution_count": 17,
     "metadata": {},
     "output_type": "execute_result"
    }
   ],
   "source": [
    "df[['Model' , 'MSRP']]. groupby(['Model']). describe()"
   ]
  },
  {
   "cell_type": "code",
   "execution_count": 18,
   "metadata": {},
   "outputs": [],
   "source": [
    "# Removing irrelevent features"
   ]
  },
  {
   "cell_type": "code",
   "execution_count": 19,
   "metadata": {},
   "outputs": [],
   "source": [
    "df= df.drop(['Model','DriveTrain','Invoice', 'Origin', 'Type'], axis=1)"
   ]
  },
  {
   "cell_type": "code",
   "execution_count": 20,
   "metadata": {},
   "outputs": [
    {
     "data": {
      "text/html": [
       "<div>\n",
       "<style scoped>\n",
       "    .dataframe tbody tr th:only-of-type {\n",
       "        vertical-align: middle;\n",
       "    }\n",
       "\n",
       "    .dataframe tbody tr th {\n",
       "        vertical-align: top;\n",
       "    }\n",
       "\n",
       "    .dataframe thead th {\n",
       "        text-align: right;\n",
       "    }\n",
       "</style>\n",
       "<table border=\"1\" class=\"dataframe\">\n",
       "  <thead>\n",
       "    <tr style=\"text-align: right;\">\n",
       "      <th></th>\n",
       "      <th>Make</th>\n",
       "      <th>MSRP</th>\n",
       "      <th>EngineSize</th>\n",
       "      <th>Cylinders</th>\n",
       "      <th>Horsepower</th>\n",
       "      <th>MPG_City</th>\n",
       "      <th>MPG_Highway</th>\n",
       "      <th>Weight</th>\n",
       "      <th>Wheelbase</th>\n",
       "      <th>Length</th>\n",
       "    </tr>\n",
       "  </thead>\n",
       "  <tbody>\n",
       "    <tr>\n",
       "      <td>0</td>\n",
       "      <td>Acura</td>\n",
       "      <td>$36,945</td>\n",
       "      <td>3.5</td>\n",
       "      <td>6.0</td>\n",
       "      <td>265</td>\n",
       "      <td>17</td>\n",
       "      <td>23</td>\n",
       "      <td>4451</td>\n",
       "      <td>106</td>\n",
       "      <td>189</td>\n",
       "    </tr>\n",
       "    <tr>\n",
       "      <td>1</td>\n",
       "      <td>Acura</td>\n",
       "      <td>$23,820</td>\n",
       "      <td>2.0</td>\n",
       "      <td>4.0</td>\n",
       "      <td>200</td>\n",
       "      <td>24</td>\n",
       "      <td>31</td>\n",
       "      <td>2778</td>\n",
       "      <td>101</td>\n",
       "      <td>172</td>\n",
       "    </tr>\n",
       "    <tr>\n",
       "      <td>2</td>\n",
       "      <td>Acura</td>\n",
       "      <td>$26,990</td>\n",
       "      <td>2.4</td>\n",
       "      <td>4.0</td>\n",
       "      <td>200</td>\n",
       "      <td>22</td>\n",
       "      <td>29</td>\n",
       "      <td>3230</td>\n",
       "      <td>105</td>\n",
       "      <td>183</td>\n",
       "    </tr>\n",
       "    <tr>\n",
       "      <td>3</td>\n",
       "      <td>Acura</td>\n",
       "      <td>$33,195</td>\n",
       "      <td>3.2</td>\n",
       "      <td>6.0</td>\n",
       "      <td>270</td>\n",
       "      <td>20</td>\n",
       "      <td>28</td>\n",
       "      <td>3575</td>\n",
       "      <td>108</td>\n",
       "      <td>186</td>\n",
       "    </tr>\n",
       "    <tr>\n",
       "      <td>4</td>\n",
       "      <td>Acura</td>\n",
       "      <td>$43,755</td>\n",
       "      <td>3.5</td>\n",
       "      <td>6.0</td>\n",
       "      <td>225</td>\n",
       "      <td>18</td>\n",
       "      <td>24</td>\n",
       "      <td>3880</td>\n",
       "      <td>115</td>\n",
       "      <td>197</td>\n",
       "    </tr>\n",
       "  </tbody>\n",
       "</table>\n",
       "</div>"
      ],
      "text/plain": [
       "    Make     MSRP  EngineSize  Cylinders  Horsepower  MPG_City  MPG_Highway  \\\n",
       "0  Acura  $36,945         3.5        6.0         265        17           23   \n",
       "1  Acura  $23,820         2.0        4.0         200        24           31   \n",
       "2  Acura  $26,990         2.4        4.0         200        22           29   \n",
       "3  Acura  $33,195         3.2        6.0         270        20           28   \n",
       "4  Acura  $43,755         3.5        6.0         225        18           24   \n",
       "\n",
       "   Weight  Wheelbase  Length  \n",
       "0    4451        106     189  \n",
       "1    2778        101     172  \n",
       "2    3230        105     183  \n",
       "3    3575        108     186  \n",
       "4    3880        115     197  "
      ]
     },
     "execution_count": 20,
     "metadata": {},
     "output_type": "execute_result"
    }
   ],
   "source": [
    "df.head(5)"
   ]
  },
  {
   "cell_type": "code",
   "execution_count": 21,
   "metadata": {},
   "outputs": [
    {
     "data": {
      "text/plain": [
       "4280"
      ]
     },
     "execution_count": 21,
     "metadata": {},
     "output_type": "execute_result"
    }
   ],
   "source": [
    "df.size"
   ]
  },
  {
   "cell_type": "code",
   "execution_count": 22,
   "metadata": {},
   "outputs": [
    {
     "data": {
      "text/plain": [
       "Make           428\n",
       "MSRP           428\n",
       "EngineSize     428\n",
       "Cylinders      426\n",
       "Horsepower     428\n",
       "MPG_City       428\n",
       "MPG_Highway    428\n",
       "Weight         428\n",
       "Wheelbase      428\n",
       "Length         428\n",
       "dtype: int64"
      ]
     },
     "execution_count": 22,
     "metadata": {},
     "output_type": "execute_result"
    }
   ],
   "source": [
    "df.count()"
   ]
  },
  {
   "cell_type": "code",
   "execution_count": 23,
   "metadata": {},
   "outputs": [
    {
     "name": "stdout",
     "output_type": "stream",
     "text": [
      "<class 'pandas.core.frame.DataFrame'>\n",
      "Int64Index: 428 entries, 0 to 427\n",
      "Data columns (total 10 columns):\n",
      "Make           428 non-null object\n",
      "MSRP           428 non-null object\n",
      "EngineSize     428 non-null float64\n",
      "Cylinders      426 non-null float64\n",
      "Horsepower     428 non-null int64\n",
      "MPG_City       428 non-null int64\n",
      "MPG_Highway    428 non-null int64\n",
      "Weight         428 non-null int64\n",
      "Wheelbase      428 non-null int64\n",
      "Length         428 non-null int64\n",
      "dtypes: float64(2), int64(6), object(2)\n",
      "memory usage: 36.8+ KB\n"
     ]
    }
   ],
   "source": [
    "# Exploratory data analysis\n",
    "# Identify type of data\n",
    "df.info()"
   ]
  },
  {
   "cell_type": "code",
   "execution_count": 24,
   "metadata": {},
   "outputs": [],
   "source": [
    "df= df.drop_duplicates(subset=\"MSRP\" , keep = 'first')"
   ]
  },
  {
   "cell_type": "code",
   "execution_count": 25,
   "metadata": {},
   "outputs": [
    {
     "data": {
      "text/plain": [
       "Make           410\n",
       "MSRP           410\n",
       "EngineSize     410\n",
       "Cylinders      408\n",
       "Horsepower     410\n",
       "MPG_City       410\n",
       "MPG_Highway    410\n",
       "Weight         410\n",
       "Wheelbase      410\n",
       "Length         410\n",
       "dtype: int64"
      ]
     },
     "execution_count": 25,
     "metadata": {},
     "output_type": "execute_result"
    }
   ],
   "source": [
    "df.count()"
   ]
  },
  {
   "cell_type": "code",
   "execution_count": 27,
   "metadata": {},
   "outputs": [
    {
     "data": {
      "text/plain": [
       "Make           False\n",
       "MSRP           False\n",
       "EngineSize     False\n",
       "Cylinders       True\n",
       "Horsepower     False\n",
       "MPG_City       False\n",
       "MPG_Highway    False\n",
       "Weight         False\n",
       "Wheelbase      False\n",
       "Length         False\n",
       "dtype: bool"
      ]
     },
     "execution_count": 27,
     "metadata": {},
     "output_type": "execute_result"
    }
   ],
   "source": [
    "# Finding missing or null values\n",
    "df.isnull().any()"
   ]
  },
  {
   "cell_type": "code",
   "execution_count": 28,
   "metadata": {},
   "outputs": [
    {
     "data": {
      "text/plain": [
       "Make           0\n",
       "MSRP           0\n",
       "EngineSize     0\n",
       "Cylinders      2\n",
       "Horsepower     0\n",
       "MPG_City       0\n",
       "MPG_Highway    0\n",
       "Weight         0\n",
       "Wheelbase      0\n",
       "Length         0\n",
       "dtype: int64"
      ]
     },
     "execution_count": 28,
     "metadata": {},
     "output_type": "execute_result"
    }
   ],
   "source": [
    "df.isnull().sum()"
   ]
  },
  {
   "cell_type": "code",
   "execution_count": 40,
   "metadata": {},
   "outputs": [],
   "source": [
    "df['Cylinders'].fillna(value=df['Cylinders'].mean(), inplace=True)\n"
   ]
  },
  {
   "cell_type": "code",
   "execution_count": 41,
   "metadata": {},
   "outputs": [
    {
     "data": {
      "text/plain": [
       "Make           0\n",
       "MSRP           0\n",
       "EngineSize     0\n",
       "Cylinders      0\n",
       "Horsepower     0\n",
       "MPG_City       0\n",
       "MPG_Highway    0\n",
       "Weight         0\n",
       "Wheelbase      0\n",
       "Length         0\n",
       "dtype: int64"
      ]
     },
     "execution_count": 41,
     "metadata": {},
     "output_type": "execute_result"
    }
   ],
   "source": [
    "df.isnull().sum()"
   ]
  },
  {
   "cell_type": "code",
   "execution_count": 43,
   "metadata": {},
   "outputs": [
    {
     "name": "stdout",
     "output_type": "stream",
     "text": [
      "<class 'pandas.core.frame.DataFrame'>\n",
      "Int64Index: 410 entries, 0 to 427\n",
      "Data columns (total 10 columns):\n",
      "Make           410 non-null object\n",
      "MSRP           410 non-null object\n",
      "EngineSize     410 non-null float64\n",
      "Cylinders      410 non-null float64\n",
      "Horsepower     410 non-null int64\n",
      "MPG_City       410 non-null int64\n",
      "MPG_Highway    410 non-null int64\n",
      "Weight         410 non-null int64\n",
      "Wheelbase      410 non-null int64\n",
      "Length         410 non-null int64\n",
      "dtypes: float64(2), int64(6), object(2)\n",
      "memory usage: 35.2+ KB\n"
     ]
    }
   ],
   "source": [
    "#Converting the object values to an integer type.\n",
    "df.info()"
   ]
  },
  {
   "cell_type": "code",
   "execution_count": 44,
   "metadata": {},
   "outputs": [
    {
     "data": {
      "text/plain": [
       "0      $36,945\n",
       "1      $23,820\n",
       "2      $26,990\n",
       "3      $33,195\n",
       "4      $43,755\n",
       "        ...   \n",
       "423    $40,565\n",
       "424    $42,565\n",
       "425    $45,210\n",
       "426    $26,135\n",
       "427    $35,145\n",
       "Name: MSRP, Length: 410, dtype: object"
      ]
     },
     "execution_count": 44,
     "metadata": {},
     "output_type": "execute_result"
    }
   ],
   "source": [
    "df['MSRP']\n",
    "# auther has stored price data type as  object type, we need to convert in integer type"
   ]
  },
  {
   "cell_type": "code",
   "execution_count": 45,
   "metadata": {},
   "outputs": [],
   "source": [
    "# Removing the formatting\n",
    "df['MSRP'] = [x.replace('$' , '') for x in df['MSRP']]"
   ]
  },
  {
   "cell_type": "code",
   "execution_count": 46,
   "metadata": {},
   "outputs": [
    {
     "data": {
      "text/plain": [
       "0      36,945\n",
       "1      23,820\n",
       "2      26,990\n",
       "3      33,195\n",
       "4      43,755\n",
       "        ...  \n",
       "423    40,565\n",
       "424    42,565\n",
       "425    45,210\n",
       "426    26,135\n",
       "427    35,145\n",
       "Name: MSRP, Length: 410, dtype: object"
      ]
     },
     "execution_count": 46,
     "metadata": {},
     "output_type": "execute_result"
    }
   ],
   "source": [
    "df['MSRP']"
   ]
  },
  {
   "cell_type": "code",
   "execution_count": 47,
   "metadata": {},
   "outputs": [],
   "source": [
    "df['MSRP'] = [x.replace(',' , '') for x in df['MSRP']]"
   ]
  },
  {
   "cell_type": "code",
   "execution_count": 48,
   "metadata": {},
   "outputs": [
    {
     "data": {
      "text/plain": [
       "0      36945\n",
       "1      23820\n",
       "2      26990\n",
       "3      33195\n",
       "4      43755\n",
       "       ...  \n",
       "423    40565\n",
       "424    42565\n",
       "425    45210\n",
       "426    26135\n",
       "427    35145\n",
       "Name: MSRP, Length: 410, dtype: object"
      ]
     },
     "execution_count": 48,
     "metadata": {},
     "output_type": "execute_result"
    }
   ],
   "source": [
    "df['MSRP']"
   ]
  },
  {
   "cell_type": "code",
   "execution_count": 49,
   "metadata": {},
   "outputs": [],
   "source": [
    "df['MSRP'] = pd.to_numeric(df['MSRP'])"
   ]
  },
  {
   "cell_type": "code",
   "execution_count": 50,
   "metadata": {},
   "outputs": [
    {
     "data": {
      "text/plain": [
       "0      36945\n",
       "1      23820\n",
       "2      26990\n",
       "3      33195\n",
       "4      43755\n",
       "       ...  \n",
       "423    40565\n",
       "424    42565\n",
       "425    45210\n",
       "426    26135\n",
       "427    35145\n",
       "Name: MSRP, Length: 410, dtype: int64"
      ]
     },
     "execution_count": 50,
     "metadata": {},
     "output_type": "execute_result"
    }
   ],
   "source": [
    "df['MSRP']"
   ]
  },
  {
   "cell_type": "code",
   "execution_count": 51,
   "metadata": {},
   "outputs": [
    {
     "data": {
      "text/plain": [
       "<matplotlib.axes._subplots.AxesSubplot at 0x25aee03c3c8>"
      ]
     },
     "execution_count": 51,
     "metadata": {},
     "output_type": "execute_result"
    },
    {
     "data": {
      "image/png": "[encoded data removed]",
      "text/plain": [
       "<Figure size 432x288 with 1 Axes>"
      ]
     },
     "metadata": {
      "needs_background": "light"
     },
     "output_type": "display_data"
    }
   ],
   "source": [
    "# Detecting outliers\n",
    "sns.boxplot( x= df['MSRP'])"
   ]
  },
  {
   "cell_type": "code",
   "execution_count": 61,
   "metadata": {},
   "outputs": [
    {
     "name": "stdout",
     "output_type": "stream",
     "text": [
      "MSRP           15471.25\n",
      "EngineSize         1.10\n",
      "Cylinders          2.00\n",
      "Horsepower        70.00\n",
      "MPG_City           3.00\n",
      "MPG_Highway        4.00\n",
      "Weight           642.25\n",
      "Wheelbase          8.00\n",
      "Length            15.00\n",
      "dtype: float64\n"
     ]
    }
   ],
   "source": [
    "# To remove outlier we will use IQR technique\n",
    "Q1 = df.quantile(.25)\n",
    "Q3 = df.quantile(.75)\n",
    "IQR = Q3-Q1\n",
    "print(IQR)"
   ]
  },
  {
   "cell_type": "code",
   "execution_count": 62,
   "metadata": {},
   "outputs": [],
   "source": [
    "df = df[~((df < (Q1 - 1.5 * IQR)) |(df > (Q3 + 1.5 * IQR))).any(axis=1)]"
   ]
  },
  {
   "cell_type": "code",
   "execution_count": 63,
   "metadata": {},
   "outputs": [
    {
     "data": {
      "text/plain": [
       "<matplotlib.axes._subplots.AxesSubplot at 0x25af0009348>"
      ]
     },
     "execution_count": 63,
     "metadata": {},
     "output_type": "execute_result"
    },
    {
     "data": {
      "image/png": "[encoded data removed]",
      "text/plain": [
       "<Figure size 432x288 with 1 Axes>"
      ]
     },
     "metadata": {
      "needs_background": "light"
     },
     "output_type": "display_data"
    }
   ],
   "source": [
    "sns.boxplot(x = df['MSRP'])"
   ]
  },
  {
   "cell_type": "code",
   "execution_count": 64,
   "metadata": {},
   "outputs": [
    {
     "data": {
      "text/html": [
       "<div>\n",
       "<style scoped>\n",
       "    .dataframe tbody tr th:only-of-type {\n",
       "        vertical-align: middle;\n",
       "    }\n",
       "\n",
       "    .dataframe tbody tr th {\n",
       "        vertical-align: top;\n",
       "    }\n",
       "\n",
       "    .dataframe thead th {\n",
       "        text-align: right;\n",
       "    }\n",
       "</style>\n",
       "<table border=\"1\" class=\"dataframe\">\n",
       "  <thead>\n",
       "    <tr style=\"text-align: right;\">\n",
       "      <th></th>\n",
       "      <th>MSRP</th>\n",
       "      <th>EngineSize</th>\n",
       "      <th>Cylinders</th>\n",
       "      <th>Horsepower</th>\n",
       "      <th>MPG_City</th>\n",
       "      <th>MPG_Highway</th>\n",
       "      <th>Weight</th>\n",
       "      <th>Wheelbase</th>\n",
       "      <th>Length</th>\n",
       "    </tr>\n",
       "  </thead>\n",
       "  <tbody>\n",
       "    <tr>\n",
       "      <td>count</td>\n",
       "      <td>285.000000</td>\n",
       "      <td>285.000000</td>\n",
       "      <td>285.000000</td>\n",
       "      <td>285.000000</td>\n",
       "      <td>285.000000</td>\n",
       "      <td>285.000000</td>\n",
       "      <td>285.000000</td>\n",
       "      <td>285.000000</td>\n",
       "      <td>285.000000</td>\n",
       "    </tr>\n",
       "    <tr>\n",
       "      <td>mean</td>\n",
       "      <td>29589.445614</td>\n",
       "      <td>3.049123</td>\n",
       "      <td>5.651393</td>\n",
       "      <td>207.943860</td>\n",
       "      <td>19.550877</td>\n",
       "      <td>26.631579</td>\n",
       "      <td>3518.554386</td>\n",
       "      <td>107.740351</td>\n",
       "      <td>186.557895</td>\n",
       "    </tr>\n",
       "    <tr>\n",
       "      <td>std</td>\n",
       "      <td>9932.957580</td>\n",
       "      <td>0.776032</td>\n",
       "      <td>1.205076</td>\n",
       "      <td>47.441406</td>\n",
       "      <td>2.378389</td>\n",
       "      <td>3.164680</td>\n",
       "      <td>453.719854</td>\n",
       "      <td>5.641517</td>\n",
       "      <td>11.459097</td>\n",
       "    </tr>\n",
       "    <tr>\n",
       "      <td>min</td>\n",
       "      <td>11155.000000</td>\n",
       "      <td>1.300000</td>\n",
       "      <td>4.000000</td>\n",
       "      <td>104.000000</td>\n",
       "      <td>14.000000</td>\n",
       "      <td>19.000000</td>\n",
       "      <td>2458.000000</td>\n",
       "      <td>95.000000</td>\n",
       "      <td>158.000000</td>\n",
       "    </tr>\n",
       "    <tr>\n",
       "      <td>25%</td>\n",
       "      <td>21965.000000</td>\n",
       "      <td>2.400000</td>\n",
       "      <td>4.000000</td>\n",
       "      <td>172.000000</td>\n",
       "      <td>18.000000</td>\n",
       "      <td>25.000000</td>\n",
       "      <td>3222.000000</td>\n",
       "      <td>104.000000</td>\n",
       "      <td>178.000000</td>\n",
       "    </tr>\n",
       "    <tr>\n",
       "      <td>50%</td>\n",
       "      <td>27560.000000</td>\n",
       "      <td>3.000000</td>\n",
       "      <td>6.000000</td>\n",
       "      <td>208.000000</td>\n",
       "      <td>20.000000</td>\n",
       "      <td>27.000000</td>\n",
       "      <td>3470.000000</td>\n",
       "      <td>107.000000</td>\n",
       "      <td>187.000000</td>\n",
       "    </tr>\n",
       "    <tr>\n",
       "      <td>75%</td>\n",
       "      <td>35995.000000</td>\n",
       "      <td>3.500000</td>\n",
       "      <td>6.000000</td>\n",
       "      <td>235.000000</td>\n",
       "      <td>21.000000</td>\n",
       "      <td>29.000000</td>\n",
       "      <td>3814.000000</td>\n",
       "      <td>112.000000</td>\n",
       "      <td>193.000000</td>\n",
       "    </tr>\n",
       "    <tr>\n",
       "      <td>max</td>\n",
       "      <td>59995.000000</td>\n",
       "      <td>5.000000</td>\n",
       "      <td>8.000000</td>\n",
       "      <td>340.000000</td>\n",
       "      <td>25.000000</td>\n",
       "      <td>34.000000</td>\n",
       "      <td>4740.000000</td>\n",
       "      <td>124.000000</td>\n",
       "      <td>215.000000</td>\n",
       "    </tr>\n",
       "  </tbody>\n",
       "</table>\n",
       "</div>"
      ],
      "text/plain": [
       "               MSRP  EngineSize   Cylinders  Horsepower    MPG_City  \\\n",
       "count    285.000000  285.000000  285.000000  285.000000  285.000000   \n",
       "mean   29589.445614    3.049123    5.651393  207.943860   19.550877   \n",
       "std     9932.957580    0.776032    1.205076   47.441406    2.378389   \n",
       "min    11155.000000    1.300000    4.000000  104.000000   14.000000   \n",
       "25%    21965.000000    2.400000    4.000000  172.000000   18.000000   \n",
       "50%    27560.000000    3.000000    6.000000  208.000000   20.000000   \n",
       "75%    35995.000000    3.500000    6.000000  235.000000   21.000000   \n",
       "max    59995.000000    5.000000    8.000000  340.000000   25.000000   \n",
       "\n",
       "       MPG_Highway       Weight   Wheelbase      Length  \n",
       "count   285.000000   285.000000  285.000000  285.000000  \n",
       "mean     26.631579  3518.554386  107.740351  186.557895  \n",
       "std       3.164680   453.719854    5.641517   11.459097  \n",
       "min      19.000000  2458.000000   95.000000  158.000000  \n",
       "25%      25.000000  3222.000000  104.000000  178.000000  \n",
       "50%      27.000000  3470.000000  107.000000  187.000000  \n",
       "75%      29.000000  3814.000000  112.000000  193.000000  \n",
       "max      34.000000  4740.000000  124.000000  215.000000  "
      ]
     },
     "execution_count": 64,
     "metadata": {},
     "output_type": "execute_result"
    }
   ],
   "source": [
    "df.describe()"
   ]
  },
  {
   "cell_type": "code",
   "execution_count": 80,
   "metadata": {},
   "outputs": [
    {
     "data": {
      "text/plain": [
       "<matplotlib.axes._subplots.AxesSubplot at 0x25af0158ac8>"
      ]
     },
     "execution_count": 80,
     "metadata": {},
     "output_type": "execute_result"
    },
    {
     "data": {
      "image/png": "[encoded data removed]",
      "text/plain": [
       "<Figure size 720x144 with 2 Axes>"
      ]
     },
     "metadata": {},
     "output_type": "display_data"
    }
   ],
   "source": [
    "# Plotting different features against one another\n",
    "\n",
    "\n",
    "plt.figure(figsize = (10,2))\n",
    "c1 = df.corr()\n",
    "sns.heatmap(c1,cmap=\"BrBG\",annot=True)"
   ]
  },
  {
   "cell_type": "code",
   "execution_count": 76,
   "metadata": {},
   "outputs": [
    {
     "data": {
      "text/plain": [
       "0.45603386377678967"
      ]
     },
     "execution_count": 76,
     "metadata": {},
     "output_type": "execute_result"
    }
   ],
   "source": [
    "#col1 = df['MSRP']\n",
    "#col2 = df['EngineSize']\n",
    "#c = col1.corr(col2)"
   ]
  },
  {
   "cell_type": "code",
   "execution_count": 81,
   "metadata": {},
   "outputs": [
    {
     "data": {
      "text/html": [
       "<div>\n",
       "<style scoped>\n",
       "    .dataframe tbody tr th:only-of-type {\n",
       "        vertical-align: middle;\n",
       "    }\n",
       "\n",
       "    .dataframe tbody tr th {\n",
       "        vertical-align: top;\n",
       "    }\n",
       "\n",
       "    .dataframe thead th {\n",
       "        text-align: right;\n",
       "    }\n",
       "</style>\n",
       "<table border=\"1\" class=\"dataframe\">\n",
       "  <thead>\n",
       "    <tr style=\"text-align: right;\">\n",
       "      <th></th>\n",
       "      <th>MSRP</th>\n",
       "      <th>EngineSize</th>\n",
       "      <th>Cylinders</th>\n",
       "      <th>Horsepower</th>\n",
       "      <th>MPG_City</th>\n",
       "      <th>MPG_Highway</th>\n",
       "      <th>Weight</th>\n",
       "      <th>Wheelbase</th>\n",
       "      <th>Length</th>\n",
       "    </tr>\n",
       "  </thead>\n",
       "  <tbody>\n",
       "    <tr>\n",
       "      <td>MSRP</td>\n",
       "      <td>1.000000</td>\n",
       "      <td>0.456034</td>\n",
       "      <td>0.570465</td>\n",
       "      <td>0.771034</td>\n",
       "      <td>-0.534851</td>\n",
       "      <td>-0.356954</td>\n",
       "      <td>0.491218</td>\n",
       "      <td>0.266384</td>\n",
       "      <td>0.132489</td>\n",
       "    </tr>\n",
       "    <tr>\n",
       "      <td>EngineSize</td>\n",
       "      <td>0.456034</td>\n",
       "      <td>1.000000</td>\n",
       "      <td>0.856508</td>\n",
       "      <td>0.652768</td>\n",
       "      <td>-0.712373</td>\n",
       "      <td>-0.557931</td>\n",
       "      <td>0.703814</td>\n",
       "      <td>0.598813</td>\n",
       "      <td>0.599242</td>\n",
       "    </tr>\n",
       "    <tr>\n",
       "      <td>Cylinders</td>\n",
       "      <td>0.570465</td>\n",
       "      <td>0.856508</td>\n",
       "      <td>1.000000</td>\n",
       "      <td>0.692090</td>\n",
       "      <td>-0.723498</td>\n",
       "      <td>-0.539867</td>\n",
       "      <td>0.610177</td>\n",
       "      <td>0.492505</td>\n",
       "      <td>0.460674</td>\n",
       "    </tr>\n",
       "    <tr>\n",
       "      <td>Horsepower</td>\n",
       "      <td>0.771034</td>\n",
       "      <td>0.652768</td>\n",
       "      <td>0.692090</td>\n",
       "      <td>1.000000</td>\n",
       "      <td>-0.671189</td>\n",
       "      <td>-0.496352</td>\n",
       "      <td>0.548945</td>\n",
       "      <td>0.354069</td>\n",
       "      <td>0.256087</td>\n",
       "    </tr>\n",
       "    <tr>\n",
       "      <td>MPG_City</td>\n",
       "      <td>-0.534851</td>\n",
       "      <td>-0.712373</td>\n",
       "      <td>-0.723498</td>\n",
       "      <td>-0.671189</td>\n",
       "      <td>1.000000</td>\n",
       "      <td>0.861631</td>\n",
       "      <td>-0.777533</td>\n",
       "      <td>-0.506539</td>\n",
       "      <td>-0.371127</td>\n",
       "    </tr>\n",
       "    <tr>\n",
       "      <td>MPG_Highway</td>\n",
       "      <td>-0.356954</td>\n",
       "      <td>-0.557931</td>\n",
       "      <td>-0.539867</td>\n",
       "      <td>-0.496352</td>\n",
       "      <td>0.861631</td>\n",
       "      <td>1.000000</td>\n",
       "      <td>-0.689260</td>\n",
       "      <td>-0.355249</td>\n",
       "      <td>-0.174814</td>\n",
       "    </tr>\n",
       "    <tr>\n",
       "      <td>Weight</td>\n",
       "      <td>0.491218</td>\n",
       "      <td>0.703814</td>\n",
       "      <td>0.610177</td>\n",
       "      <td>0.548945</td>\n",
       "      <td>-0.777533</td>\n",
       "      <td>-0.689260</td>\n",
       "      <td>1.000000</td>\n",
       "      <td>0.722581</td>\n",
       "      <td>0.583874</td>\n",
       "    </tr>\n",
       "    <tr>\n",
       "      <td>Wheelbase</td>\n",
       "      <td>0.266384</td>\n",
       "      <td>0.598813</td>\n",
       "      <td>0.492505</td>\n",
       "      <td>0.354069</td>\n",
       "      <td>-0.506539</td>\n",
       "      <td>-0.355249</td>\n",
       "      <td>0.722581</td>\n",
       "      <td>1.000000</td>\n",
       "      <td>0.846110</td>\n",
       "    </tr>\n",
       "    <tr>\n",
       "      <td>Length</td>\n",
       "      <td>0.132489</td>\n",
       "      <td>0.599242</td>\n",
       "      <td>0.460674</td>\n",
       "      <td>0.256087</td>\n",
       "      <td>-0.371127</td>\n",
       "      <td>-0.174814</td>\n",
       "      <td>0.583874</td>\n",
       "      <td>0.846110</td>\n",
       "      <td>1.000000</td>\n",
       "    </tr>\n",
       "  </tbody>\n",
       "</table>\n",
       "</div>"
      ],
      "text/plain": [
       "                 MSRP  EngineSize  Cylinders  Horsepower  MPG_City  \\\n",
       "MSRP         1.000000    0.456034   0.570465    0.771034 -0.534851   \n",
       "EngineSize   0.456034    1.000000   0.856508    0.652768 -0.712373   \n",
       "Cylinders    0.570465    0.856508   1.000000    0.692090 -0.723498   \n",
       "Horsepower   0.771034    0.652768   0.692090    1.000000 -0.671189   \n",
       "MPG_City    -0.534851   -0.712373  -0.723498   -0.671189  1.000000   \n",
       "MPG_Highway -0.356954   -0.557931  -0.539867   -0.496352  0.861631   \n",
       "Weight       0.491218    0.703814   0.610177    0.548945 -0.777533   \n",
       "Wheelbase    0.266384    0.598813   0.492505    0.354069 -0.506539   \n",
       "Length       0.132489    0.599242   0.460674    0.256087 -0.371127   \n",
       "\n",
       "             MPG_Highway    Weight  Wheelbase    Length  \n",
       "MSRP           -0.356954  0.491218   0.266384  0.132489  \n",
       "EngineSize     -0.557931  0.703814   0.598813  0.599242  \n",
       "Cylinders      -0.539867  0.610177   0.492505  0.460674  \n",
       "Horsepower     -0.496352  0.548945   0.354069  0.256087  \n",
       "MPG_City        0.861631 -0.777533  -0.506539 -0.371127  \n",
       "MPG_Highway     1.000000 -0.689260  -0.355249 -0.174814  \n",
       "Weight         -0.689260  1.000000   0.722581  0.583874  \n",
       "Wheelbase      -0.355249  0.722581   1.000000  0.846110  \n",
       "Length         -0.174814  0.583874   0.846110  1.000000  "
      ]
     },
     "execution_count": 81,
     "metadata": {},
     "output_type": "execute_result"
    }
   ],
   "source": [
    "c1"
   ]
  },
  {
   "cell_type": "code",
   "execution_count": 83,
   "metadata": {},
   "outputs": [
    {
     "data": {
      "image/png": "[encoded data removed]",
      "text/plain": [
       "<Figure size 360x360 with 1 Axes>"
      ]
     },
     "metadata": {},
     "output_type": "display_data"
    }
   ],
   "source": [
    "# Plotting a scatter plot\n",
    "fig, ax = plt.subplots(figsize=(5,5))\n",
    "ax.scatter(df['Horsepower'], df['MSRP'])\n",
    "plt.title('Scatter plot between MSRP and Horsepower')\n",
    "ax.set_xlabel('Horsepower')\n",
    "ax.set_ylabel('MSRP')\n",
    "plt.show()"
   ]
  },
  {
   "cell_type": "code",
   "execution_count": null,
   "metadata": {},
   "outputs": [],
   "source": [
    "# We can conclude that there is a high relationship between the MSRP (Price) and the Horsepower feature of the car. "
   ]
  }
 ],
 "metadata": {
  "kernelspec": {
   "display_name": "Python 3",
   "language": "python",
   "name": "python3"
  },
  "language_info": {
   "codemirror_mode": {
    "name": "ipython",
    "version": 3
   },
   "file_extension": ".py",
   "mimetype": "text/x-python",
   "name": "python",
   "nbconvert_exporter": "python",
   "pygments_lexer": "ipython3",
   "version": "3.7.4"
  }
 },
 "nbformat": 4,
 "nbformat_minor": 2
}
